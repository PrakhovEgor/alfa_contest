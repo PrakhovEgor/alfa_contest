{
 "cells": [
  {
   "cell_type": "markdown",
   "metadata": {
    "id": "2e1lti2Gim2z"
   },
   "source": [
    "## Import\n"
   ]
  },
  {
   "cell_type": "code",
   "execution_count": 222,
   "metadata": {
    "id": "UdKlRq1gh3RL",
    "ExecuteTime": {
     "end_time": "2024-05-16T07:58:52.760498200Z",
     "start_time": "2024-05-16T07:58:52.756293500Z"
    }
   },
   "outputs": [],
   "source": [
    "import pandas as pd\n",
    "import numpy as np\n",
    "from dateutil.relativedelta import relativedelta\n",
    "from sklearn.metrics import recall_score\n",
    "from lightgbm import LGBMClassifier\n",
    "from xgboost import XGBClassifier\n",
    "from sklearn.neighbors import KNeighborsClassifier\n",
    "from sklearn.metrics import roc_auc_score\n",
    "from sklearn.model_selection import train_test_split\n",
    "from sklearn.ensemble import RandomForestClassifier\n",
    "from sklearn.model_selection import RepeatedStratifiedKFold\n",
    "from sklearn.linear_model import LogisticRegression\n",
    "from sklearn.feature_selection import RFE\n",
    "from params import *\n",
    "\n",
    "import warnings\n",
    "warnings.filterwarnings(\"ignore\")"
   ]
  },
  {
   "cell_type": "code",
   "execution_count": 240,
   "outputs": [],
   "source": [
    "seed = 1251"
   ],
   "metadata": {
    "collapsed": false,
    "ExecuteTime": {
     "end_time": "2024-05-16T08:03:40.149708600Z",
     "start_time": "2024-05-16T08:03:40.130683900Z"
    }
   }
  },
  {
   "cell_type": "markdown",
   "metadata": {
    "id": "2dL1Hm79ip4a"
   },
   "source": [
    "## Data upload\n"
   ]
  },
  {
   "cell_type": "code",
   "execution_count": 2,
   "metadata": {
    "id": "O9gFvmnVij2b",
    "ExecuteTime": {
     "end_time": "2024-05-16T06:20:43.052751200Z",
     "start_time": "2024-05-16T06:20:43.047267400Z"
    }
   },
   "outputs": [],
   "source": [
    "path2folder = \"Alfa Campus Junior ML_ Материалы\""
   ]
  },
  {
   "cell_type": "code",
   "execution_count": 3,
   "metadata": {
    "id": "79BPOIbgjfgy",
    "ExecuteTime": {
     "end_time": "2024-05-16T06:20:43.123803900Z",
     "start_time": "2024-05-16T06:20:43.052751200Z"
    }
   },
   "outputs": [],
   "source": [
    "data = pd.read_csv(f\"{path2folder}/dataset.csv\")\n",
    "sub_example = pd.read_csv(f\"{path2folder}/submission_example.csv\")"
   ]
  },
  {
   "cell_type": "markdown",
   "source": [
    "## Data preporation"
   ],
   "metadata": {
    "collapsed": false
   }
  },
  {
   "cell_type": "code",
   "execution_count": 29,
   "outputs": [],
   "source": [
    "def prep4time_series_2(df, first_date, last_date, n_month=3, is_test=False):\n",
    "    \"\"\"\n",
    "    Добавление колонок с привлечением новых клиентов за каждый месяц и подсчёт приведенных клиентов по дням недели\n",
    "    :param df: Датасет\n",
    "    :param first_date: начальная дата\n",
    "    :param last_date: конечная дата\n",
    "    :param n_month: кол-во месяцев для выделения таргета\n",
    "    :param test: флаг тестовая ли выборка\n",
    "    :return: обработанный датасет\n",
    "    \"\"\"\n",
    "    if is_test == False:\n",
    "        date = f\"{(pd.to_datetime(last_date) - relativedelta(months=n_month - 1)).year}-{(pd.to_datetime(last_date) - relativedelta(months=n_month - 1)).month}\"\n",
    "        df[\"client_start_date_day\"] = pd.to_datetime(\n",
    "            df[pd.to_datetime(df[\"client_start_date\"]) < pd.to_datetime(date)][\"client_start_date\"]).dt.dayofweek\n",
    "    else:\n",
    "        df[\"client_start_date_day\"] = pd.to_datetime(df[\"client_start_date\"]).dt.dayofweek\n",
    "\n",
    "    partners_clients_days = df.groupby(\"clientbankpartner_pin\")[\"client_start_date_day\"].apply(lambda x: list(x))\n",
    "    counts = partners_clients_days.apply(lambda x: pd.Series(x).value_counts()).fillna(0)\n",
    "    counts.columns = [f\"day_{i}\" for i in range(7)]\n",
    "    df = df.join(counts, on=\"clientbankpartner_pin\")\n",
    "    df = df.drop(columns=[\"client_start_date_day\"])\n",
    "\n",
    "    first_date = pd.to_datetime(first_date)\n",
    "    last_date = pd.to_datetime(last_date)\n",
    "    dates_n = pd.date_range(start=first_date, end=last_date, freq='MS').tolist()\n",
    "    df[\"client_start_date\"] = pd.to_datetime(df[\"client_start_date\"])\n",
    "    new_dates = []\n",
    "\n",
    "    for date in dates_n:\n",
    "        month_data = df[\n",
    "            (df['client_start_date'].dt.year == date.year) & (df['client_start_date'].dt.month == date.month)].groupby(\n",
    "            \"clientbankpartner_pin\").apply(lambda x: x.shape[0]).reset_index()\n",
    "        month_data.columns = ['clientbankpartner_pin', f\"{date.year}-{date.month}\"]\n",
    "\n",
    "        df = pd.merge(df, month_data, on='clientbankpartner_pin', how='left')\n",
    "        df[f\"{date.year}-{date.month}\"] = df[f\"{date.year}-{date.month}\"].fillna(0).astype(int)\n",
    "        new_dates.append(f\"{date.year}-{date.month}\")\n",
    "    df = df.drop(columns=[\"client_pin\", \"client_start_date\"])\n",
    "    df = df.drop_duplicates()\n",
    "    return df\n",
    "\n",
    "\n",
    "def max_zero_month(x):\n",
    "    \"\"\"\n",
    "    Подсчёт неактивных месяцев\n",
    "    :param x: Строка в датасете\n",
    "    :return: число, кол-во месяцев с отсутствием новых привлечений\n",
    "    \"\"\"\n",
    "    is_zero_start = 0\n",
    "    k = 0\n",
    "    max_k = 0\n",
    "    for i in range(len(x)):\n",
    "        if x[i] > 0 and is_zero_start == 0:\n",
    "            is_zero_start = 1\n",
    "        elif x[i] > 0 and is_zero_start == 1:\n",
    "            max_k = max(k, max_k)\n",
    "            k = 0\n",
    "        elif x[i] == 0 and is_zero_start == 1:\n",
    "            k += 1\n",
    "    return max_k\n",
    "\n",
    "\n",
    "def prep_2(df, first_date=\"2019-3\", last_date=\"2020-11\", n_month=3, is_test=False):\n",
    "    \"\"\"\n",
    "    Обработка исходного датасета\n",
    "    :param df: датасет\n",
    "    :param first_date: начальная дата\n",
    "    :param last_date: конечная дата\n",
    "    :param n_month: кол-во месяцев, рассматриваемых для создания таргета\n",
    "    :param is_test: флаг тестовая ли выборка\n",
    "    :return: обработанный датасет\n",
    "    \"\"\"\n",
    "    df = prep4time_series_2(df, first_date, last_date, n_month, is_test)\n",
    "    df[\"partnerrolestart_date\"] = pd.to_datetime(df[\"partnerrolestart_date\"])\n",
    "    df[\"partnerrolestart_date_year\"] = df[\"partnerrolestart_date\"].dt.year\n",
    "    df[\"partnerrolestart_date_month\"] = df[\"partnerrolestart_date\"].dt.month\n",
    "    df[\"partnerrolestart_date_day\"] = df[\"partnerrolestart_date\"].dt.day\n",
    "    df[\"partnerrolestart_date_dayofweek\"] = df[\"partnerrolestart_date\"].dt.dayofweek\n",
    "\n",
    "    if is_test == False:\n",
    "        # Добавление таргета\n",
    "        target_cols = df.loc[:,\n",
    "                      f\"{(pd.to_datetime(last_date) - relativedelta(months=n_month - 1)).year}-{(pd.to_datetime(last_date) - relativedelta(months=n_month - 1)).month}\":last_date].columns\n",
    "        df[\"target\"] = df[target_cols].apply(lambda x: 0 if sum(x) > 0 else 1, axis=1)\n",
    "        df.drop(columns=target_cols, inplace=True)\n",
    "        new_first_date = first_date\n",
    "        new_last_date = f\"{(pd.to_datetime(last_date) - relativedelta(months=n_month)).year}-{(pd.to_datetime(last_date) - relativedelta(months=n_month)).month}\"\n",
    "    else:\n",
    "        df = df[df[\"clientbankpartner_pin\"].isin(sub_example[\"clientbankpartner_pin\"])]\n",
    "        # Удаление дубликатов\n",
    "        df.drop(index=df[df[\"clientbankpartner_pin\"] == 169900].index[1], inplace=True)\n",
    "        df.drop(index=df[df[\"clientbankpartner_pin\"] == 2754].index[1], inplace=True)\n",
    "        df.drop(index=df[df[\"clientbankpartner_pin\"] == 164386].index[1], inplace=True)\n",
    "        df.drop(index=df[df[\"clientbankpartner_pin\"] == 280151].index[1], inplace=True)\n",
    "        df.drop(index=df[df[\"clientbankpartner_pin\"] == 230807].index[1], inplace=True)\n",
    "        cols_to_drop = df.loc[:,\n",
    "                       first_date:f\"{(pd.to_datetime(first_date) + relativedelta(months=n_month - 1)).year}-{(pd.to_datetime(first_date) + relativedelta(months=n_month - 1)).month}\"].columns\n",
    "        df.drop(columns=cols_to_drop, inplace=True)\n",
    "        new_first_date = f\"{(pd.to_datetime(first_date) + relativedelta(months=n_month)).year}-{(pd.to_datetime(first_date) + relativedelta(months=n_month)).month}\"\n",
    "        new_last_date = last_date\n",
    "\n",
    "    # Добавление новых признаков\n",
    "    df[\"clients_count\"] = df.loc[:, new_first_date:new_last_date].apply(lambda x: sum(x), axis=1)\n",
    "    df = df[df[\"clients_count\"] > 0]\n",
    "    df[\"days_after_partnership\"] = df[\"partnerrolestart_date\"].apply(lambda x: (pd.to_datetime(new_last_date) - x).days)\n",
    "\n",
    "    df[\"active_months\"] = df.loc[:, new_first_date:new_last_date].apply(lambda x: (x > 0).sum(), axis=1)\n",
    "    df[\"last_active_month_ago\"] = df.loc[:, new_first_date:new_last_date].apply(\n",
    "        lambda x: len(x) - np.amax(np.where(x > 0)) if len(np.where(x > 0)[0]) > 0 else len(x), axis=1)\n",
    "    df[\"avg_clients_monthly\"] = df.loc[:, new_first_date:new_last_date].apply(\n",
    "        lambda x: np.mean(np.nan_to_num(x[np.amin(np.where(x > 0)):np.amax(np.where(x > 0))])) if len(\n",
    "            np.where(x > 0)[0]) > 1 else 0, axis=1)\n",
    "\n",
    "    df[\"median_clients_monthly\"] = df.loc[:, new_first_date:new_last_date].apply(\n",
    "        lambda x: np.median(np.nan_to_num(x[np.amin(np.where(x > 0)):np.amax(np.where(x > 0))])) if len(\n",
    "            np.where(x > 0)[0]) > 1 else 0, axis=1)\n",
    "\n",
    "    df[\"std_clients_monthly\"] = df.loc[:, new_first_date:new_last_date].apply(\n",
    "        lambda x: np.std(np.nan_to_num(x[np.amin(np.where(x > 0)):np.amax(np.where(x > 0))])) if len(\n",
    "            np.where(x > 0)[0]) > 1 else 0, axis=1)\n",
    "\n",
    "    df[\"var_clients_monthly\"] = df.loc[:, new_first_date:new_last_date].apply(\n",
    "        lambda x: np.var(np.nan_to_num(x[np.amin(np.where(x > 0)):np.amax(np.where(x > 0))])) if len(\n",
    "            np.where(x > 0)[0]) > 1 else 0, axis=1)\n",
    "\n",
    "    df[\"max_clients_monthly\"] = df.loc[:, new_first_date:new_last_date].apply(\n",
    "        lambda x: np.amax(np.nan_to_num(x[np.amin(np.where(x > 0)):np.amax(np.where(x > 0))])) if len(\n",
    "            np.where(x > 0)[0]) > 1 else x[0] if len(np.where(x > 0)[0]) == 1 else 0, axis=1)\n",
    "\n",
    "    df[\"max_zero_month\"] = df.loc[:, new_first_date:new_last_date].apply(lambda x: max_zero_month(x), axis=1)\n",
    "    df[\"is_any_1_month\"] = df.loc[:, new_first_date:new_last_date].apply(lambda x: 1 if x[-1] > 0 else 0, axis=1)\n",
    "    df[\"is_any_2_month\"] = df.loc[:, new_first_date:new_last_date].apply(lambda x: 1 if x[-2] > 0 else 0, axis=1)\n",
    "    df[\"is_any_3_month\"] = df.loc[:, new_first_date:new_last_date].apply(lambda x: 1 if x[-3] > 0 else 0, axis=1)\n",
    "\n",
    "    df[\"last_month_to_avg\"] = df[[new_last_date, \"avg_clients_monthly\"]].apply(\n",
    "        lambda x: 0 if x[1] == 0 else x[0] / x[1], axis=1)\n",
    "    df[\"last_month_to_all\"] = df.loc[:, new_first_date:new_last_date].apply(\n",
    "        lambda x: x[-1] / sum(x) if sum(x) != 0 else 0, axis=1)\n",
    "\n",
    "    avg_clients_count_per_ccode_data = df.groupby(\"partner_src_type_ccode\")[\"clients_count\"].mean()\n",
    "    df[\"avg_clients_count_per_ccode\"] = df[\"partner_src_type_ccode\"].apply(\n",
    "        lambda x: avg_clients_count_per_ccode_data[x])\n",
    "\n",
    "    one_hot = pd.get_dummies(df['partner_src_type_ccode']).astype(int)\n",
    "    one_hot.columns = [str(x) + \"_oh\" for x in one_hot.columns]\n",
    "    df.drop(columns=[\"partner_src_type_ccode\"], inplace=True)\n",
    "    df = df.join(one_hot)\n",
    "\n",
    "    new_cols = []\n",
    "    k = 1\n",
    "    for col in df.columns:  # Изменение названия колонок: (2019-03, 2019-04, ..., 2020-11) -> (1, 2, ..., 21)\n",
    "        if '-' in col:\n",
    "            new_cols.append(str(k))\n",
    "            k += 1\n",
    "        else:\n",
    "            new_cols.append(col)\n",
    "    df.columns = new_cols\n",
    "\n",
    "    for i in range(1, df.loc[:, '1':str(k - 1)].shape[1]):  # Подсчёт разницы между i + 1 и i месяцами\n",
    "        df[f\"{str(i + 1)}-{str(i)}\"] = df[str(i + 1)] - df[str(i)]\n",
    "\n",
    "    df[\"max_diff\"] = df.loc[:, \"2-1\":f\"{k - 1}-{k - 2}\"].apply(lambda x: np.amax(x), axis=1)\n",
    "    df[\"min_diff\"] = df.loc[:, \"2-1\":f\"{k - 1}-{k - 2}\"].apply(lambda x: np.amin(x), axis=1)\n",
    "\n",
    "    weekdays = [\"day_0\", \"day_1\", \"day_2\", \"day_3\", \"day_4\", \"day_5\", \"day_6\"]\n",
    "    df[\"avg_weekdays\"] = df[weekdays].apply(lambda x: np.mean(x), axis=1)\n",
    "    df[\"median_weekdays\"] = df[weekdays].apply(lambda x: np.median(x), axis=1)\n",
    "    df[\"std_weekdays\"] = df[weekdays].apply(lambda x: np.std(x), axis=1)\n",
    "    df[\"var_weekdays\"] = df[weekdays].apply(lambda x: np.var(x), axis=1)\n",
    "\n",
    "    df[\"weekday2weekends\"] = df[weekdays].apply(lambda x: sum(x[:-2]) / sum(x[-2:]) if sum(x[-2:]) > 0 else 0, axis=1)\n",
    "    df[\"weekday2all\"] = df[weekdays].apply(lambda x: sum(x[:-2]) / sum(x) if sum(x) > 0 else 0, axis=1)\n",
    "    df[\"weekends2all\"] = df[weekdays].apply(lambda x: sum(x[-2:]) / sum(x) if sum(x) > 0 else 0, axis=1)\n",
    "    df[\"active_in_weekends\"] = df[weekdays].apply(lambda x: 1 if sum(x[-2:]) > 0 else 0, axis=1)\n",
    "\n",
    "    return df"
   ],
   "metadata": {
    "collapsed": false,
    "ExecuteTime": {
     "end_time": "2024-05-16T06:27:42.408526500Z",
     "start_time": "2024-05-16T06:27:42.361755400Z"
    }
   }
  },
  {
   "cell_type": "code",
   "execution_count": 30,
   "outputs": [],
   "source": [
    "train = prep_2(data)\n",
    "test = prep_2(data, is_test=True)"
   ],
   "metadata": {
    "collapsed": false,
    "ExecuteTime": {
     "end_time": "2024-05-16T06:28:20.465229700Z",
     "start_time": "2024-05-16T06:27:42.983465200Z"
    }
   }
  },
  {
   "cell_type": "code",
   "execution_count": 31,
   "outputs": [
    {
     "data": {
      "text/plain": "        clientbankpartner_pin partnerrolestart_date  day_0  day_1  day_2  \\\n0                      122027            2019-02-01   18.0   17.0   10.0   \n1                      270277            2020-04-01   46.0   60.0   36.0   \n2                      238679            2020-02-01    0.0    0.0    1.0   \n3                      118398            2019-09-01   23.0   33.0    7.0   \n4                       10402            2019-01-01   69.0   77.0   51.0   \n...                       ...                   ...    ...    ...    ...   \n130537                 315972            2020-07-01    0.0    1.0    0.0   \n130538                   4177            2020-06-01    0.0    1.0    0.0   \n130630                 326846            2020-07-01    0.0    1.0    0.0   \n130645                   4478            2020-06-01    0.0    0.0    0.0   \n130651                 332692            2020-07-01    0.0    0.0    0.0   \n\n        day_3  day_4  day_5  day_6   1  ...  max_diff  min_diff  avg_weekdays  \\\n0        23.0    4.0   27.0   14.0   5  ...        30       -21     16.142857   \n1        51.0    0.0   55.0   25.0   0  ...        60       -23     39.000000   \n2         1.0    0.0    0.0    2.0   0  ...         1        -1      0.571429   \n3        32.0   20.0   45.0   32.0   0  ...        16       -23     27.428571   \n4        71.0   44.0   40.0   19.0  92  ...        18       -37     53.000000   \n...       ...    ...    ...    ...  ..  ...       ...       ...           ...   \n130537    0.0    0.0    0.0    0.0   0  ...         1        -1      0.142857   \n130538    1.0    0.0    0.0    0.0   0  ...         2        -2      0.285714   \n130630    0.0    0.0    0.0    0.0   0  ...         1        -1      0.142857   \n130645    0.0    0.0    0.0    1.0   0  ...         1        -1      0.142857   \n130651    1.0    0.0    0.0    0.0   0  ...         1        -1      0.142857   \n\n        median_weekdays  std_weekdays  var_weekdays  weekday2weekends  \\\n0                  17.0      7.159979     51.265306          1.756098   \n1                  46.0     19.331691    373.714286          2.412500   \n2                   0.0      0.728431      0.530612          1.000000   \n3                  32.0     11.172123    124.816327          1.493506   \n4                  51.0     19.146055    366.571429          5.288136   \n...                 ...           ...           ...               ...   \n130537              0.0      0.349927      0.122449          0.000000   \n130538              0.0      0.451754      0.204082          0.000000   \n130630              0.0      0.349927      0.122449          0.000000   \n130645              0.0      0.349927      0.122449          0.000000   \n130651              0.0      0.349927      0.122449          0.000000   \n\n        weekday2all  weekends2all  active_in_weekends  \n0          0.637168      0.362832                   1  \n1          0.706960      0.293040                   1  \n2          0.500000      0.500000                   1  \n3          0.598958      0.401042                   1  \n4          0.840970      0.159030                   1  \n...             ...           ...                 ...  \n130537     1.000000      0.000000                   0  \n130538     1.000000      0.000000                   0  \n130630     1.000000      0.000000                   0  \n130645     0.000000      1.000000                   1  \n130651     1.000000      0.000000                   0  \n\n[7895 rows x 80 columns]",
      "text/html": "<div>\n<style scoped>\n    .dataframe tbody tr th:only-of-type {\n        vertical-align: middle;\n    }\n\n    .dataframe tbody tr th {\n        vertical-align: top;\n    }\n\n    .dataframe thead th {\n        text-align: right;\n    }\n</style>\n<table border=\"1\" class=\"dataframe\">\n  <thead>\n    <tr style=\"text-align: right;\">\n      <th></th>\n      <th>clientbankpartner_pin</th>\n      <th>partnerrolestart_date</th>\n      <th>day_0</th>\n      <th>day_1</th>\n      <th>day_2</th>\n      <th>day_3</th>\n      <th>day_4</th>\n      <th>day_5</th>\n      <th>day_6</th>\n      <th>1</th>\n      <th>...</th>\n      <th>max_diff</th>\n      <th>min_diff</th>\n      <th>avg_weekdays</th>\n      <th>median_weekdays</th>\n      <th>std_weekdays</th>\n      <th>var_weekdays</th>\n      <th>weekday2weekends</th>\n      <th>weekday2all</th>\n      <th>weekends2all</th>\n      <th>active_in_weekends</th>\n    </tr>\n  </thead>\n  <tbody>\n    <tr>\n      <th>0</th>\n      <td>122027</td>\n      <td>2019-02-01</td>\n      <td>18.0</td>\n      <td>17.0</td>\n      <td>10.0</td>\n      <td>23.0</td>\n      <td>4.0</td>\n      <td>27.0</td>\n      <td>14.0</td>\n      <td>5</td>\n      <td>...</td>\n      <td>30</td>\n      <td>-21</td>\n      <td>16.142857</td>\n      <td>17.0</td>\n      <td>7.159979</td>\n      <td>51.265306</td>\n      <td>1.756098</td>\n      <td>0.637168</td>\n      <td>0.362832</td>\n      <td>1</td>\n    </tr>\n    <tr>\n      <th>1</th>\n      <td>270277</td>\n      <td>2020-04-01</td>\n      <td>46.0</td>\n      <td>60.0</td>\n      <td>36.0</td>\n      <td>51.0</td>\n      <td>0.0</td>\n      <td>55.0</td>\n      <td>25.0</td>\n      <td>0</td>\n      <td>...</td>\n      <td>60</td>\n      <td>-23</td>\n      <td>39.000000</td>\n      <td>46.0</td>\n      <td>19.331691</td>\n      <td>373.714286</td>\n      <td>2.412500</td>\n      <td>0.706960</td>\n      <td>0.293040</td>\n      <td>1</td>\n    </tr>\n    <tr>\n      <th>2</th>\n      <td>238679</td>\n      <td>2020-02-01</td>\n      <td>0.0</td>\n      <td>0.0</td>\n      <td>1.0</td>\n      <td>1.0</td>\n      <td>0.0</td>\n      <td>0.0</td>\n      <td>2.0</td>\n      <td>0</td>\n      <td>...</td>\n      <td>1</td>\n      <td>-1</td>\n      <td>0.571429</td>\n      <td>0.0</td>\n      <td>0.728431</td>\n      <td>0.530612</td>\n      <td>1.000000</td>\n      <td>0.500000</td>\n      <td>0.500000</td>\n      <td>1</td>\n    </tr>\n    <tr>\n      <th>3</th>\n      <td>118398</td>\n      <td>2019-09-01</td>\n      <td>23.0</td>\n      <td>33.0</td>\n      <td>7.0</td>\n      <td>32.0</td>\n      <td>20.0</td>\n      <td>45.0</td>\n      <td>32.0</td>\n      <td>0</td>\n      <td>...</td>\n      <td>16</td>\n      <td>-23</td>\n      <td>27.428571</td>\n      <td>32.0</td>\n      <td>11.172123</td>\n      <td>124.816327</td>\n      <td>1.493506</td>\n      <td>0.598958</td>\n      <td>0.401042</td>\n      <td>1</td>\n    </tr>\n    <tr>\n      <th>4</th>\n      <td>10402</td>\n      <td>2019-01-01</td>\n      <td>69.0</td>\n      <td>77.0</td>\n      <td>51.0</td>\n      <td>71.0</td>\n      <td>44.0</td>\n      <td>40.0</td>\n      <td>19.0</td>\n      <td>92</td>\n      <td>...</td>\n      <td>18</td>\n      <td>-37</td>\n      <td>53.000000</td>\n      <td>51.0</td>\n      <td>19.146055</td>\n      <td>366.571429</td>\n      <td>5.288136</td>\n      <td>0.840970</td>\n      <td>0.159030</td>\n      <td>1</td>\n    </tr>\n    <tr>\n      <th>...</th>\n      <td>...</td>\n      <td>...</td>\n      <td>...</td>\n      <td>...</td>\n      <td>...</td>\n      <td>...</td>\n      <td>...</td>\n      <td>...</td>\n      <td>...</td>\n      <td>...</td>\n      <td>...</td>\n      <td>...</td>\n      <td>...</td>\n      <td>...</td>\n      <td>...</td>\n      <td>...</td>\n      <td>...</td>\n      <td>...</td>\n      <td>...</td>\n      <td>...</td>\n      <td>...</td>\n    </tr>\n    <tr>\n      <th>130537</th>\n      <td>315972</td>\n      <td>2020-07-01</td>\n      <td>0.0</td>\n      <td>1.0</td>\n      <td>0.0</td>\n      <td>0.0</td>\n      <td>0.0</td>\n      <td>0.0</td>\n      <td>0.0</td>\n      <td>0</td>\n      <td>...</td>\n      <td>1</td>\n      <td>-1</td>\n      <td>0.142857</td>\n      <td>0.0</td>\n      <td>0.349927</td>\n      <td>0.122449</td>\n      <td>0.000000</td>\n      <td>1.000000</td>\n      <td>0.000000</td>\n      <td>0</td>\n    </tr>\n    <tr>\n      <th>130538</th>\n      <td>4177</td>\n      <td>2020-06-01</td>\n      <td>0.0</td>\n      <td>1.0</td>\n      <td>0.0</td>\n      <td>1.0</td>\n      <td>0.0</td>\n      <td>0.0</td>\n      <td>0.0</td>\n      <td>0</td>\n      <td>...</td>\n      <td>2</td>\n      <td>-2</td>\n      <td>0.285714</td>\n      <td>0.0</td>\n      <td>0.451754</td>\n      <td>0.204082</td>\n      <td>0.000000</td>\n      <td>1.000000</td>\n      <td>0.000000</td>\n      <td>0</td>\n    </tr>\n    <tr>\n      <th>130630</th>\n      <td>326846</td>\n      <td>2020-07-01</td>\n      <td>0.0</td>\n      <td>1.0</td>\n      <td>0.0</td>\n      <td>0.0</td>\n      <td>0.0</td>\n      <td>0.0</td>\n      <td>0.0</td>\n      <td>0</td>\n      <td>...</td>\n      <td>1</td>\n      <td>-1</td>\n      <td>0.142857</td>\n      <td>0.0</td>\n      <td>0.349927</td>\n      <td>0.122449</td>\n      <td>0.000000</td>\n      <td>1.000000</td>\n      <td>0.000000</td>\n      <td>0</td>\n    </tr>\n    <tr>\n      <th>130645</th>\n      <td>4478</td>\n      <td>2020-06-01</td>\n      <td>0.0</td>\n      <td>0.0</td>\n      <td>0.0</td>\n      <td>0.0</td>\n      <td>0.0</td>\n      <td>0.0</td>\n      <td>1.0</td>\n      <td>0</td>\n      <td>...</td>\n      <td>1</td>\n      <td>-1</td>\n      <td>0.142857</td>\n      <td>0.0</td>\n      <td>0.349927</td>\n      <td>0.122449</td>\n      <td>0.000000</td>\n      <td>0.000000</td>\n      <td>1.000000</td>\n      <td>1</td>\n    </tr>\n    <tr>\n      <th>130651</th>\n      <td>332692</td>\n      <td>2020-07-01</td>\n      <td>0.0</td>\n      <td>0.0</td>\n      <td>0.0</td>\n      <td>1.0</td>\n      <td>0.0</td>\n      <td>0.0</td>\n      <td>0.0</td>\n      <td>0</td>\n      <td>...</td>\n      <td>1</td>\n      <td>-1</td>\n      <td>0.142857</td>\n      <td>0.0</td>\n      <td>0.349927</td>\n      <td>0.122449</td>\n      <td>0.000000</td>\n      <td>1.000000</td>\n      <td>0.000000</td>\n      <td>0</td>\n    </tr>\n  </tbody>\n</table>\n<p>7895 rows × 80 columns</p>\n</div>"
     },
     "execution_count": 31,
     "metadata": {},
     "output_type": "execute_result"
    }
   ],
   "source": [
    "train"
   ],
   "metadata": {
    "collapsed": false,
    "ExecuteTime": {
     "end_time": "2024-05-16T06:28:20.492671500Z",
     "start_time": "2024-05-16T06:28:20.466240400Z"
    }
   }
  },
  {
   "cell_type": "code",
   "execution_count": 32,
   "outputs": [
    {
     "data": {
      "text/plain": "        clientbankpartner_pin partnerrolestart_date  day_0  day_1  day_2  \\\n1                      270277            2020-04-01   48.0   47.0   52.0   \n2                      238679            2020-02-01    1.0    0.0    2.0   \n5                      121046            2020-03-01    2.0    0.0    3.0   \n6                       13084            2020-05-01    1.0    1.0    0.0   \n8                      276484            2020-04-01    0.0    0.0    2.0   \n...                       ...                   ...    ...    ...    ...   \n124535                  73807            2020-11-01    0.0    0.0    0.0   \n125436                 120853            2018-12-01    0.0    0.0    1.0   \n125813                 121120            2020-11-01    0.0    0.0    0.0   \n128169                  60667            2020-10-01    0.0    0.0    0.0   \n128458                   5065            2020-05-01    1.0    0.0    0.0   \n\n        day_3  day_4  day_5  day_6  1  ...  max_diff  min_diff  avg_weekdays  \\\n1       119.0   50.0   63.0   94.0  0  ...        60       -23     67.571429   \n2         1.0    1.0    1.0    0.0  0  ...         1        -1      0.857143   \n5         3.0    0.0    0.0    2.0  0  ...         2        -2      1.428571   \n6         1.0    0.0    1.0    0.0  0  ...         2        -2      0.571429   \n8         2.0    1.0    4.0    2.0  0  ...         3        -2      1.571429   \n...       ...    ...    ...    ... ..  ...       ...       ...           ...   \n124535    0.0    0.0    0.0    1.0  0  ...         1         0      0.142857   \n125436    0.0    0.0    0.0    1.0  0  ...         1        -1      0.285714   \n125813    0.0    0.0    0.0    1.0  0  ...         1         0      0.142857   \n128169    1.0    0.0    0.0    0.0  0  ...         1        -1      0.142857   \n128458    1.0    0.0    0.0    0.0  0  ...         1        -1      0.285714   \n\n        median_weekdays  std_weekdays  var_weekdays  weekday2weekends  \\\n1                  52.0     25.971727    674.530612          2.012739   \n2                   1.0      0.638877      0.408163          5.000000   \n5                   2.0      1.293626      1.673469          4.000000   \n6                   1.0      0.494872      0.244898          3.000000   \n8                   2.0      1.293626      1.673469          0.833333   \n...                 ...           ...           ...               ...   \n124535              0.0      0.349927      0.122449          0.000000   \n125436              0.0      0.451754      0.204082          1.000000   \n125813              0.0      0.349927      0.122449          0.000000   \n128169              0.0      0.349927      0.122449          0.000000   \n128458              0.0      0.451754      0.204082          0.000000   \n\n        weekday2all  weekends2all  active_in_weekends  \n1          0.668076      0.331924                   1  \n2          0.833333      0.166667                   1  \n5          0.800000      0.200000                   1  \n6          0.750000      0.250000                   1  \n8          0.454545      0.545455                   1  \n...             ...           ...                 ...  \n124535     0.000000      1.000000                   1  \n125436     0.500000      0.500000                   1  \n125813     0.000000      1.000000                   1  \n128169     1.000000      0.000000                   0  \n128458     1.000000      0.000000                   0  \n\n[4508 rows x 80 columns]",
      "text/html": "<div>\n<style scoped>\n    .dataframe tbody tr th:only-of-type {\n        vertical-align: middle;\n    }\n\n    .dataframe tbody tr th {\n        vertical-align: top;\n    }\n\n    .dataframe thead th {\n        text-align: right;\n    }\n</style>\n<table border=\"1\" class=\"dataframe\">\n  <thead>\n    <tr style=\"text-align: right;\">\n      <th></th>\n      <th>clientbankpartner_pin</th>\n      <th>partnerrolestart_date</th>\n      <th>day_0</th>\n      <th>day_1</th>\n      <th>day_2</th>\n      <th>day_3</th>\n      <th>day_4</th>\n      <th>day_5</th>\n      <th>day_6</th>\n      <th>1</th>\n      <th>...</th>\n      <th>max_diff</th>\n      <th>min_diff</th>\n      <th>avg_weekdays</th>\n      <th>median_weekdays</th>\n      <th>std_weekdays</th>\n      <th>var_weekdays</th>\n      <th>weekday2weekends</th>\n      <th>weekday2all</th>\n      <th>weekends2all</th>\n      <th>active_in_weekends</th>\n    </tr>\n  </thead>\n  <tbody>\n    <tr>\n      <th>1</th>\n      <td>270277</td>\n      <td>2020-04-01</td>\n      <td>48.0</td>\n      <td>47.0</td>\n      <td>52.0</td>\n      <td>119.0</td>\n      <td>50.0</td>\n      <td>63.0</td>\n      <td>94.0</td>\n      <td>0</td>\n      <td>...</td>\n      <td>60</td>\n      <td>-23</td>\n      <td>67.571429</td>\n      <td>52.0</td>\n      <td>25.971727</td>\n      <td>674.530612</td>\n      <td>2.012739</td>\n      <td>0.668076</td>\n      <td>0.331924</td>\n      <td>1</td>\n    </tr>\n    <tr>\n      <th>2</th>\n      <td>238679</td>\n      <td>2020-02-01</td>\n      <td>1.0</td>\n      <td>0.0</td>\n      <td>2.0</td>\n      <td>1.0</td>\n      <td>1.0</td>\n      <td>1.0</td>\n      <td>0.0</td>\n      <td>0</td>\n      <td>...</td>\n      <td>1</td>\n      <td>-1</td>\n      <td>0.857143</td>\n      <td>1.0</td>\n      <td>0.638877</td>\n      <td>0.408163</td>\n      <td>5.000000</td>\n      <td>0.833333</td>\n      <td>0.166667</td>\n      <td>1</td>\n    </tr>\n    <tr>\n      <th>5</th>\n      <td>121046</td>\n      <td>2020-03-01</td>\n      <td>2.0</td>\n      <td>0.0</td>\n      <td>3.0</td>\n      <td>3.0</td>\n      <td>0.0</td>\n      <td>0.0</td>\n      <td>2.0</td>\n      <td>0</td>\n      <td>...</td>\n      <td>2</td>\n      <td>-2</td>\n      <td>1.428571</td>\n      <td>2.0</td>\n      <td>1.293626</td>\n      <td>1.673469</td>\n      <td>4.000000</td>\n      <td>0.800000</td>\n      <td>0.200000</td>\n      <td>1</td>\n    </tr>\n    <tr>\n      <th>6</th>\n      <td>13084</td>\n      <td>2020-05-01</td>\n      <td>1.0</td>\n      <td>1.0</td>\n      <td>0.0</td>\n      <td>1.0</td>\n      <td>0.0</td>\n      <td>1.0</td>\n      <td>0.0</td>\n      <td>0</td>\n      <td>...</td>\n      <td>2</td>\n      <td>-2</td>\n      <td>0.571429</td>\n      <td>1.0</td>\n      <td>0.494872</td>\n      <td>0.244898</td>\n      <td>3.000000</td>\n      <td>0.750000</td>\n      <td>0.250000</td>\n      <td>1</td>\n    </tr>\n    <tr>\n      <th>8</th>\n      <td>276484</td>\n      <td>2020-04-01</td>\n      <td>0.0</td>\n      <td>0.0</td>\n      <td>2.0</td>\n      <td>2.0</td>\n      <td>1.0</td>\n      <td>4.0</td>\n      <td>2.0</td>\n      <td>0</td>\n      <td>...</td>\n      <td>3</td>\n      <td>-2</td>\n      <td>1.571429</td>\n      <td>2.0</td>\n      <td>1.293626</td>\n      <td>1.673469</td>\n      <td>0.833333</td>\n      <td>0.454545</td>\n      <td>0.545455</td>\n      <td>1</td>\n    </tr>\n    <tr>\n      <th>...</th>\n      <td>...</td>\n      <td>...</td>\n      <td>...</td>\n      <td>...</td>\n      <td>...</td>\n      <td>...</td>\n      <td>...</td>\n      <td>...</td>\n      <td>...</td>\n      <td>...</td>\n      <td>...</td>\n      <td>...</td>\n      <td>...</td>\n      <td>...</td>\n      <td>...</td>\n      <td>...</td>\n      <td>...</td>\n      <td>...</td>\n      <td>...</td>\n      <td>...</td>\n      <td>...</td>\n    </tr>\n    <tr>\n      <th>124535</th>\n      <td>73807</td>\n      <td>2020-11-01</td>\n      <td>0.0</td>\n      <td>0.0</td>\n      <td>0.0</td>\n      <td>0.0</td>\n      <td>0.0</td>\n      <td>0.0</td>\n      <td>1.0</td>\n      <td>0</td>\n      <td>...</td>\n      <td>1</td>\n      <td>0</td>\n      <td>0.142857</td>\n      <td>0.0</td>\n      <td>0.349927</td>\n      <td>0.122449</td>\n      <td>0.000000</td>\n      <td>0.000000</td>\n      <td>1.000000</td>\n      <td>1</td>\n    </tr>\n    <tr>\n      <th>125436</th>\n      <td>120853</td>\n      <td>2018-12-01</td>\n      <td>0.0</td>\n      <td>0.0</td>\n      <td>1.0</td>\n      <td>0.0</td>\n      <td>0.0</td>\n      <td>0.0</td>\n      <td>1.0</td>\n      <td>0</td>\n      <td>...</td>\n      <td>1</td>\n      <td>-1</td>\n      <td>0.285714</td>\n      <td>0.0</td>\n      <td>0.451754</td>\n      <td>0.204082</td>\n      <td>1.000000</td>\n      <td>0.500000</td>\n      <td>0.500000</td>\n      <td>1</td>\n    </tr>\n    <tr>\n      <th>125813</th>\n      <td>121120</td>\n      <td>2020-11-01</td>\n      <td>0.0</td>\n      <td>0.0</td>\n      <td>0.0</td>\n      <td>0.0</td>\n      <td>0.0</td>\n      <td>0.0</td>\n      <td>1.0</td>\n      <td>0</td>\n      <td>...</td>\n      <td>1</td>\n      <td>0</td>\n      <td>0.142857</td>\n      <td>0.0</td>\n      <td>0.349927</td>\n      <td>0.122449</td>\n      <td>0.000000</td>\n      <td>0.000000</td>\n      <td>1.000000</td>\n      <td>1</td>\n    </tr>\n    <tr>\n      <th>128169</th>\n      <td>60667</td>\n      <td>2020-10-01</td>\n      <td>0.0</td>\n      <td>0.0</td>\n      <td>0.0</td>\n      <td>1.0</td>\n      <td>0.0</td>\n      <td>0.0</td>\n      <td>0.0</td>\n      <td>0</td>\n      <td>...</td>\n      <td>1</td>\n      <td>-1</td>\n      <td>0.142857</td>\n      <td>0.0</td>\n      <td>0.349927</td>\n      <td>0.122449</td>\n      <td>0.000000</td>\n      <td>1.000000</td>\n      <td>0.000000</td>\n      <td>0</td>\n    </tr>\n    <tr>\n      <th>128458</th>\n      <td>5065</td>\n      <td>2020-05-01</td>\n      <td>1.0</td>\n      <td>0.0</td>\n      <td>0.0</td>\n      <td>1.0</td>\n      <td>0.0</td>\n      <td>0.0</td>\n      <td>0.0</td>\n      <td>0</td>\n      <td>...</td>\n      <td>1</td>\n      <td>-1</td>\n      <td>0.285714</td>\n      <td>0.0</td>\n      <td>0.451754</td>\n      <td>0.204082</td>\n      <td>0.000000</td>\n      <td>1.000000</td>\n      <td>0.000000</td>\n      <td>0</td>\n    </tr>\n  </tbody>\n</table>\n<p>4508 rows × 80 columns</p>\n</div>"
     },
     "execution_count": 32,
     "metadata": {},
     "output_type": "execute_result"
    }
   ],
   "source": [
    "test"
   ],
   "metadata": {
    "collapsed": false,
    "ExecuteTime": {
     "end_time": "2024-05-16T06:28:20.537653400Z",
     "start_time": "2024-05-16T06:28:20.493671400Z"
    }
   }
  },
  {
   "cell_type": "code",
   "execution_count": 33,
   "outputs": [
    {
     "data": {
      "text/plain": "{'2_oh'}"
     },
     "execution_count": 33,
     "metadata": {},
     "output_type": "execute_result"
    }
   ],
   "source": [
    "set(test.columns) - set(train.columns)"
   ],
   "metadata": {
    "collapsed": false,
    "ExecuteTime": {
     "end_time": "2024-05-16T06:28:20.569445800Z",
     "start_time": "2024-05-16T06:28:20.524193300Z"
    }
   }
  },
  {
   "cell_type": "code",
   "execution_count": 34,
   "outputs": [],
   "source": [
    "train[\"2_oh\"] = 0"
   ],
   "metadata": {
    "collapsed": false,
    "ExecuteTime": {
     "end_time": "2024-05-16T06:28:20.569445800Z",
     "start_time": "2024-05-16T06:28:20.529996300Z"
    }
   }
  },
  {
   "cell_type": "code",
   "execution_count": 35,
   "outputs": [],
   "source": [
    "train = train[list(test.columns) + ['target']]"
   ],
   "metadata": {
    "collapsed": false,
    "ExecuteTime": {
     "end_time": "2024-05-16T06:28:20.571961500Z",
     "start_time": "2024-05-16T06:28:20.533889700Z"
    }
   }
  },
  {
   "cell_type": "code",
   "execution_count": 36,
   "outputs": [
    {
     "data": {
      "text/plain": "target\n1    4966\n0    2929\nName: count, dtype: int64"
     },
     "execution_count": 36,
     "metadata": {},
     "output_type": "execute_result"
    }
   ],
   "source": [
    "train[\"target\"].value_counts()"
   ],
   "metadata": {
    "collapsed": false,
    "ExecuteTime": {
     "end_time": "2024-05-16T06:28:20.573962200Z",
     "start_time": "2024-05-16T06:28:20.540731200Z"
    }
   }
  },
  {
   "cell_type": "markdown",
   "source": [
    "## Ensemble + CV"
   ],
   "metadata": {
    "collapsed": false
   }
  },
  {
   "cell_type": "markdown",
   "source": [
    "### RFE"
   ],
   "metadata": {
    "collapsed": false
   }
  },
  {
   "cell_type": "code",
   "execution_count": 241,
   "outputs": [
    {
     "data": {
      "text/plain": "RandomForestClassifier(max_depth=6, random_state=42)",
      "text/html": "<style>#sk-container-id-5 {\n  /* Definition of color scheme common for light and dark mode */\n  --sklearn-color-text: black;\n  --sklearn-color-line: gray;\n  /* Definition of color scheme for unfitted estimators */\n  --sklearn-color-unfitted-level-0: #fff5e6;\n  --sklearn-color-unfitted-level-1: #f6e4d2;\n  --sklearn-color-unfitted-level-2: #ffe0b3;\n  --sklearn-color-unfitted-level-3: chocolate;\n  /* Definition of color scheme for fitted estimators */\n  --sklearn-color-fitted-level-0: #f0f8ff;\n  --sklearn-color-fitted-level-1: #d4ebff;\n  --sklearn-color-fitted-level-2: #b3dbfd;\n  --sklearn-color-fitted-level-3: cornflowerblue;\n\n  /* Specific color for light theme */\n  --sklearn-color-text-on-default-background: var(--sg-text-color, var(--theme-code-foreground, var(--jp-content-font-color1, black)));\n  --sklearn-color-background: var(--sg-background-color, var(--theme-background, var(--jp-layout-color0, white)));\n  --sklearn-color-border-box: var(--sg-text-color, var(--theme-code-foreground, var(--jp-content-font-color1, black)));\n  --sklearn-color-icon: #696969;\n\n  @media (prefers-color-scheme: dark) {\n    /* Redefinition of color scheme for dark theme */\n    --sklearn-color-text-on-default-background: var(--sg-text-color, var(--theme-code-foreground, var(--jp-content-font-color1, white)));\n    --sklearn-color-background: var(--sg-background-color, var(--theme-background, var(--jp-layout-color0, #111)));\n    --sklearn-color-border-box: var(--sg-text-color, var(--theme-code-foreground, var(--jp-content-font-color1, white)));\n    --sklearn-color-icon: #878787;\n  }\n}\n\n#sk-container-id-5 {\n  color: var(--sklearn-color-text);\n}\n\n#sk-container-id-5 pre {\n  padding: 0;\n}\n\n#sk-container-id-5 input.sk-hidden--visually {\n  border: 0;\n  clip: rect(1px 1px 1px 1px);\n  clip: rect(1px, 1px, 1px, 1px);\n  height: 1px;\n  margin: -1px;\n  overflow: hidden;\n  padding: 0;\n  position: absolute;\n  width: 1px;\n}\n\n#sk-container-id-5 div.sk-dashed-wrapped {\n  border: 1px dashed var(--sklearn-color-line);\n  margin: 0 0.4em 0.5em 0.4em;\n  box-sizing: border-box;\n  padding-bottom: 0.4em;\n  background-color: var(--sklearn-color-background);\n}\n\n#sk-container-id-5 div.sk-container {\n  /* jupyter's `normalize.less` sets `[hidden] { display: none; }`\n     but bootstrap.min.css set `[hidden] { display: none !important; }`\n     so we also need the `!important` here to be able to override the\n     default hidden behavior on the sphinx rendered scikit-learn.org.\n     See: https://github.com/scikit-learn/scikit-learn/issues/21755 */\n  display: inline-block !important;\n  position: relative;\n}\n\n#sk-container-id-5 div.sk-text-repr-fallback {\n  display: none;\n}\n\ndiv.sk-parallel-item,\ndiv.sk-serial,\ndiv.sk-item {\n  /* draw centered vertical line to link estimators */\n  background-image: linear-gradient(var(--sklearn-color-text-on-default-background), var(--sklearn-color-text-on-default-background));\n  background-size: 2px 100%;\n  background-repeat: no-repeat;\n  background-position: center center;\n}\n\n/* Parallel-specific style estimator block */\n\n#sk-container-id-5 div.sk-parallel-item::after {\n  content: \"\";\n  width: 100%;\n  border-bottom: 2px solid var(--sklearn-color-text-on-default-background);\n  flex-grow: 1;\n}\n\n#sk-container-id-5 div.sk-parallel {\n  display: flex;\n  align-items: stretch;\n  justify-content: center;\n  background-color: var(--sklearn-color-background);\n  position: relative;\n}\n\n#sk-container-id-5 div.sk-parallel-item {\n  display: flex;\n  flex-direction: column;\n}\n\n#sk-container-id-5 div.sk-parallel-item:first-child::after {\n  align-self: flex-end;\n  width: 50%;\n}\n\n#sk-container-id-5 div.sk-parallel-item:last-child::after {\n  align-self: flex-start;\n  width: 50%;\n}\n\n#sk-container-id-5 div.sk-parallel-item:only-child::after {\n  width: 0;\n}\n\n/* Serial-specific style estimator block */\n\n#sk-container-id-5 div.sk-serial {\n  display: flex;\n  flex-direction: column;\n  align-items: center;\n  background-color: var(--sklearn-color-background);\n  padding-right: 1em;\n  padding-left: 1em;\n}\n\n\n/* Toggleable style: style used for estimator/Pipeline/ColumnTransformer box that is\nclickable and can be expanded/collapsed.\n- Pipeline and ColumnTransformer use this feature and define the default style\n- Estimators will overwrite some part of the style using the `sk-estimator` class\n*/\n\n/* Pipeline and ColumnTransformer style (default) */\n\n#sk-container-id-5 div.sk-toggleable {\n  /* Default theme specific background. It is overwritten whether we have a\n  specific estimator or a Pipeline/ColumnTransformer */\n  background-color: var(--sklearn-color-background);\n}\n\n/* Toggleable label */\n#sk-container-id-5 label.sk-toggleable__label {\n  cursor: pointer;\n  display: block;\n  width: 100%;\n  margin-bottom: 0;\n  padding: 0.5em;\n  box-sizing: border-box;\n  text-align: center;\n}\n\n#sk-container-id-5 label.sk-toggleable__label-arrow:before {\n  /* Arrow on the left of the label */\n  content: \"▸\";\n  float: left;\n  margin-right: 0.25em;\n  color: var(--sklearn-color-icon);\n}\n\n#sk-container-id-5 label.sk-toggleable__label-arrow:hover:before {\n  color: var(--sklearn-color-text);\n}\n\n/* Toggleable content - dropdown */\n\n#sk-container-id-5 div.sk-toggleable__content {\n  max-height: 0;\n  max-width: 0;\n  overflow: hidden;\n  text-align: left;\n  /* unfitted */\n  background-color: var(--sklearn-color-unfitted-level-0);\n}\n\n#sk-container-id-5 div.sk-toggleable__content.fitted {\n  /* fitted */\n  background-color: var(--sklearn-color-fitted-level-0);\n}\n\n#sk-container-id-5 div.sk-toggleable__content pre {\n  margin: 0.2em;\n  border-radius: 0.25em;\n  color: var(--sklearn-color-text);\n  /* unfitted */\n  background-color: var(--sklearn-color-unfitted-level-0);\n}\n\n#sk-container-id-5 div.sk-toggleable__content.fitted pre {\n  /* unfitted */\n  background-color: var(--sklearn-color-fitted-level-0);\n}\n\n#sk-container-id-5 input.sk-toggleable__control:checked~div.sk-toggleable__content {\n  /* Expand drop-down */\n  max-height: 200px;\n  max-width: 100%;\n  overflow: auto;\n}\n\n#sk-container-id-5 input.sk-toggleable__control:checked~label.sk-toggleable__label-arrow:before {\n  content: \"▾\";\n}\n\n/* Pipeline/ColumnTransformer-specific style */\n\n#sk-container-id-5 div.sk-label input.sk-toggleable__control:checked~label.sk-toggleable__label {\n  color: var(--sklearn-color-text);\n  background-color: var(--sklearn-color-unfitted-level-2);\n}\n\n#sk-container-id-5 div.sk-label.fitted input.sk-toggleable__control:checked~label.sk-toggleable__label {\n  background-color: var(--sklearn-color-fitted-level-2);\n}\n\n/* Estimator-specific style */\n\n/* Colorize estimator box */\n#sk-container-id-5 div.sk-estimator input.sk-toggleable__control:checked~label.sk-toggleable__label {\n  /* unfitted */\n  background-color: var(--sklearn-color-unfitted-level-2);\n}\n\n#sk-container-id-5 div.sk-estimator.fitted input.sk-toggleable__control:checked~label.sk-toggleable__label {\n  /* fitted */\n  background-color: var(--sklearn-color-fitted-level-2);\n}\n\n#sk-container-id-5 div.sk-label label.sk-toggleable__label,\n#sk-container-id-5 div.sk-label label {\n  /* The background is the default theme color */\n  color: var(--sklearn-color-text-on-default-background);\n}\n\n/* On hover, darken the color of the background */\n#sk-container-id-5 div.sk-label:hover label.sk-toggleable__label {\n  color: var(--sklearn-color-text);\n  background-color: var(--sklearn-color-unfitted-level-2);\n}\n\n/* Label box, darken color on hover, fitted */\n#sk-container-id-5 div.sk-label.fitted:hover label.sk-toggleable__label.fitted {\n  color: var(--sklearn-color-text);\n  background-color: var(--sklearn-color-fitted-level-2);\n}\n\n/* Estimator label */\n\n#sk-container-id-5 div.sk-label label {\n  font-family: monospace;\n  font-weight: bold;\n  display: inline-block;\n  line-height: 1.2em;\n}\n\n#sk-container-id-5 div.sk-label-container {\n  text-align: center;\n}\n\n/* Estimator-specific */\n#sk-container-id-5 div.sk-estimator {\n  font-family: monospace;\n  border: 1px dotted var(--sklearn-color-border-box);\n  border-radius: 0.25em;\n  box-sizing: border-box;\n  margin-bottom: 0.5em;\n  /* unfitted */\n  background-color: var(--sklearn-color-unfitted-level-0);\n}\n\n#sk-container-id-5 div.sk-estimator.fitted {\n  /* fitted */\n  background-color: var(--sklearn-color-fitted-level-0);\n}\n\n/* on hover */\n#sk-container-id-5 div.sk-estimator:hover {\n  /* unfitted */\n  background-color: var(--sklearn-color-unfitted-level-2);\n}\n\n#sk-container-id-5 div.sk-estimator.fitted:hover {\n  /* fitted */\n  background-color: var(--sklearn-color-fitted-level-2);\n}\n\n/* Specification for estimator info (e.g. \"i\" and \"?\") */\n\n/* Common style for \"i\" and \"?\" */\n\n.sk-estimator-doc-link,\na:link.sk-estimator-doc-link,\na:visited.sk-estimator-doc-link {\n  float: right;\n  font-size: smaller;\n  line-height: 1em;\n  font-family: monospace;\n  background-color: var(--sklearn-color-background);\n  border-radius: 1em;\n  height: 1em;\n  width: 1em;\n  text-decoration: none !important;\n  margin-left: 1ex;\n  /* unfitted */\n  border: var(--sklearn-color-unfitted-level-1) 1pt solid;\n  color: var(--sklearn-color-unfitted-level-1);\n}\n\n.sk-estimator-doc-link.fitted,\na:link.sk-estimator-doc-link.fitted,\na:visited.sk-estimator-doc-link.fitted {\n  /* fitted */\n  border: var(--sklearn-color-fitted-level-1) 1pt solid;\n  color: var(--sklearn-color-fitted-level-1);\n}\n\n/* On hover */\ndiv.sk-estimator:hover .sk-estimator-doc-link:hover,\n.sk-estimator-doc-link:hover,\ndiv.sk-label-container:hover .sk-estimator-doc-link:hover,\n.sk-estimator-doc-link:hover {\n  /* unfitted */\n  background-color: var(--sklearn-color-unfitted-level-3);\n  color: var(--sklearn-color-background);\n  text-decoration: none;\n}\n\ndiv.sk-estimator.fitted:hover .sk-estimator-doc-link.fitted:hover,\n.sk-estimator-doc-link.fitted:hover,\ndiv.sk-label-container:hover .sk-estimator-doc-link.fitted:hover,\n.sk-estimator-doc-link.fitted:hover {\n  /* fitted */\n  background-color: var(--sklearn-color-fitted-level-3);\n  color: var(--sklearn-color-background);\n  text-decoration: none;\n}\n\n/* Span, style for the box shown on hovering the info icon */\n.sk-estimator-doc-link span {\n  display: none;\n  z-index: 9999;\n  position: relative;\n  font-weight: normal;\n  right: .2ex;\n  padding: .5ex;\n  margin: .5ex;\n  width: min-content;\n  min-width: 20ex;\n  max-width: 50ex;\n  color: var(--sklearn-color-text);\n  box-shadow: 2pt 2pt 4pt #999;\n  /* unfitted */\n  background: var(--sklearn-color-unfitted-level-0);\n  border: .5pt solid var(--sklearn-color-unfitted-level-3);\n}\n\n.sk-estimator-doc-link.fitted span {\n  /* fitted */\n  background: var(--sklearn-color-fitted-level-0);\n  border: var(--sklearn-color-fitted-level-3);\n}\n\n.sk-estimator-doc-link:hover span {\n  display: block;\n}\n\n/* \"?\"-specific style due to the `<a>` HTML tag */\n\n#sk-container-id-5 a.estimator_doc_link {\n  float: right;\n  font-size: 1rem;\n  line-height: 1em;\n  font-family: monospace;\n  background-color: var(--sklearn-color-background);\n  border-radius: 1rem;\n  height: 1rem;\n  width: 1rem;\n  text-decoration: none;\n  /* unfitted */\n  color: var(--sklearn-color-unfitted-level-1);\n  border: var(--sklearn-color-unfitted-level-1) 1pt solid;\n}\n\n#sk-container-id-5 a.estimator_doc_link.fitted {\n  /* fitted */\n  border: var(--sklearn-color-fitted-level-1) 1pt solid;\n  color: var(--sklearn-color-fitted-level-1);\n}\n\n/* On hover */\n#sk-container-id-5 a.estimator_doc_link:hover {\n  /* unfitted */\n  background-color: var(--sklearn-color-unfitted-level-3);\n  color: var(--sklearn-color-background);\n  text-decoration: none;\n}\n\n#sk-container-id-5 a.estimator_doc_link.fitted:hover {\n  /* fitted */\n  background-color: var(--sklearn-color-fitted-level-3);\n}\n</style><div id=\"sk-container-id-5\" class=\"sk-top-container\"><div class=\"sk-text-repr-fallback\"><pre>RandomForestClassifier(max_depth=6, random_state=42)</pre><b>In a Jupyter environment, please rerun this cell to show the HTML representation or trust the notebook. <br />On GitHub, the HTML representation is unable to render, please try loading this page with nbviewer.org.</b></div><div class=\"sk-container\" hidden><div class=\"sk-item\"><div class=\"sk-estimator fitted sk-toggleable\"><input class=\"sk-toggleable__control sk-hidden--visually\" id=\"sk-estimator-id-5\" type=\"checkbox\" checked><label for=\"sk-estimator-id-5\" class=\"sk-toggleable__label fitted sk-toggleable__label-arrow fitted\">&nbsp;&nbsp;RandomForestClassifier<a class=\"sk-estimator-doc-link fitted\" rel=\"noreferrer\" target=\"_blank\" href=\"https://scikit-learn.org/1.4/modules/generated/sklearn.ensemble.RandomForestClassifier.html\">?<span>Documentation for RandomForestClassifier</span></a><span class=\"sk-estimator-doc-link fitted\">i<span>Fitted</span></span></label><div class=\"sk-toggleable__content fitted\"><pre>RandomForestClassifier(max_depth=6, random_state=42)</pre></div> </div></div></div></div>"
     },
     "execution_count": 241,
     "metadata": {},
     "output_type": "execute_result"
    }
   ],
   "source": [
    "X_train, X_test, y_train, y_test = train_test_split(train.drop(columns=[\"clientbankpartner_pin\", \"partnerrolestart_date\", \"target\"]), train[\"target\"], train_size=0.8, random_state=42)\n",
    "\n",
    "classifier = RandomForestClassifier(max_depth=6, n_estimators=100, random_state=42)\n",
    "\n",
    "classifier.fit(X_train, y_train)"
   ],
   "metadata": {
    "collapsed": false,
    "ExecuteTime": {
     "end_time": "2024-05-16T08:03:52.734817800Z",
     "start_time": "2024-05-16T08:03:52.246809400Z"
    }
   }
  },
  {
   "cell_type": "code",
   "execution_count": 242,
   "outputs": [
    {
     "data": {
      "text/plain": "0.8673588758641213"
     },
     "execution_count": 242,
     "metadata": {},
     "output_type": "execute_result"
    }
   ],
   "source": [
    "roc_auc_score(y_test, classifier.predict_proba(X_test)[:, 1])"
   ],
   "metadata": {
    "collapsed": false,
    "ExecuteTime": {
     "end_time": "2024-05-16T08:03:54.184890700Z",
     "start_time": "2024-05-16T08:03:54.158330200Z"
    }
   }
  },
  {
   "cell_type": "code",
   "execution_count": 243,
   "outputs": [
    {
     "name": "stdout",
     "output_type": "stream",
     "text": [
      "[ 1  5  9  1 14  1  7 28 35 34 33 31 32 36 27 26 18 15  8  1  1  1  1  1\n",
      "  1  4  1 38  1  1  1  1  1  1  1  1  1  2  1  1  1  1  1  1 12 39 30 40\n",
      " 37 29 17 23 25 20 24 22 16 21 13  6 10 11  3  1  1  1  1  1  1  1  1  1\n",
      "  1  1  1  1  1 19]\n"
     ]
    },
    {
     "data": {
      "text/plain": "Index(['day_0', 'day_3', 'day_5', '13', '14', '15', '16', '17', '18',\n       'partnerrolestart_date_month', 'partnerrolestart_date_dayofweek',\n       'clients_count', 'days_after_partnership', 'active_months',\n       'last_active_month_ago', 'avg_clients_monthly',\n       'median_clients_monthly', 'std_clients_monthly', 'var_clients_monthly',\n       'max_zero_month', 'is_any_1_month', 'is_any_2_month', 'is_any_3_month',\n       'last_month_to_avg', 'last_month_to_all', '14-13', '15-14', '16-15',\n       '17-16', '18-17', 'max_diff', 'min_diff', 'avg_weekdays',\n       'median_weekdays', 'std_weekdays', 'var_weekdays', 'weekday2weekends',\n       'weekday2all', 'weekends2all'],\n      dtype='object')"
     },
     "execution_count": 243,
     "metadata": {},
     "output_type": "execute_result"
    }
   ],
   "source": [
    "rfe = RFE(classifier, n_features_to_select= None)  # Отбор признаков\n",
    "rfe = rfe.fit(X_train, y_train)\n",
    "print(rfe.ranking_)\n",
    "X_train.columns[rfe.support_]"
   ],
   "metadata": {
    "collapsed": false,
    "ExecuteTime": {
     "end_time": "2024-05-16T08:04:15.549979Z",
     "start_time": "2024-05-16T08:03:55.960549700Z"
    }
   }
  },
  {
   "cell_type": "code",
   "execution_count": 244,
   "outputs": [],
   "source": [
    "def hill_climbing(x, y, x_test):\n",
    "    # Evaluating oof predictions\n",
    "    scores = {}\n",
    "    for col in x.columns:\n",
    "        scores[col] = roc_auc_score(y, x[col])\n",
    "\n",
    "    # Sorting the model scores\n",
    "    scores = {k: v for k, v in sorted(scores.items(), key = lambda item: item[1], reverse = True)}\n",
    "\n",
    "    # Sort oof_df and test_preds\n",
    "    x = x[list(scores.keys())]\n",
    "    x_test = x_test[list(scores.keys())]\n",
    "\n",
    "    STOP = False\n",
    "    current_best_ensemble = x.iloc[:,0]\n",
    "    current_best_test_preds = x_test.iloc[:,0]\n",
    "    MODELS = x.iloc[:,1:]\n",
    "    weight_range = np.arange(-0.5, 0.51, 0.01) \n",
    "    history = [roc_auc_score(y, current_best_ensemble)]\n",
    "    j = 0\n",
    "\n",
    "    while not STOP:\n",
    "        j += 1\n",
    "        potential_new_best_cv_score = roc_auc_score(y, current_best_ensemble)\n",
    "        k_best, wgt_best = None, None\n",
    "        for k in MODELS:\n",
    "            for wgt in weight_range:\n",
    "                potential_ensemble = (1 - wgt) * current_best_ensemble + wgt * MODELS[k]\n",
    "                cv_score = roc_auc_score(y, potential_ensemble)\n",
    "                if cv_score > potential_new_best_cv_score:\n",
    "                    potential_new_best_cv_score = cv_score\n",
    "                    k_best, wgt_best = k, wgt\n",
    "\n",
    "        if k_best is not None:\n",
    "            current_best_ensemble = (1 - wgt_best) * current_best_ensemble + wgt_best * MODELS[k_best]\n",
    "            current_best_test_preds = (1 - wgt_best) * current_best_test_preds + wgt_best * x_test[k_best]\n",
    "            MODELS.drop(k_best, axis = 1, inplace = True)\n",
    "            if MODELS.shape[1] == 0:\n",
    "                STOP = True\n",
    "            history.append(potential_new_best_cv_score)\n",
    "        else:\n",
    "            STOP = True\n",
    "        \n",
    "    hill_ens_pred_1 = current_best_ensemble\n",
    "    hill_ens_pred_2 = current_best_test_preds\n",
    "    \n",
    "    return [hill_ens_pred_1, hill_ens_pred_2]"
   ],
   "metadata": {
    "collapsed": false,
    "ExecuteTime": {
     "end_time": "2024-05-16T08:04:15.563873400Z",
     "start_time": "2024-05-16T08:04:15.552968300Z"
    }
   }
  },
  {
   "cell_type": "code",
   "execution_count": 245,
   "outputs": [],
   "source": [
    "import sys, os\n",
    "original_stdout = sys.stdout"
   ],
   "metadata": {
    "collapsed": false,
    "ExecuteTime": {
     "end_time": "2024-05-16T08:04:15.564866600Z",
     "start_time": "2024-05-16T08:04:15.557843100Z"
    }
   }
  },
  {
   "cell_type": "code",
   "execution_count": 246,
   "outputs": [
    {
     "name": "stdout",
     "output_type": "stream",
     "text": [
      "----------------------------------------------------------\n",
      "Fold 0 ==> XG without one hot oof ROC-AUC score is ==> 0.8659252394192154\n",
      "Fold 0 ==> XG with one hot oof ROC-AUC score is ==> 0.8672690763052209\n",
      "Fold 0 ==> LightGBM oof ROC-AUC score is ==> 0.86236484399135\n",
      "Fold 0 ==> LightGBM without cat features oof ROC-AUC score is ==> 0.8589048501699104\n",
      "Fold 0 ==> Logreg with RFE oof ROC-AUC score is ==> 0.8619632375656472\n",
      "Fold 0 ==> RF with RFE oof ROC-AUC score is ==> 0.8616156935434044\n",
      "Fold 0 ==> KNN with RFE oof ROC-AUC score is ==> 0.8205900525177634\n",
      "Fold 0 ==> Average Ensemble oof ROC-AUC score is ==> 0.8669138090824837\n",
      "Fold 0 ==> Hill Climbing Ensemble oof ROC-AUC score is ==> 0.8695242508495522\n",
      "----------------------------------------------------------\n",
      "Fold 1 ==> XG without one hot oof ROC-AUC score is ==> 0.8503144460200999\n",
      "Fold 1 ==> XG with one hot oof ROC-AUC score is ==> 0.8518866761205992\n",
      "Fold 1 ==> LightGBM oof ROC-AUC score is ==> 0.8512701152968741\n",
      "Fold 1 ==> LightGBM without cat features oof ROC-AUC score is ==> 0.8481025340649855\n",
      "Fold 1 ==> Logreg with RFE oof ROC-AUC score is ==> 0.8379832295455947\n",
      "Fold 1 ==> RF with RFE oof ROC-AUC score is ==> 0.8379215734632223\n",
      "Fold 1 ==> KNN with RFE oof ROC-AUC score is ==> 0.8273783833775202\n",
      "Fold 1 ==> Average Ensemble oof ROC-AUC score is ==> 0.8474166101485913\n",
      "Fold 1 ==> Hill Climbing Ensemble oof ROC-AUC score is ==> 0.8617978913619828\n",
      "----------------------------------------------------------\n",
      "Fold 2 ==> XG without one hot oof ROC-AUC score is ==> 0.8535128552931748\n",
      "Fold 2 ==> XG with one hot oof ROC-AUC score is ==> 0.8541217091066033\n",
      "Fold 2 ==> LightGBM oof ROC-AUC score is ==> 0.8551390344657501\n",
      "Fold 2 ==> LightGBM without cat features oof ROC-AUC score is ==> 0.8510620260188666\n",
      "Fold 2 ==> Logreg with RFE oof ROC-AUC score is ==> 0.8447037425242\n",
      "Fold 2 ==> RF with RFE oof ROC-AUC score is ==> 0.8471622788088045\n",
      "Fold 2 ==> KNN with RFE oof ROC-AUC score is ==> 0.8160105431900857\n",
      "Fold 2 ==> Average Ensemble oof ROC-AUC score is ==> 0.8523259757075036\n",
      "Fold 2 ==> Hill Climbing Ensemble oof ROC-AUC score is ==> 0.859061902706702\n",
      "----------------------------------------------------------\n",
      "Fold 3 ==> XG without one hot oof ROC-AUC score is ==> 0.8395323386152044\n",
      "Fold 3 ==> XG with one hot oof ROC-AUC score is ==> 0.8462836796349961\n",
      "Fold 3 ==> LightGBM oof ROC-AUC score is ==> 0.8374206177939452\n",
      "Fold 3 ==> LightGBM without cat features oof ROC-AUC score is ==> 0.8382992169677539\n",
      "Fold 3 ==> Logreg with RFE oof ROC-AUC score is ==> 0.8409118934582896\n",
      "Fold 3 ==> RF with RFE oof ROC-AUC score is ==> 0.8380063505764843\n",
      "Fold 3 ==> KNN with RFE oof ROC-AUC score is ==> 0.811941241753499\n",
      "Fold 3 ==> Average Ensemble oof ROC-AUC score is ==> 0.8431392194339972\n",
      "Fold 3 ==> Hill Climbing Ensemble oof ROC-AUC score is ==> 0.8502296689068377\n",
      "----------------------------------------------------------\n",
      "Fold 4 ==> XG without one hot oof ROC-AUC score is ==> 0.8703912078426537\n",
      "Fold 4 ==> XG with one hot oof ROC-AUC score is ==> 0.8724721006227264\n",
      "Fold 4 ==> LightGBM oof ROC-AUC score is ==> 0.872071336087305\n",
      "Fold 4 ==> LightGBM without cat features oof ROC-AUC score is ==> 0.8666301868179296\n",
      "Fold 4 ==> Logreg with RFE oof ROC-AUC score is ==> 0.868202416918429\n",
      "Fold 4 ==> RF with RFE oof ROC-AUC score is ==> 0.8719171958813737\n",
      "Fold 4 ==> KNN with RFE oof ROC-AUC score is ==> 0.8302376841975461\n",
      "Fold 4 ==> Average Ensemble oof ROC-AUC score is ==> 0.8717630556754423\n",
      "Fold 4 ==> Hill Climbing Ensemble oof ROC-AUC score is ==> 0.8773891731919354\n",
      "----------------------------------------------------------\n",
      "Fold 5 ==> XG without one hot oof ROC-AUC score is ==> 0.8856998992950655\n",
      "Fold 5 ==> XG with one hot oof ROC-AUC score is ==> 0.8874506158494074\n",
      "Fold 5 ==> LightGBM oof ROC-AUC score is ==> 0.8884731582616778\n",
      "Fold 5 ==> LightGBM without cat features oof ROC-AUC score is ==> 0.8828879076613215\n",
      "Fold 5 ==> Logreg with RFE oof ROC-AUC score is ==> 0.8911689518940276\n",
      "Fold 5 ==> RF with RFE oof ROC-AUC score is ==> 0.8889069641335502\n",
      "Fold 5 ==> KNN with RFE oof ROC-AUC score is ==> 0.8418157874351229\n",
      "Fold 5 ==> Average Ensemble oof ROC-AUC score is ==> 0.8906112014873344\n",
      "Fold 5 ==> Hill Climbing Ensemble oof ROC-AUC score is ==> 0.8964056084902006\n",
      "----------------------------------------------------------\n",
      "Fold 6 ==> XG without one hot oof ROC-AUC score is ==> 0.8611743744674258\n",
      "Fold 6 ==> XG with one hot oof ROC-AUC score is ==> 0.863885661166628\n",
      "Fold 6 ==> LightGBM oof ROC-AUC score is ==> 0.86149972887133\n",
      "Fold 6 ==> LightGBM without cat features oof ROC-AUC score is ==> 0.8528391045007359\n",
      "Fold 6 ==> Logreg with RFE oof ROC-AUC score is ==> 0.8585018204353553\n",
      "Fold 6 ==> RF with RFE oof ROC-AUC score is ==> 0.8590208381749167\n",
      "Fold 6 ==> KNN with RFE oof ROC-AUC score is ==> 0.8091331629095979\n",
      "Fold 6 ==> Average Ensemble oof ROC-AUC score is ==> 0.862692695018979\n",
      "Fold 6 ==> Hill Climbing Ensemble oof ROC-AUC score is ==> 0.8650786273142769\n",
      "----------------------------------------------------------\n",
      "Fold 7 ==> XG without one hot oof ROC-AUC score is ==> 0.8720195212642342\n",
      "Fold 7 ==> XG with one hot oof ROC-AUC score is ==> 0.8678906189480208\n",
      "Fold 7 ==> LightGBM oof ROC-AUC score is ==> 0.8672089240065072\n",
      "Fold 7 ==> LightGBM without cat features oof ROC-AUC score is ==> 0.8674025873421644\n",
      "Fold 7 ==> Logreg with RFE oof ROC-AUC score is ==> 0.8589898520412116\n",
      "Fold 7 ==> RF with RFE oof ROC-AUC score is ==> 0.8704237353784182\n",
      "Fold 7 ==> KNN with RFE oof ROC-AUC score is ==> 0.8267875125881169\n",
      "Fold 7 ==> Average Ensemble oof ROC-AUC score is ==> 0.8697188008366256\n",
      "Fold 7 ==> Hill Climbing Ensemble oof ROC-AUC score is ==> 0.8740723526222016\n",
      "----------------------------------------------------------\n",
      "Fold 8 ==> XG without one hot oof ROC-AUC score is ==> 0.8829034007281742\n",
      "Fold 8 ==> XG with one hot oof ROC-AUC score is ==> 0.8808428228367805\n",
      "Fold 8 ==> LightGBM oof ROC-AUC score is ==> 0.8815400108451468\n",
      "Fold 8 ==> LightGBM without cat features oof ROC-AUC score is ==> 0.8804245100317609\n",
      "Fold 8 ==> Logreg with RFE oof ROC-AUC score is ==> 0.8726934696723216\n",
      "Fold 8 ==> RF with RFE oof ROC-AUC score is ==> 0.8800061972267411\n",
      "Fold 8 ==> KNN with RFE oof ROC-AUC score is ==> 0.8364087071035712\n",
      "Fold 8 ==> Average Ensemble oof ROC-AUC score is ==> 0.8811681772406847\n",
      "Fold 8 ==> Hill Climbing Ensemble oof ROC-AUC score is ==> 0.8838484778061818\n",
      "----------------------------------------------------------\n",
      "Fold 9 ==> XG without one hot oof ROC-AUC score is ==> 0.8682004802850725\n",
      "Fold 9 ==> XG with one hot oof ROC-AUC score is ==> 0.873708265551166\n",
      "Fold 9 ==> LightGBM oof ROC-AUC score is ==> 0.87169416686033\n",
      "Fold 9 ==> LightGBM without cat features oof ROC-AUC score is ==> 0.8666666666666667\n",
      "Fold 9 ==> Logreg with RFE oof ROC-AUC score is ==> 0.8734913626152296\n",
      "Fold 9 ==> RF with RFE oof ROC-AUC score is ==> 0.869494151367263\n",
      "Fold 9 ==> KNN with RFE oof ROC-AUC score is ==> 0.8360136338988302\n",
      "Fold 9 ==> Average Ensemble oof ROC-AUC score is ==> 0.8740413664884964\n",
      "Fold 9 ==> Hill Climbing Ensemble oof ROC-AUC score is ==> 0.8789371756139128\n",
      "----------------------------------------------------------\n",
      "Fold 10 ==> XG without one hot oof ROC-AUC score is ==> 0.8470834301650012\n",
      "Fold 10 ==> XG with one hot oof ROC-AUC score is ==> 0.847052444031296\n",
      "Fold 10 ==> LightGBM oof ROC-AUC score is ==> 0.8447052444031296\n",
      "Fold 10 ==> LightGBM without cat features oof ROC-AUC score is ==> 0.8423425517081107\n",
      "Fold 10 ==> Logreg with RFE oof ROC-AUC score is ==> 0.8495623208614146\n",
      "Fold 10 ==> RF with RFE oof ROC-AUC score is ==> 0.8401115500813386\n",
      "Fold 10 ==> KNN with RFE oof ROC-AUC score is ==> 0.8178092803470447\n",
      "Fold 10 ==> Average Ensemble oof ROC-AUC score is ==> 0.8486947091176699\n",
      "Fold 10 ==> Hill Climbing Ensemble oof ROC-AUC score is ==> 0.8548919358587032\n",
      "----------------------------------------------------------\n",
      "Fold 11 ==> XG without one hot oof ROC-AUC score is ==> 0.8378805484545666\n",
      "Fold 11 ==> XG with one hot oof ROC-AUC score is ==> 0.8427298783794253\n",
      "Fold 11 ==> LightGBM oof ROC-AUC score is ==> 0.8416840963668758\n",
      "Fold 11 ==> LightGBM without cat features oof ROC-AUC score is ==> 0.8380277325896662\n",
      "Fold 11 ==> Logreg with RFE oof ROC-AUC score is ==> 0.8403981718181115\n",
      "Fold 11 ==> RF with RFE oof ROC-AUC score is ==> 0.8328453017274771\n",
      "Fold 11 ==> KNN with RFE oof ROC-AUC score is ==> 0.7994499961267333\n",
      "Fold 11 ==> Average Ensemble oof ROC-AUC score is ==> 0.8420171973042063\n",
      "Fold 11 ==> Hill Climbing Ensemble oof ROC-AUC score is ==> 0.8455186304128903\n",
      "----------------------------------------------------------\n",
      "Fold 12 ==> XG without one hot oof ROC-AUC score is ==> 0.8513672631497405\n",
      "Fold 12 ==> XG with one hot oof ROC-AUC score is ==> 0.8542799597180263\n",
      "Fold 12 ==> LightGBM oof ROC-AUC score is ==> 0.8563405376094197\n",
      "Fold 12 ==> LightGBM without cat features oof ROC-AUC score is ==> 0.8477108993725307\n",
      "Fold 12 ==> Logreg with RFE oof ROC-AUC score is ==> 0.8565806801456349\n",
      "Fold 12 ==> RF with RFE oof ROC-AUC score is ==> 0.855124331861492\n",
      "Fold 12 ==> KNN with RFE oof ROC-AUC score is ==> 0.8279494926020605\n",
      "Fold 12 ==> Average Ensemble oof ROC-AUC score is ==> 0.8584630877682238\n",
      "Fold 12 ==> Hill Climbing Ensemble oof ROC-AUC score is ==> 0.8619025486094973\n",
      "----------------------------------------------------------\n",
      "Fold 13 ==> XG without one hot oof ROC-AUC score is ==> 0.8694631652335582\n",
      "Fold 13 ==> XG with one hot oof ROC-AUC score is ==> 0.8670307537377023\n",
      "Fold 13 ==> LightGBM oof ROC-AUC score is ==> 0.8661011697265475\n",
      "Fold 13 ==> LightGBM without cat features oof ROC-AUC score is ==> 0.8634750948950345\n",
      "Fold 13 ==> Logreg with RFE oof ROC-AUC score is ==> 0.8563870168099775\n",
      "Fold 13 ==> RF with RFE oof ROC-AUC score is ==> 0.8657293361220854\n",
      "Fold 13 ==> KNN with RFE oof ROC-AUC score is ==> 0.839003795801379\n",
      "Fold 13 ==> Average Ensemble oof ROC-AUC score is ==> 0.8663490587961887\n",
      "Fold 13 ==> Hill Climbing Ensemble oof ROC-AUC score is ==> 0.8705631729800914\n",
      "----------------------------------------------------------\n",
      "Fold 14 ==> XG without one hot oof ROC-AUC score is ==> 0.8697575335037571\n",
      "Fold 14 ==> XG with one hot oof ROC-AUC score is ==> 0.8667286389340769\n",
      "Fold 14 ==> LightGBM oof ROC-AUC score is ==> 0.8672554032070648\n",
      "Fold 14 ==> LightGBM without cat features oof ROC-AUC score is ==> 0.8664032845301727\n",
      "Fold 14 ==> Logreg with RFE oof ROC-AUC score is ==> 0.8634363622279031\n",
      "Fold 14 ==> RF with RFE oof ROC-AUC score is ==> 0.8606166240607328\n",
      "Fold 14 ==> KNN with RFE oof ROC-AUC score is ==> 0.838236888992176\n",
      "Fold 14 ==> Average Ensemble oof ROC-AUC score is ==> 0.8684638624215664\n",
      "Fold 14 ==> Hill Climbing Ensemble oof ROC-AUC score is ==> 0.8716864203269037\n",
      "----------------------------------------------------------\n",
      "Fold 15 ==> XG without one hot oof ROC-AUC score is ==> 0.8719647822057461\n",
      "Fold 15 ==> XG with one hot oof ROC-AUC score is ==> 0.8732468334877973\n",
      "Fold 15 ==> LightGBM oof ROC-AUC score is ==> 0.8715400061785603\n",
      "Fold 15 ==> LightGBM without cat features oof ROC-AUC score is ==> 0.8715554525795491\n",
      "Fold 15 ==> Logreg with RFE oof ROC-AUC score is ==> 0.8652378745752239\n",
      "Fold 15 ==> RF with RFE oof ROC-AUC score is ==> 0.8700957676861291\n",
      "Fold 15 ==> KNN with RFE oof ROC-AUC score is ==> 0.8467253629904232\n",
      "Fold 15 ==> Average Ensemble oof ROC-AUC score is ==> 0.8716713005869632\n",
      "Fold 15 ==> Hill Climbing Ensemble oof ROC-AUC score is ==> 0.8765214704973741\n",
      "----------------------------------------------------------\n",
      "Fold 16 ==> XG without one hot oof ROC-AUC score is ==> 0.8755626117516493\n",
      "Fold 16 ==> XG with one hot oof ROC-AUC score is ==> 0.8748689808249583\n",
      "Fold 16 ==> LightGBM oof ROC-AUC score is ==> 0.874044330723226\n",
      "Fold 16 ==> LightGBM without cat features oof ROC-AUC score is ==> 0.8722948393859056\n",
      "Fold 16 ==> Logreg with RFE oof ROC-AUC score is ==> 0.869728404957149\n",
      "Fold 16 ==> RF with RFE oof ROC-AUC score is ==> 0.8749075158764412\n",
      "Fold 16 ==> KNN with RFE oof ROC-AUC score is ==> 0.8347077501695542\n",
      "Fold 16 ==> Average Ensemble oof ROC-AUC score is ==> 0.8759787903076639\n",
      "Fold 16 ==> Hill Climbing Ensemble oof ROC-AUC score is ==> 0.8791694925704422\n",
      "----------------------------------------------------------\n",
      "Fold 17 ==> XG without one hot oof ROC-AUC score is ==> 0.8744990443307231\n",
      "Fold 17 ==> XG with one hot oof ROC-AUC score is ==> 0.8759633762870707\n",
      "Fold 17 ==> LightGBM oof ROC-AUC score is ==> 0.8742061779394538\n",
      "Fold 17 ==> LightGBM without cat features oof ROC-AUC score is ==> 0.8695434367100315\n",
      "Fold 17 ==> Logreg with RFE oof ROC-AUC score is ==> 0.8784912756643443\n",
      "Fold 17 ==> RF with RFE oof ROC-AUC score is ==> 0.870791972378075\n",
      "Fold 17 ==> KNN with RFE oof ROC-AUC score is ==> 0.8294515691472963\n",
      "Fold 17 ==> Average Ensemble oof ROC-AUC score is ==> 0.8762562426783402\n",
      "Fold 17 ==> Hill Climbing Ensemble oof ROC-AUC score is ==> 0.8802176459707749\n",
      "----------------------------------------------------------\n",
      "Fold 18 ==> XG without one hot oof ROC-AUC score is ==> 0.8584145138417905\n",
      "Fold 18 ==> XG with one hot oof ROC-AUC score is ==> 0.8594472532215303\n",
      "Fold 18 ==> LightGBM oof ROC-AUC score is ==> 0.8585147049756457\n",
      "Fold 18 ==> LightGBM without cat features oof ROC-AUC score is ==> 0.8576129847709477\n",
      "Fold 18 ==> Logreg with RFE oof ROC-AUC score is ==> 0.8523413897280967\n",
      "Fold 18 ==> RF with RFE oof ROC-AUC score is ==> 0.8554164868364263\n",
      "Fold 18 ==> KNN with RFE oof ROC-AUC score is ==> 0.8145539182440348\n",
      "Fold 18 ==> Average Ensemble oof ROC-AUC score is ==> 0.8597247055922066\n",
      "Fold 18 ==> Hill Climbing Ensemble oof ROC-AUC score is ==> 0.8633470004315926\n",
      "----------------------------------------------------------\n",
      "Fold 19 ==> XG without one hot oof ROC-AUC score is ==> 0.8297829705900486\n",
      "Fold 19 ==> XG with one hot oof ROC-AUC score is ==> 0.8295517602811517\n",
      "Fold 19 ==> LightGBM oof ROC-AUC score is ==> 0.8265306122448979\n",
      "Fold 19 ==> LightGBM without cat features oof ROC-AUC score is ==> 0.8121955730932857\n",
      "Fold 19 ==> Logreg with RFE oof ROC-AUC score is ==> 0.8262685738948148\n",
      "Fold 19 ==> RF with RFE oof ROC-AUC score is ==> 0.8247657068869845\n",
      "Fold 19 ==> KNN with RFE oof ROC-AUC score is ==> 0.7974289413650657\n",
      "Fold 19 ==> Average Ensemble oof ROC-AUC score is ==> 0.8298754547136076\n",
      "Fold 19 ==> Hill Climbing Ensemble oof ROC-AUC score is ==> 0.8384764782045749\n",
      "----------------------------------------------------------\n",
      "Fold 20 ==> XG without one hot oof ROC-AUC score is ==> 0.8627933999535208\n",
      "Fold 20 ==> XG with one hot oof ROC-AUC score is ==> 0.8658455341234796\n",
      "Fold 20 ==> LightGBM oof ROC-AUC score is ==> 0.8616004338058719\n",
      "Fold 20 ==> LightGBM without cat features oof ROC-AUC score is ==> 0.8554496862653963\n",
      "Fold 20 ==> Logreg with RFE oof ROC-AUC score is ==> 0.8705012007126811\n",
      "Fold 20 ==> RF with RFE oof ROC-AUC score is ==> 0.8545975675885041\n",
      "Fold 20 ==> KNN with RFE oof ROC-AUC score is ==> 0.8210705709195136\n",
      "Fold 20 ==> Average Ensemble oof ROC-AUC score is ==> 0.8647300333100938\n",
      "Fold 20 ==> Hill Climbing Ensemble oof ROC-AUC score is ==> 0.8714850104578202\n",
      "----------------------------------------------------------\n",
      "Fold 21 ==> XG without one hot oof ROC-AUC score is ==> 0.8606088775273065\n",
      "Fold 21 ==> XG with one hot oof ROC-AUC score is ==> 0.860407467658223\n",
      "Fold 21 ==> LightGBM oof ROC-AUC score is ==> 0.8572391354868697\n",
      "Fold 21 ==> LightGBM without cat features oof ROC-AUC score is ==> 0.8564877217445194\n",
      "Fold 21 ==> Logreg with RFE oof ROC-AUC score is ==> 0.8544658765202572\n",
      "Fold 21 ==> RF with RFE oof ROC-AUC score is ==> 0.8566891316136028\n",
      "Fold 21 ==> KNN with RFE oof ROC-AUC score is ==> 0.808575412502905\n",
      "Fold 21 ==> Average Ensemble oof ROC-AUC score is ==> 0.8605314121930437\n",
      "Fold 21 ==> Hill Climbing Ensemble oof ROC-AUC score is ==> 0.8633976295607716\n",
      "----------------------------------------------------------\n",
      "Fold 22 ==> XG without one hot oof ROC-AUC score is ==> 0.8622201564799752\n",
      "Fold 22 ==> XG with one hot oof ROC-AUC score is ==> 0.8606243705941592\n",
      "Fold 22 ==> LightGBM oof ROC-AUC score is ==> 0.8625997366178635\n",
      "Fold 22 ==> LightGBM without cat features oof ROC-AUC score is ==> 0.8586877372375863\n",
      "Fold 22 ==> Logreg with RFE oof ROC-AUC score is ==> 0.8605236656596174\n",
      "Fold 22 ==> RF with RFE oof ROC-AUC score is ==> 0.8589201332403751\n",
      "Fold 22 ==> KNN with RFE oof ROC-AUC score is ==> 0.8307304981020993\n",
      "Fold 22 ==> Average Ensemble oof ROC-AUC score is ==> 0.8635525602292973\n",
      "Fold 22 ==> Hill Climbing Ensemble oof ROC-AUC score is ==> 0.8675962506778216\n",
      "----------------------------------------------------------\n",
      "Fold 23 ==> XG without one hot oof ROC-AUC score is ==> 0.8361065922999458\n",
      "Fold 23 ==> XG with one hot oof ROC-AUC score is ==> 0.8360446200325353\n",
      "Fold 23 ==> LightGBM oof ROC-AUC score is ==> 0.8364474397707026\n",
      "Fold 23 ==> LightGBM without cat features oof ROC-AUC score is ==> 0.8359206754977148\n",
      "Fold 23 ==> Logreg with RFE oof ROC-AUC score is ==> 0.8306297931675577\n",
      "Fold 23 ==> RF with RFE oof ROC-AUC score is ==> 0.8360446200325354\n",
      "Fold 23 ==> KNN with RFE oof ROC-AUC score is ==> 0.7884576651948254\n",
      "Fold 23 ==> Average Ensemble oof ROC-AUC score is ==> 0.8367727941746068\n",
      "Fold 23 ==> Hill Climbing Ensemble oof ROC-AUC score is ==> 0.8414207142303819\n",
      "----------------------------------------------------------\n",
      "Fold 24 ==> XG without one hot oof ROC-AUC score is ==> 0.8960182818188861\n",
      "Fold 24 ==> XG with one hot oof ROC-AUC score is ==> 0.8949802463397629\n",
      "Fold 24 ==> LightGBM oof ROC-AUC score is ==> 0.8921295220388876\n",
      "Fold 24 ==> LightGBM without cat features oof ROC-AUC score is ==> 0.888101324657216\n",
      "Fold 24 ==> Logreg with RFE oof ROC-AUC score is ==> 0.8868076535750251\n",
      "Fold 24 ==> RF with RFE oof ROC-AUC score is ==> 0.8903710589511193\n",
      "Fold 24 ==> KNN with RFE oof ROC-AUC score is ==> 0.8690835850956697\n",
      "Fold 24 ==> Average Ensemble oof ROC-AUC score is ==> 0.8941281276628709\n",
      "Fold 24 ==> Hill Climbing Ensemble oof ROC-AUC score is ==> 0.8973042063676505\n",
      "----------------------------------------------------------\n",
      "Fold 25 ==> XG without one hot oof ROC-AUC score is ==> 0.8589046401735223\n",
      "Fold 25 ==> XG with one hot oof ROC-AUC score is ==> 0.8587497095049966\n",
      "Fold 25 ==> LightGBM oof ROC-AUC score is ==> 0.8565651870787823\n",
      "Fold 25 ==> LightGBM without cat features oof ROC-AUC score is ==> 0.8533038965063134\n",
      "Fold 25 ==> Logreg with RFE oof ROC-AUC score is ==> 0.8514834611511348\n",
      "Fold 25 ==> RF with RFE oof ROC-AUC score is ==> 0.8522581144937639\n",
      "Fold 25 ==> KNN with RFE oof ROC-AUC score is ==> 0.8226508637384771\n",
      "Fold 25 ==> Average Ensemble oof ROC-AUC score is ==> 0.8574637849562321\n",
      "Fold 25 ==> Hill Climbing Ensemble oof ROC-AUC score is ==> 0.8598807033852351\n",
      "----------------------------------------------------------\n",
      "Fold 26 ==> XG without one hot oof ROC-AUC score is ==> 0.8614377566039197\n",
      "Fold 26 ==> XG with one hot oof ROC-AUC score is ==> 0.860275776589976\n",
      "Fold 26 ==> LightGBM oof ROC-AUC score is ==> 0.8631807266248354\n",
      "Fold 26 ==> LightGBM without cat features oof ROC-AUC score is ==> 0.8586954837710123\n",
      "Fold 26 ==> Logreg with RFE oof ROC-AUC score is ==> 0.8537067162444807\n",
      "Fold 26 ==> RF with RFE oof ROC-AUC score is ==> 0.859795491517546\n",
      "Fold 26 ==> KNN with RFE oof ROC-AUC score is ==> 0.8226895964056085\n",
      "Fold 26 ==> Average Ensemble oof ROC-AUC score is ==> 0.861205360601131\n",
      "Fold 26 ==> Hill Climbing Ensemble oof ROC-AUC score is ==> 0.8675575180106903\n",
      "----------------------------------------------------------\n",
      "Fold 27 ==> XG without one hot oof ROC-AUC score is ==> 0.8502207762026492\n",
      "Fold 27 ==> XG with one hot oof ROC-AUC score is ==> 0.8526531876985051\n",
      "Fold 27 ==> LightGBM oof ROC-AUC score is ==> 0.8504066930048804\n",
      "Fold 27 ==> LightGBM without cat features oof ROC-AUC score is ==> 0.8476411805716942\n",
      "Fold 27 ==> Logreg with RFE oof ROC-AUC score is ==> 0.8489813308544426\n",
      "Fold 27 ==> RF with RFE oof ROC-AUC score is ==> 0.844372143465799\n",
      "Fold 27 ==> KNN with RFE oof ROC-AUC score is ==> 0.8236191804167634\n",
      "Fold 27 ==> Average Ensemble oof ROC-AUC score is ==> 0.8528700906344411\n",
      "Fold 27 ==> Hill Climbing Ensemble oof ROC-AUC score is ==> 0.8608645131303742\n",
      "----------------------------------------------------------\n",
      "Fold 28 ==> XG without one hot oof ROC-AUC score is ==> 0.8703307769773025\n",
      "Fold 28 ==> XG with one hot oof ROC-AUC score is ==> 0.8714927569912464\n",
      "Fold 28 ==> LightGBM oof ROC-AUC score is ==> 0.8729181191416842\n",
      "Fold 28 ==> LightGBM without cat features oof ROC-AUC score is ==> 0.866542722131846\n",
      "Fold 28 ==> Logreg with RFE oof ROC-AUC score is ==> 0.870578666046944\n",
      "Fold 28 ==> RF with RFE oof ROC-AUC score is ==> 0.8704779611124022\n",
      "Fold 28 ==> KNN with RFE oof ROC-AUC score is ==> 0.8364164536369973\n",
      "Fold 28 ==> Average Ensemble oof ROC-AUC score is ==> 0.8741420714230382\n",
      "Fold 28 ==> Hill Climbing Ensemble oof ROC-AUC score is ==> 0.8760322255790535\n",
      "----------------------------------------------------------\n",
      "Fold 29 ==> XG without one hot oof ROC-AUC score is ==> 0.8492911921914943\n",
      "Fold 29 ==> XG with one hot oof ROC-AUC score is ==> 0.8536215043767913\n",
      "Fold 29 ==> LightGBM oof ROC-AUC score is ==> 0.8490820357889846\n",
      "Fold 29 ==> LightGBM without cat features oof ROC-AUC score is ==> 0.8492292199240838\n",
      "Fold 29 ==> Logreg with RFE oof ROC-AUC score is ==> 0.8555348981330855\n",
      "Fold 29 ==> RF with RFE oof ROC-AUC score is ==> 0.8438608722596638\n",
      "Fold 29 ==> KNN with RFE oof ROC-AUC score is ==> 0.8010767681462545\n",
      "Fold 29 ==> Average Ensemble oof ROC-AUC score is ==> 0.8523045936943217\n",
      "Fold 29 ==> Hill Climbing Ensemble oof ROC-AUC score is ==> 0.8622201564799752\n"
     ]
    }
   ],
   "source": [
    "cat_features = ['partnerrolestart_date_year', 'partnerrolestart_date_month',\n",
    "                'partnerrolestart_date_day', '0_oh', '1_oh', '2_oh', '3_oh', '4_oh', '5_oh', 'active_in_weekends']\n",
    "\n",
    "one_hot_cols = ['0_oh', '1_oh', '3_oh', '4_oh', '5_oh']\n",
    "\n",
    "test_drop_cols = ['clientbankpartner_pin', 'partnerrolestart_date']\n",
    "if 'target' in test.columns:\n",
    "    test_drop_cols.append('target')\n",
    "\n",
    "ens_cv_scores, ens_preds = list(), list()\n",
    "hill_ens_cv_scores, hill_ens_preds = list(), list()\n",
    "ridge_ens_cv_scores, ridge_ens_preds = list(), list()\n",
    "hill_ens_cv_recall = list()\n",
    "\n",
    "X, y = train.drop(columns=[\"clientbankpartner_pin\", \"partnerrolestart_date\", \"target\"]), train[\"target\"]\n",
    "\n",
    "skf = RepeatedStratifiedKFold(n_splits=15, n_repeats=2, random_state=seed)\n",
    "for i, (train_index, test_index) in enumerate(skf.split(X, y)):\n",
    "    oof_preds = pd.DataFrame()\n",
    "    oof_test_preds = pd.DataFrame()\n",
    "    print('----------------------------------------------------------')\n",
    "    x_train_fold, x_test_fold = X.iloc[train_index], X.iloc[test_index]\n",
    "    y_train_fold, y_test_fold = y.iloc[train_index], y.iloc[test_index]\n",
    "\n",
    "    # XGBoost without one hot\n",
    "    xg_model_withount_oh = XGBClassifier(random_state=seed, **xg_params_without_oh)\n",
    "    xg_model_withount_oh.fit(x_train_fold.drop(columns=cat_features), y_train_fold,\n",
    "                             eval_set=[(x_test_fold.drop(columns=cat_features), y_test_fold)],\n",
    "                             eval_metric='auc',\n",
    "                             verbose=0)\n",
    "    xg_model_withount_oh_pred = xg_model_withount_oh.predict_proba(x_test_fold.drop(columns=cat_features))[:, 1]\n",
    "    xg_model_withount_oh_score = roc_auc_score(y_test_fold, xg_model_withount_oh_pred)\n",
    "    print('Fold', i, '==> XG without one hot oof ROC-AUC score is ==>', xg_model_withount_oh_score)\n",
    "    xg_model_withount_oh_test_pred = xg_model_withount_oh.predict_proba(\n",
    "        test.drop(columns=cat_features + test_drop_cols))[:, 1]\n",
    "\n",
    "    # XGBoost with one hot\n",
    "    xg = XGBClassifier(random_state=seed, **xg_params)\n",
    "    xg.fit(x_train_fold, y_train_fold,\n",
    "           eval_set=[(x_test_fold, y_test_fold)],\n",
    "           eval_metric='auc',\n",
    "           verbose=0)\n",
    "    xg_pred = xg.predict_proba(x_test_fold)[:, 1]\n",
    "    xg_score = roc_auc_score(y_test_fold, xg_pred)\n",
    "    print('Fold', i, '==> XG with one hot oof ROC-AUC score is ==>', xg_score)\n",
    "    xg_test_pred = xg.predict_proba(test.drop(columns=test_drop_cols))[:, 1]\n",
    "\n",
    "    # LightGBM with categorical features\n",
    "    sys.stdout = open(os.devnull, 'w')\n",
    "    li = LGBMClassifier(random_state=seed, **li_cat_features_params)\n",
    "    li.fit(x_train_fold, y_train_fold,\n",
    "           eval_set=[(x_test_fold, y_test_fold)],\n",
    "           categorical_feature=cat_features,\n",
    "           eval_metric='auc')\n",
    "    li_pred = li.predict_proba(x_test_fold)[:, 1]\n",
    "    li_score = roc_auc_score(y_test_fold, li_pred)\n",
    "    sys.stdout = original_stdout\n",
    "    print('Fold', i, '==> LightGBM oof ROC-AUC score is ==>', li_score)\n",
    "    li_test_pred = li.predict_proba(test.drop(columns=test_drop_cols))[:, 1]\n",
    "\n",
    "    # LightGBM without categorical features\n",
    "    sys.stdout = open(os.devnull, 'w')\n",
    "    li_withount_cat = LGBMClassifier(random_state=seed, **li_params)\n",
    "    li_withount_cat.fit(x_train_fold.drop(columns=cat_features), y_train_fold,\n",
    "                        eval_set=[(x_test_fold.drop(columns=cat_features), y_test_fold)],\n",
    "                        eval_metric='auc')\n",
    "    li_withount_cat_pred = li_withount_cat.predict_proba(x_test_fold.drop(columns=cat_features))[:, 1]\n",
    "    li_withount_cat_score = roc_auc_score(y_test_fold, li_withount_cat_pred)\n",
    "    sys.stdout = original_stdout\n",
    "    print('Fold', i, '==> LightGBM without cat features oof ROC-AUC score is ==>', li_withount_cat_score)\n",
    "    li_withount_cat_test_pred = li_withount_cat.predict_proba(test.drop(columns=cat_features + test_drop_cols))[:, 1]\n",
    "\n",
    "    # Logreg with rfe\n",
    "    logreg = LogisticRegression(random_state=seed)\n",
    "    logreg.fit(x_train_fold[x_train_fold.columns[rfe.support_]], y_train_fold)\n",
    "    logreg_pred = logreg.predict_proba(x_test_fold[x_train_fold.columns[rfe.support_]])[:, 1]\n",
    "    logreg_score = roc_auc_score(y_test_fold, logreg_pred)\n",
    "    print('Fold', i, '==> Logreg with RFE oof ROC-AUC score is ==>', logreg_score)\n",
    "    logreg_test_pred = logreg.predict_proba(test[x_train_fold.columns[rfe.support_]])[:, 1]\n",
    "\n",
    "    # RF with rfe\n",
    "    rf = RandomForestClassifier(n_estimators=100, max_depth=4, random_state=seed)\n",
    "    rf.fit(x_train_fold[x_train_fold.columns[rfe.support_]], y_train_fold)\n",
    "    rf_pred = rf.predict_proba(x_test_fold[x_train_fold.columns[rfe.support_]])[:, 1]\n",
    "    rf_score = roc_auc_score(y_test_fold, rf_pred)\n",
    "    print('Fold', i, '==> RF with RFE oof ROC-AUC score is ==>', rf_score)\n",
    "    rf_test_pred = rf.predict_proba(test[x_train_fold.columns[rfe.support_]])[:, 1]\n",
    "\n",
    "    # KNN with RFE\n",
    "    nn = KNeighborsClassifier(n_neighbors=15, weights=\"uniform\", algorithm=\"kd_tree\", p=1)\n",
    "    nn.fit(x_train_fold[x_train_fold.columns[rfe.support_]], y_train_fold)\n",
    "    nn_pred = nn.predict_proba(x_test_fold[x_train_fold.columns[rfe.support_]])[:, 1]\n",
    "    nn_score = roc_auc_score(y_test_fold, nn_pred)\n",
    "    print('Fold', i, '==> KNN with RFE oof ROC-AUC score is ==>', nn_score)\n",
    "    nn_test_pred = nn.predict_proba(test[x_train_fold.columns[rfe.support_]])[:, 1]\n",
    "\n",
    "    # Ensemble \n",
    "    ens_pred_1 = (xg_model_withount_oh_pred + xg_pred + li_pred + li_withount_cat_pred + logreg_pred + rf_pred) / 6\n",
    "    ens_pred_2 = (\n",
    "                             xg_model_withount_oh_test_pred + xg_test_pred + li_test_pred + li_withount_cat_test_pred + logreg_test_pred + rf_test_pred) / 6\n",
    "\n",
    "    ens_score_fold = roc_auc_score(y_test_fold, ens_pred_1)\n",
    "    ens_cv_scores.append(ens_score_fold)\n",
    "    ens_preds.append(ens_pred_2)\n",
    "    print('Fold', i, '==> Average Ensemble oof ROC-AUC score is ==>', ens_score_fold)\n",
    "\n",
    "    # Hill Climbing Ensemble\n",
    "    x = pd.DataFrame({'XGB_without_oh': xg_model_withount_oh_pred,\n",
    "                      'XGB': xg_pred,\n",
    "                      'LightGBM': li_pred,\n",
    "                      'LightGBM_without_cat': li_withount_cat_pred,\n",
    "                      'Logreg': logreg_pred,\n",
    "                      'rf': rf_pred,\n",
    "                      'Knn': nn_pred})\n",
    "    y_fold = y_test_fold\n",
    "\n",
    "    x_test = pd.DataFrame({'XGB_without_oh': xg_model_withount_oh_test_pred,\n",
    "                           'XGB': xg_test_pred,\n",
    "                           'LightGBM': li_test_pred,\n",
    "                           'LightGBM_without_cat': li_withount_cat_test_pred,\n",
    "                           'Logreg': logreg_test_pred,\n",
    "                           'rf': rf_test_pred,\n",
    "                           'Knn': nn_test_pred})\n",
    "\n",
    "    hill_results = hill_climbing(x, y_fold, x_test)\n",
    "\n",
    "    hill_ens_cv_recall.append((recall_score(y_fold, hill_results[0].apply(lambda x: 1 if x > 0.5 else 0))))\n",
    "    hill_ens_score_fold = roc_auc_score(y_fold, hill_results[0])\n",
    "    hill_ens_cv_scores.append(hill_ens_score_fold)\n",
    "    hill_ens_preds.append(hill_results[1])\n",
    "\n",
    "    print('Fold', i, '==> Hill Climbing Ensemble oof ROC-AUC score is ==>', hill_ens_score_fold)"
   ],
   "metadata": {
    "collapsed": false,
    "ExecuteTime": {
     "end_time": "2024-05-16T08:06:15.354620800Z",
     "start_time": "2024-05-16T08:04:15.574403Z"
    }
   }
  },
  {
   "cell_type": "code",
   "execution_count": 248,
   "outputs": [
    {
     "name": "stdout",
     "output_type": "stream",
     "text": [
      "The average ensemble oof ROC-AUC score over the 30-folds is 0.8624995383095282\n",
      "The hill climbing ensemble oof ROC-AUC score over the 30-folds is 0.8675466284202134\n",
      "The hill climbing ensemble oof recall score over the 30-folds is 0.9420998192164427\n"
     ]
    }
   ],
   "source": [
    "print('The average ensemble oof ROC-AUC score over the 30-folds is', np.mean(ens_cv_scores))\n",
    "print('The hill climbing ensemble oof ROC-AUC score over the 30-folds is', np.mean(hill_ens_cv_scores))\n",
    "print('The hill climbing ensemble oof recall score over the 30-folds is', np.mean(hill_ens_cv_recall))"
   ],
   "metadata": {
    "collapsed": false,
    "ExecuteTime": {
     "end_time": "2024-05-16T08:06:22.969575200Z",
     "start_time": "2024-05-16T08:06:22.941387Z"
    }
   }
  },
  {
   "cell_type": "code",
   "execution_count": 249,
   "outputs": [],
   "source": [
    "ens_preds_test = pd.DataFrame(hill_ens_preds).apply(np.mean, axis = 0).to_numpy()\n",
    "\n",
    "test['target'] = ens_preds_test"
   ],
   "metadata": {
    "collapsed": false,
    "ExecuteTime": {
     "end_time": "2024-05-16T08:06:23.819891600Z",
     "start_time": "2024-05-16T08:06:23.616340800Z"
    }
   }
  },
  {
   "cell_type": "code",
   "execution_count": 250,
   "outputs": [],
   "source": [
    "def f(x):  # Получение скора по clientbankpartner_pin\n",
    "    return test[test[\"clientbankpartner_pin\"] == x][\"target\"].values[0]\n",
    "\n",
    "\n",
    "sub_example[\"score\"] = sub_example[\"clientbankpartner_pin\"].apply(f)"
   ],
   "metadata": {
    "collapsed": false,
    "ExecuteTime": {
     "end_time": "2024-05-16T08:06:27.315668100Z",
     "start_time": "2024-05-16T08:06:23.976301100Z"
    }
   }
  },
  {
   "cell_type": "code",
   "execution_count": 251,
   "outputs": [],
   "source": [
    "sub_example[\"score\"] = sub_example[\"score\"].apply(lambda x: max(0, x))"
   ],
   "metadata": {
    "collapsed": false,
    "ExecuteTime": {
     "end_time": "2024-05-16T08:06:27.331663600Z",
     "start_time": "2024-05-16T08:06:27.317668600Z"
    }
   }
  },
  {
   "cell_type": "code",
   "execution_count": 252,
   "outputs": [],
   "source": [
    "sub_example.to_csv(\"submission.csv\", index=False)"
   ],
   "metadata": {
    "collapsed": false,
    "ExecuteTime": {
     "end_time": "2024-05-16T08:06:27.345148Z",
     "start_time": "2024-05-16T08:06:27.325654400Z"
    }
   }
  },
  {
   "cell_type": "code",
   "execution_count": 235,
   "outputs": [
    {
     "data": {
      "text/plain": "      clientbankpartner_pin     score\n0                      6781  0.116418\n1                    236905  0.217596\n2                    125779  0.386425\n3                      1952  0.419045\n4                      4872  0.671550\n...                     ...       ...\n4503                 121120  0.605337\n4504                  60667  0.785004\n4505                   5065  0.779566\n4506                 133125  0.540631\n4507                 121963  0.728139\n\n[4508 rows x 2 columns]",
      "text/html": "<div>\n<style scoped>\n    .dataframe tbody tr th:only-of-type {\n        vertical-align: middle;\n    }\n\n    .dataframe tbody tr th {\n        vertical-align: top;\n    }\n\n    .dataframe thead th {\n        text-align: right;\n    }\n</style>\n<table border=\"1\" class=\"dataframe\">\n  <thead>\n    <tr style=\"text-align: right;\">\n      <th></th>\n      <th>clientbankpartner_pin</th>\n      <th>score</th>\n    </tr>\n  </thead>\n  <tbody>\n    <tr>\n      <th>0</th>\n      <td>6781</td>\n      <td>0.116418</td>\n    </tr>\n    <tr>\n      <th>1</th>\n      <td>236905</td>\n      <td>0.217596</td>\n    </tr>\n    <tr>\n      <th>2</th>\n      <td>125779</td>\n      <td>0.386425</td>\n    </tr>\n    <tr>\n      <th>3</th>\n      <td>1952</td>\n      <td>0.419045</td>\n    </tr>\n    <tr>\n      <th>4</th>\n      <td>4872</td>\n      <td>0.671550</td>\n    </tr>\n    <tr>\n      <th>...</th>\n      <td>...</td>\n      <td>...</td>\n    </tr>\n    <tr>\n      <th>4503</th>\n      <td>121120</td>\n      <td>0.605337</td>\n    </tr>\n    <tr>\n      <th>4504</th>\n      <td>60667</td>\n      <td>0.785004</td>\n    </tr>\n    <tr>\n      <th>4505</th>\n      <td>5065</td>\n      <td>0.779566</td>\n    </tr>\n    <tr>\n      <th>4506</th>\n      <td>133125</td>\n      <td>0.540631</td>\n    </tr>\n    <tr>\n      <th>4507</th>\n      <td>121963</td>\n      <td>0.728139</td>\n    </tr>\n  </tbody>\n</table>\n<p>4508 rows × 2 columns</p>\n</div>"
     },
     "execution_count": 235,
     "metadata": {},
     "output_type": "execute_result"
    }
   ],
   "source": [
    "sub_example"
   ],
   "metadata": {
    "collapsed": false,
    "ExecuteTime": {
     "end_time": "2024-05-16T08:01:29.552189400Z",
     "start_time": "2024-05-16T08:01:29.541987500Z"
    }
   }
  },
  {
   "cell_type": "code",
   "execution_count": 68,
   "outputs": [],
   "source": [
    "# train.to_csv(\"train.csv\", index=False)"
   ],
   "metadata": {
    "collapsed": false,
    "ExecuteTime": {
     "end_time": "2024-05-15T22:35:58.816927500Z",
     "start_time": "2024-05-15T22:35:58.623451200Z"
    }
   }
  }
 ],
 "metadata": {
  "colab": {
   "collapsed_sections": [
    "wlwsAYiSk0oS",
    "niZyGzmv7WkC",
    "1cRlrw7nAbiM"
   ],
   "provenance": []
  },
  "kernelspec": {
   "name": "python3",
   "language": "python",
   "display_name": "Python 3 (ipykernel)"
  },
  "language_info": {
   "name": "python"
  }
 },
 "nbformat": 4,
 "nbformat_minor": 0
}

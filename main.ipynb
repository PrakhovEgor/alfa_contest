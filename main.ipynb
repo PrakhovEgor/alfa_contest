{
 "cells": [
  {
   "cell_type": "code",
   "execution_count": 151,
   "outputs": [
    {
     "name": "stdout",
     "output_type": "stream",
     "text": [
      "Requirement already satisfied: pandas in c:\\users\\egor\\appdata\\local\\programs\\python\\todel\\lib\\site-packages (2.2.2)\n",
      "Requirement already satisfied: numpy>=1.23.2 in c:\\users\\egor\\appdata\\local\\programs\\python\\todel\\lib\\site-packages (from pandas) (1.26.4)\n",
      "Requirement already satisfied: python-dateutil>=2.8.2 in c:\\users\\egor\\appdata\\local\\programs\\python\\todel\\lib\\site-packages (from pandas) (2.9.0.post0)\n",
      "Requirement already satisfied: pytz>=2020.1 in c:\\users\\egor\\appdata\\local\\programs\\python\\todel\\lib\\site-packages (from pandas) (2024.1)\n",
      "Requirement already satisfied: tzdata>=2022.7 in c:\\users\\egor\\appdata\\local\\programs\\python\\todel\\lib\\site-packages (from pandas) (2024.1)\n",
      "Requirement already satisfied: six>=1.5 in c:\\users\\egor\\appdata\\local\\programs\\python\\todel\\lib\\site-packages (from python-dateutil>=2.8.2->pandas) (1.16.0)\n"
     ]
    },
    {
     "name": "stderr",
     "output_type": "stream",
     "text": [
      "\n",
      "[notice] A new release of pip is available: 23.2.1 -> 24.0\n",
      "[notice] To update, run: python.exe -m pip install --upgrade pip\n"
     ]
    },
    {
     "name": "stdout",
     "output_type": "stream",
     "text": [
      "Requirement already satisfied: numpy in c:\\users\\egor\\appdata\\local\\programs\\python\\todel\\lib\\site-packages (1.26.4)\n"
     ]
    },
    {
     "name": "stderr",
     "output_type": "stream",
     "text": [
      "\n",
      "[notice] A new release of pip is available: 23.2.1 -> 24.0\n",
      "[notice] To update, run: python.exe -m pip install --upgrade pip\n"
     ]
    },
    {
     "name": "stdout",
     "output_type": "stream",
     "text": [
      "Requirement already satisfied: scikit-learn in c:\\users\\egor\\appdata\\local\\programs\\python\\todel\\lib\\site-packages (1.4.2)\n",
      "Requirement already satisfied: numpy>=1.19.5 in c:\\users\\egor\\appdata\\local\\programs\\python\\todel\\lib\\site-packages (from scikit-learn) (1.26.4)\n",
      "Requirement already satisfied: scipy>=1.6.0 in c:\\users\\egor\\appdata\\local\\programs\\python\\todel\\lib\\site-packages (from scikit-learn) (1.13.0)\n",
      "Requirement already satisfied: joblib>=1.2.0 in c:\\users\\egor\\appdata\\local\\programs\\python\\todel\\lib\\site-packages (from scikit-learn) (1.4.2)\n",
      "Requirement already satisfied: threadpoolctl>=2.0.0 in c:\\users\\egor\\appdata\\local\\programs\\python\\todel\\lib\\site-packages (from scikit-learn) (3.5.0)\n"
     ]
    },
    {
     "name": "stderr",
     "output_type": "stream",
     "text": [
      "\n",
      "[notice] A new release of pip is available: 23.2.1 -> 24.0\n",
      "[notice] To update, run: python.exe -m pip install --upgrade pip\n"
     ]
    },
    {
     "name": "stdout",
     "output_type": "stream",
     "text": [
      "Requirement already satisfied: lightgbm in c:\\users\\egor\\appdata\\local\\programs\\python\\todel\\lib\\site-packages (4.3.0)\n",
      "Requirement already satisfied: numpy in c:\\users\\egor\\appdata\\local\\programs\\python\\todel\\lib\\site-packages (from lightgbm) (1.26.4)\n",
      "Requirement already satisfied: scipy in c:\\users\\egor\\appdata\\local\\programs\\python\\todel\\lib\\site-packages (from lightgbm) (1.13.0)\n"
     ]
    },
    {
     "name": "stderr",
     "output_type": "stream",
     "text": [
      "\n",
      "[notice] A new release of pip is available: 23.2.1 -> 24.0\n",
      "[notice] To update, run: python.exe -m pip install --upgrade pip\n"
     ]
    },
    {
     "name": "stdout",
     "output_type": "stream",
     "text": [
      "Requirement already satisfied: xgboost in c:\\users\\egor\\appdata\\local\\programs\\python\\todel\\lib\\site-packages (2.0.3)\n",
      "Requirement already satisfied: numpy in c:\\users\\egor\\appdata\\local\\programs\\python\\todel\\lib\\site-packages (from xgboost) (1.26.4)\n",
      "Requirement already satisfied: scipy in c:\\users\\egor\\appdata\\local\\programs\\python\\todel\\lib\\site-packages (from xgboost) (1.13.0)\n"
     ]
    },
    {
     "name": "stderr",
     "output_type": "stream",
     "text": [
      "\n",
      "[notice] A new release of pip is available: 23.2.1 -> 24.0\n",
      "[notice] To update, run: python.exe -m pip install --upgrade pip\n"
     ]
    }
   ],
   "source": [
    "!pip install pandas\n",
    "!pip install numpy\n",
    "!pip install scikit-learn\n",
    "!pip install lightgbm\n",
    "!pip install xgboost"
   ],
   "metadata": {
    "collapsed": false,
    "ExecuteTime": {
     "end_time": "2024-05-16T08:59:08.314443400Z",
     "start_time": "2024-05-16T08:58:59.410996300Z"
    }
   }
  },
  {
   "cell_type": "markdown",
   "metadata": {
    "id": "2e1lti2Gim2z"
   },
   "source": [
    "## Import\n"
   ]
  },
  {
   "cell_type": "code",
   "execution_count": 152,
   "metadata": {
    "id": "UdKlRq1gh3RL",
    "ExecuteTime": {
     "end_time": "2024-05-16T08:59:08.320476500Z",
     "start_time": "2024-05-16T08:59:08.317463300Z"
    }
   },
   "outputs": [],
   "source": [
    "import pandas as pd\n",
    "import numpy as np\n",
    "from dateutil.relativedelta import relativedelta\n",
    "from sklearn.metrics import recall_score\n",
    "from lightgbm import LGBMClassifier\n",
    "from xgboost import XGBClassifier\n",
    "from sklearn.neighbors import KNeighborsClassifier\n",
    "from sklearn.metrics import roc_auc_score\n",
    "from sklearn.model_selection import train_test_split\n",
    "from sklearn.ensemble import RandomForestClassifier\n",
    "from sklearn.model_selection import RepeatedStratifiedKFold\n",
    "from sklearn.linear_model import LogisticRegression\n",
    "from sklearn.feature_selection import RFE\n",
    "from params import *\n",
    "\n",
    "import warnings\n",
    "warnings.filterwarnings(\"ignore\")"
   ]
  },
  {
   "cell_type": "code",
   "execution_count": 153,
   "outputs": [],
   "source": [
    "seed = 171"
   ],
   "metadata": {
    "collapsed": false,
    "ExecuteTime": {
     "end_time": "2024-05-16T08:59:08.333692300Z",
     "start_time": "2024-05-16T08:59:08.321811Z"
    }
   }
  },
  {
   "cell_type": "markdown",
   "metadata": {
    "id": "2dL1Hm79ip4a"
   },
   "source": [
    "## Data upload\n"
   ]
  },
  {
   "cell_type": "code",
   "execution_count": 154,
   "metadata": {
    "id": "O9gFvmnVij2b",
    "ExecuteTime": {
     "end_time": "2024-05-16T08:59:08.333692300Z",
     "start_time": "2024-05-16T08:59:08.326641700Z"
    }
   },
   "outputs": [],
   "source": [
    "path2folder = \"Alfa Campus Junior ML_ Материалы\""
   ]
  },
  {
   "cell_type": "code",
   "execution_count": 155,
   "metadata": {
    "id": "79BPOIbgjfgy",
    "ExecuteTime": {
     "end_time": "2024-05-16T08:59:08.389229100Z",
     "start_time": "2024-05-16T08:59:08.331167Z"
    }
   },
   "outputs": [],
   "source": [
    "data = pd.read_csv(f\"{path2folder}/dataset.csv\")\n",
    "sub_example = pd.read_csv(f\"{path2folder}/submission_example.csv\")"
   ]
  },
  {
   "cell_type": "markdown",
   "source": [
    "## Data preporation"
   ],
   "metadata": {
    "collapsed": false
   }
  },
  {
   "cell_type": "code",
   "execution_count": 156,
   "outputs": [],
   "source": [
    "def prep4time_series_2(df, first_date, last_date, n_month=3, is_test=False):\n",
    "    \"\"\"\n",
    "    Добавление колонок с привлечением новых клиентов за каждый месяц и подсчёт приведенных клиентов по дням недели\n",
    "    :param df: Датасет\n",
    "    :param first_date: начальная дата\n",
    "    :param last_date: конечная дата\n",
    "    :param n_month: кол-во месяцев для выделения таргета\n",
    "    :param test: флаг тестовая ли выборка\n",
    "    :return: обработанный датасет\n",
    "    \"\"\"\n",
    "    if is_test == False:\n",
    "        date = f\"{(pd.to_datetime(last_date) - relativedelta(months=n_month - 1)).year}-{(pd.to_datetime(last_date) - relativedelta(months=n_month - 1)).month}\"\n",
    "        df[\"client_start_date_day\"] = pd.to_datetime(\n",
    "            df[pd.to_datetime(df[\"client_start_date\"]) < pd.to_datetime(date)][\"client_start_date\"]).dt.dayofweek\n",
    "    else:\n",
    "        df[\"client_start_date_day\"] = pd.to_datetime(df[\"client_start_date\"]).dt.dayofweek\n",
    "\n",
    "    partners_clients_days = df.groupby(\"clientbankpartner_pin\")[\"client_start_date_day\"].apply(lambda x: list(x))\n",
    "    counts = partners_clients_days.apply(lambda x: pd.Series(x).value_counts()).fillna(0)\n",
    "    counts.columns = [f\"day_{i}\" for i in range(7)]\n",
    "    df = df.join(counts, on=\"clientbankpartner_pin\")\n",
    "    df = df.drop(columns=[\"client_start_date_day\"])\n",
    "\n",
    "    first_date = pd.to_datetime(first_date)\n",
    "    last_date = pd.to_datetime(last_date)\n",
    "    dates_n = pd.date_range(start=first_date, end=last_date, freq='MS').tolist()\n",
    "    df[\"client_start_date\"] = pd.to_datetime(df[\"client_start_date\"])\n",
    "    new_dates = []\n",
    "\n",
    "    for date in dates_n:\n",
    "        month_data = df[\n",
    "            (df['client_start_date'].dt.year == date.year) & (df['client_start_date'].dt.month == date.month)].groupby(\n",
    "            \"clientbankpartner_pin\").apply(lambda x: x.shape[0]).reset_index()\n",
    "        month_data.columns = ['clientbankpartner_pin', f\"{date.year}-{date.month}\"]\n",
    "\n",
    "        df = pd.merge(df, month_data, on='clientbankpartner_pin', how='left')\n",
    "        df[f\"{date.year}-{date.month}\"] = df[f\"{date.year}-{date.month}\"].fillna(0).astype(int)\n",
    "        new_dates.append(f\"{date.year}-{date.month}\")\n",
    "    df = df.drop(columns=[\"client_pin\", \"client_start_date\"])\n",
    "    df = df.drop_duplicates()\n",
    "    return df\n",
    "\n",
    "\n",
    "def max_zero_month(x):\n",
    "    \"\"\"\n",
    "    Подсчёт неактивных месяцев\n",
    "    :param x: Строка в датасете\n",
    "    :return: число, кол-во месяцев с отсутствием новых привлечений\n",
    "    \"\"\"\n",
    "    is_zero_start = 0\n",
    "    k = 0\n",
    "    max_k = 0\n",
    "    for i in range(len(x)):\n",
    "        if x[i] > 0 and is_zero_start == 0:\n",
    "            is_zero_start = 1\n",
    "        elif x[i] > 0 and is_zero_start == 1:\n",
    "            max_k = max(k, max_k)\n",
    "            k = 0\n",
    "        elif x[i] == 0 and is_zero_start == 1:\n",
    "            k += 1\n",
    "    return max_k\n",
    "\n",
    "\n",
    "def prep_2(df, first_date=\"2019-3\", last_date=\"2020-11\", n_month=3, is_test=False):\n",
    "    \"\"\"\n",
    "    Обработка исходного датасета\n",
    "    :param df: датасет\n",
    "    :param first_date: начальная дата\n",
    "    :param last_date: конечная дата\n",
    "    :param n_month: кол-во месяцев, рассматриваемых для создания таргета\n",
    "    :param is_test: флаг тестовая ли выборка\n",
    "    :return: обработанный датасет\n",
    "    \"\"\"\n",
    "    df = prep4time_series_2(df, first_date, last_date, n_month, is_test)\n",
    "    df[\"partnerrolestart_date\"] = pd.to_datetime(df[\"partnerrolestart_date\"])\n",
    "    df[\"partnerrolestart_date_year\"] = df[\"partnerrolestart_date\"].dt.year\n",
    "    df[\"partnerrolestart_date_month\"] = df[\"partnerrolestart_date\"].dt.month\n",
    "    df[\"partnerrolestart_date_day\"] = df[\"partnerrolestart_date\"].dt.day\n",
    "    df[\"partnerrolestart_date_dayofweek\"] = df[\"partnerrolestart_date\"].dt.dayofweek\n",
    "\n",
    "    if is_test == False:\n",
    "        # Добавление таргета\n",
    "        target_cols = df.loc[:,\n",
    "                      f\"{(pd.to_datetime(last_date) - relativedelta(months=n_month - 1)).year}-{(pd.to_datetime(last_date) - relativedelta(months=n_month - 1)).month}\":last_date].columns\n",
    "        df[\"target\"] = df[target_cols].apply(lambda x: 0 if sum(x) > 0 else 1, axis=1)\n",
    "        df.drop(columns=target_cols, inplace=True)\n",
    "        new_first_date = first_date\n",
    "        new_last_date = f\"{(pd.to_datetime(last_date) - relativedelta(months=n_month)).year}-{(pd.to_datetime(last_date) - relativedelta(months=n_month)).month}\"\n",
    "    else:\n",
    "        df = df[df[\"clientbankpartner_pin\"].isin(sub_example[\"clientbankpartner_pin\"])]\n",
    "        # Удаление дубликатов\n",
    "        df.drop(index=df[df[\"clientbankpartner_pin\"] == 169900].index[1], inplace=True)\n",
    "        df.drop(index=df[df[\"clientbankpartner_pin\"] == 2754].index[1], inplace=True)\n",
    "        df.drop(index=df[df[\"clientbankpartner_pin\"] == 164386].index[1], inplace=True)\n",
    "        df.drop(index=df[df[\"clientbankpartner_pin\"] == 280151].index[1], inplace=True)\n",
    "        df.drop(index=df[df[\"clientbankpartner_pin\"] == 230807].index[1], inplace=True)\n",
    "        cols_to_drop = df.loc[:,\n",
    "                       first_date:f\"{(pd.to_datetime(first_date) + relativedelta(months=n_month - 1)).year}-{(pd.to_datetime(first_date) + relativedelta(months=n_month - 1)).month}\"].columns\n",
    "        df.drop(columns=cols_to_drop, inplace=True)\n",
    "        new_first_date = f\"{(pd.to_datetime(first_date) + relativedelta(months=n_month)).year}-{(pd.to_datetime(first_date) + relativedelta(months=n_month)).month}\"\n",
    "        new_last_date = last_date\n",
    "\n",
    "    # Добавление новых признаков\n",
    "    df[\"clients_count\"] = df.loc[:, new_first_date:new_last_date].apply(lambda x: sum(x), axis=1)\n",
    "    df = df[df[\"clients_count\"] > 0]\n",
    "    df[\"days_after_partnership\"] = df[\"partnerrolestart_date\"].apply(lambda x: (pd.to_datetime(new_last_date) - x).days)\n",
    "\n",
    "    df[\"active_months\"] = df.loc[:, new_first_date:new_last_date].apply(lambda x: (x > 0).sum(), axis=1)\n",
    "    df[\"last_active_month_ago\"] = df.loc[:, new_first_date:new_last_date].apply(\n",
    "        lambda x: len(x) - np.amax(np.where(x > 0)) if len(np.where(x > 0)[0]) > 0 else len(x), axis=1)\n",
    "    df[\"avg_clients_monthly\"] = df.loc[:, new_first_date:new_last_date].apply(\n",
    "        lambda x: np.mean(np.nan_to_num(x[np.amin(np.where(x > 0)):np.amax(np.where(x > 0))])) if len(\n",
    "            np.where(x > 0)[0]) > 1 else 0, axis=1)\n",
    "\n",
    "    df[\"median_clients_monthly\"] = df.loc[:, new_first_date:new_last_date].apply(\n",
    "        lambda x: np.median(np.nan_to_num(x[np.amin(np.where(x > 0)):np.amax(np.where(x > 0))])) if len(\n",
    "            np.where(x > 0)[0]) > 1 else 0, axis=1)\n",
    "\n",
    "    df[\"std_clients_monthly\"] = df.loc[:, new_first_date:new_last_date].apply(\n",
    "        lambda x: np.std(np.nan_to_num(x[np.amin(np.where(x > 0)):np.amax(np.where(x > 0))])) if len(\n",
    "            np.where(x > 0)[0]) > 1 else 0, axis=1)\n",
    "\n",
    "    df[\"var_clients_monthly\"] = df.loc[:, new_first_date:new_last_date].apply(\n",
    "        lambda x: np.var(np.nan_to_num(x[np.amin(np.where(x > 0)):np.amax(np.where(x > 0))])) if len(\n",
    "            np.where(x > 0)[0]) > 1 else 0, axis=1)\n",
    "\n",
    "    df[\"max_clients_monthly\"] = df.loc[:, new_first_date:new_last_date].apply(\n",
    "        lambda x: np.amax(np.nan_to_num(x[np.amin(np.where(x > 0)):np.amax(np.where(x > 0))])) if len(\n",
    "            np.where(x > 0)[0]) > 1 else x[0] if len(np.where(x > 0)[0]) == 1 else 0, axis=1)\n",
    "\n",
    "    df[\"max_zero_month\"] = df.loc[:, new_first_date:new_last_date].apply(lambda x: max_zero_month(x), axis=1)\n",
    "    df[\"is_any_1_month\"] = df.loc[:, new_first_date:new_last_date].apply(lambda x: 1 if x[-1] > 0 else 0, axis=1)\n",
    "    df[\"is_any_2_month\"] = df.loc[:, new_first_date:new_last_date].apply(lambda x: 1 if x[-2] > 0 else 0, axis=1)\n",
    "    df[\"is_any_3_month\"] = df.loc[:, new_first_date:new_last_date].apply(lambda x: 1 if x[-3] > 0 else 0, axis=1)\n",
    "\n",
    "    df[\"last_month_to_avg\"] = df[[new_last_date, \"avg_clients_monthly\"]].apply(\n",
    "        lambda x: 0 if x[1] == 0 else x[0] / x[1], axis=1)\n",
    "    df[\"last_month_to_all\"] = df.loc[:, new_first_date:new_last_date].apply(\n",
    "        lambda x: x[-1] / sum(x) if sum(x) != 0 else 0, axis=1)\n",
    "\n",
    "    avg_clients_count_per_ccode_data = df.groupby(\"partner_src_type_ccode\")[\"clients_count\"].mean()\n",
    "    df[\"avg_clients_count_per_ccode\"] = df[\"partner_src_type_ccode\"].apply(\n",
    "        lambda x: avg_clients_count_per_ccode_data[x])\n",
    "\n",
    "    one_hot = pd.get_dummies(df['partner_src_type_ccode']).astype(int)\n",
    "    one_hot.columns = [str(x) + \"_oh\" for x in one_hot.columns]\n",
    "    df.drop(columns=[\"partner_src_type_ccode\"], inplace=True)\n",
    "    df = df.join(one_hot)\n",
    "\n",
    "    new_cols = []\n",
    "    k = 1\n",
    "    for col in df.columns:  # Изменение названия колонок: (2019-03, 2019-04, ..., 2020-11) -> (1, 2, ..., 21)\n",
    "        if '-' in col:\n",
    "            new_cols.append(str(k))\n",
    "            k += 1\n",
    "        else:\n",
    "            new_cols.append(col)\n",
    "    df.columns = new_cols\n",
    "\n",
    "    for i in range(1, df.loc[:, '1':str(k - 1)].shape[1]):  # Подсчёт разницы между i + 1 и i месяцами\n",
    "        df[f\"{str(i + 1)}-{str(i)}\"] = df[str(i + 1)] - df[str(i)]\n",
    "\n",
    "    df[\"max_diff\"] = df.loc[:, \"2-1\":f\"{k - 1}-{k - 2}\"].apply(lambda x: np.amax(x), axis=1)\n",
    "    df[\"min_diff\"] = df.loc[:, \"2-1\":f\"{k - 1}-{k - 2}\"].apply(lambda x: np.amin(x), axis=1)\n",
    "\n",
    "    weekdays = [\"day_0\", \"day_1\", \"day_2\", \"day_3\", \"day_4\", \"day_5\", \"day_6\"]\n",
    "    df[\"avg_weekdays\"] = df[weekdays].apply(lambda x: np.mean(x), axis=1)\n",
    "    df[\"median_weekdays\"] = df[weekdays].apply(lambda x: np.median(x), axis=1)\n",
    "    df[\"std_weekdays\"] = df[weekdays].apply(lambda x: np.std(x), axis=1)\n",
    "    df[\"var_weekdays\"] = df[weekdays].apply(lambda x: np.var(x), axis=1)\n",
    "\n",
    "    df[\"weekday2weekends\"] = df[weekdays].apply(lambda x: sum(x[:-2]) / sum(x[-2:]) if sum(x[-2:]) > 0 else 0, axis=1)\n",
    "    df[\"weekday2all\"] = df[weekdays].apply(lambda x: sum(x[:-2]) / sum(x) if sum(x) > 0 else 0, axis=1)\n",
    "    df[\"weekends2all\"] = df[weekdays].apply(lambda x: sum(x[-2:]) / sum(x) if sum(x) > 0 else 0, axis=1)\n",
    "    df[\"active_in_weekends\"] = df[weekdays].apply(lambda x: 1 if sum(x[-2:]) > 0 else 0, axis=1)\n",
    "\n",
    "    return df"
   ],
   "metadata": {
    "collapsed": false,
    "ExecuteTime": {
     "end_time": "2024-05-16T08:59:08.420802100Z",
     "start_time": "2024-05-16T08:59:08.401766900Z"
    }
   }
  },
  {
   "cell_type": "code",
   "execution_count": 157,
   "outputs": [],
   "source": [
    "train = prep_2(data)\n",
    "test = prep_2(data, is_test=True)"
   ],
   "metadata": {
    "collapsed": false,
    "ExecuteTime": {
     "end_time": "2024-05-16T08:59:44.249492400Z",
     "start_time": "2024-05-16T08:59:08.423810700Z"
    }
   }
  },
  {
   "cell_type": "code",
   "execution_count": 158,
   "outputs": [
    {
     "data": {
      "text/plain": "        clientbankpartner_pin partnerrolestart_date  day_0  day_1  day_2  \\\n0                      122027            2019-02-01   18.0   17.0   10.0   \n1                      270277            2020-04-01   46.0   60.0   36.0   \n2                      238679            2020-02-01    0.0    0.0    1.0   \n3                      118398            2019-09-01   23.0   33.0    7.0   \n4                       10402            2019-01-01   69.0   77.0   51.0   \n...                       ...                   ...    ...    ...    ...   \n130537                 315972            2020-07-01    0.0    1.0    0.0   \n130538                   4177            2020-06-01    0.0    1.0    0.0   \n130630                 326846            2020-07-01    0.0    1.0    0.0   \n130645                   4478            2020-06-01    0.0    0.0    0.0   \n130651                 332692            2020-07-01    0.0    0.0    0.0   \n\n        day_3  day_4  day_5  day_6   1  ...  max_diff  min_diff  avg_weekdays  \\\n0        23.0    4.0   27.0   14.0   5  ...        30       -21     16.142857   \n1        51.0    0.0   55.0   25.0   0  ...        60       -23     39.000000   \n2         1.0    0.0    0.0    2.0   0  ...         1        -1      0.571429   \n3        32.0   20.0   45.0   32.0   0  ...        16       -23     27.428571   \n4        71.0   44.0   40.0   19.0  92  ...        18       -37     53.000000   \n...       ...    ...    ...    ...  ..  ...       ...       ...           ...   \n130537    0.0    0.0    0.0    0.0   0  ...         1        -1      0.142857   \n130538    1.0    0.0    0.0    0.0   0  ...         2        -2      0.285714   \n130630    0.0    0.0    0.0    0.0   0  ...         1        -1      0.142857   \n130645    0.0    0.0    0.0    1.0   0  ...         1        -1      0.142857   \n130651    1.0    0.0    0.0    0.0   0  ...         1        -1      0.142857   \n\n        median_weekdays  std_weekdays  var_weekdays  weekday2weekends  \\\n0                  17.0      7.159979     51.265306          1.756098   \n1                  46.0     19.331691    373.714286          2.412500   \n2                   0.0      0.728431      0.530612          1.000000   \n3                  32.0     11.172123    124.816327          1.493506   \n4                  51.0     19.146055    366.571429          5.288136   \n...                 ...           ...           ...               ...   \n130537              0.0      0.349927      0.122449          0.000000   \n130538              0.0      0.451754      0.204082          0.000000   \n130630              0.0      0.349927      0.122449          0.000000   \n130645              0.0      0.349927      0.122449          0.000000   \n130651              0.0      0.349927      0.122449          0.000000   \n\n        weekday2all  weekends2all  active_in_weekends  \n0          0.637168      0.362832                   1  \n1          0.706960      0.293040                   1  \n2          0.500000      0.500000                   1  \n3          0.598958      0.401042                   1  \n4          0.840970      0.159030                   1  \n...             ...           ...                 ...  \n130537     1.000000      0.000000                   0  \n130538     1.000000      0.000000                   0  \n130630     1.000000      0.000000                   0  \n130645     0.000000      1.000000                   1  \n130651     1.000000      0.000000                   0  \n\n[7895 rows x 80 columns]",
      "text/html": "<div>\n<style scoped>\n    .dataframe tbody tr th:only-of-type {\n        vertical-align: middle;\n    }\n\n    .dataframe tbody tr th {\n        vertical-align: top;\n    }\n\n    .dataframe thead th {\n        text-align: right;\n    }\n</style>\n<table border=\"1\" class=\"dataframe\">\n  <thead>\n    <tr style=\"text-align: right;\">\n      <th></th>\n      <th>clientbankpartner_pin</th>\n      <th>partnerrolestart_date</th>\n      <th>day_0</th>\n      <th>day_1</th>\n      <th>day_2</th>\n      <th>day_3</th>\n      <th>day_4</th>\n      <th>day_5</th>\n      <th>day_6</th>\n      <th>1</th>\n      <th>...</th>\n      <th>max_diff</th>\n      <th>min_diff</th>\n      <th>avg_weekdays</th>\n      <th>median_weekdays</th>\n      <th>std_weekdays</th>\n      <th>var_weekdays</th>\n      <th>weekday2weekends</th>\n      <th>weekday2all</th>\n      <th>weekends2all</th>\n      <th>active_in_weekends</th>\n    </tr>\n  </thead>\n  <tbody>\n    <tr>\n      <th>0</th>\n      <td>122027</td>\n      <td>2019-02-01</td>\n      <td>18.0</td>\n      <td>17.0</td>\n      <td>10.0</td>\n      <td>23.0</td>\n      <td>4.0</td>\n      <td>27.0</td>\n      <td>14.0</td>\n      <td>5</td>\n      <td>...</td>\n      <td>30</td>\n      <td>-21</td>\n      <td>16.142857</td>\n      <td>17.0</td>\n      <td>7.159979</td>\n      <td>51.265306</td>\n      <td>1.756098</td>\n      <td>0.637168</td>\n      <td>0.362832</td>\n      <td>1</td>\n    </tr>\n    <tr>\n      <th>1</th>\n      <td>270277</td>\n      <td>2020-04-01</td>\n      <td>46.0</td>\n      <td>60.0</td>\n      <td>36.0</td>\n      <td>51.0</td>\n      <td>0.0</td>\n      <td>55.0</td>\n      <td>25.0</td>\n      <td>0</td>\n      <td>...</td>\n      <td>60</td>\n      <td>-23</td>\n      <td>39.000000</td>\n      <td>46.0</td>\n      <td>19.331691</td>\n      <td>373.714286</td>\n      <td>2.412500</td>\n      <td>0.706960</td>\n      <td>0.293040</td>\n      <td>1</td>\n    </tr>\n    <tr>\n      <th>2</th>\n      <td>238679</td>\n      <td>2020-02-01</td>\n      <td>0.0</td>\n      <td>0.0</td>\n      <td>1.0</td>\n      <td>1.0</td>\n      <td>0.0</td>\n      <td>0.0</td>\n      <td>2.0</td>\n      <td>0</td>\n      <td>...</td>\n      <td>1</td>\n      <td>-1</td>\n      <td>0.571429</td>\n      <td>0.0</td>\n      <td>0.728431</td>\n      <td>0.530612</td>\n      <td>1.000000</td>\n      <td>0.500000</td>\n      <td>0.500000</td>\n      <td>1</td>\n    </tr>\n    <tr>\n      <th>3</th>\n      <td>118398</td>\n      <td>2019-09-01</td>\n      <td>23.0</td>\n      <td>33.0</td>\n      <td>7.0</td>\n      <td>32.0</td>\n      <td>20.0</td>\n      <td>45.0</td>\n      <td>32.0</td>\n      <td>0</td>\n      <td>...</td>\n      <td>16</td>\n      <td>-23</td>\n      <td>27.428571</td>\n      <td>32.0</td>\n      <td>11.172123</td>\n      <td>124.816327</td>\n      <td>1.493506</td>\n      <td>0.598958</td>\n      <td>0.401042</td>\n      <td>1</td>\n    </tr>\n    <tr>\n      <th>4</th>\n      <td>10402</td>\n      <td>2019-01-01</td>\n      <td>69.0</td>\n      <td>77.0</td>\n      <td>51.0</td>\n      <td>71.0</td>\n      <td>44.0</td>\n      <td>40.0</td>\n      <td>19.0</td>\n      <td>92</td>\n      <td>...</td>\n      <td>18</td>\n      <td>-37</td>\n      <td>53.000000</td>\n      <td>51.0</td>\n      <td>19.146055</td>\n      <td>366.571429</td>\n      <td>5.288136</td>\n      <td>0.840970</td>\n      <td>0.159030</td>\n      <td>1</td>\n    </tr>\n    <tr>\n      <th>...</th>\n      <td>...</td>\n      <td>...</td>\n      <td>...</td>\n      <td>...</td>\n      <td>...</td>\n      <td>...</td>\n      <td>...</td>\n      <td>...</td>\n      <td>...</td>\n      <td>...</td>\n      <td>...</td>\n      <td>...</td>\n      <td>...</td>\n      <td>...</td>\n      <td>...</td>\n      <td>...</td>\n      <td>...</td>\n      <td>...</td>\n      <td>...</td>\n      <td>...</td>\n      <td>...</td>\n    </tr>\n    <tr>\n      <th>130537</th>\n      <td>315972</td>\n      <td>2020-07-01</td>\n      <td>0.0</td>\n      <td>1.0</td>\n      <td>0.0</td>\n      <td>0.0</td>\n      <td>0.0</td>\n      <td>0.0</td>\n      <td>0.0</td>\n      <td>0</td>\n      <td>...</td>\n      <td>1</td>\n      <td>-1</td>\n      <td>0.142857</td>\n      <td>0.0</td>\n      <td>0.349927</td>\n      <td>0.122449</td>\n      <td>0.000000</td>\n      <td>1.000000</td>\n      <td>0.000000</td>\n      <td>0</td>\n    </tr>\n    <tr>\n      <th>130538</th>\n      <td>4177</td>\n      <td>2020-06-01</td>\n      <td>0.0</td>\n      <td>1.0</td>\n      <td>0.0</td>\n      <td>1.0</td>\n      <td>0.0</td>\n      <td>0.0</td>\n      <td>0.0</td>\n      <td>0</td>\n      <td>...</td>\n      <td>2</td>\n      <td>-2</td>\n      <td>0.285714</td>\n      <td>0.0</td>\n      <td>0.451754</td>\n      <td>0.204082</td>\n      <td>0.000000</td>\n      <td>1.000000</td>\n      <td>0.000000</td>\n      <td>0</td>\n    </tr>\n    <tr>\n      <th>130630</th>\n      <td>326846</td>\n      <td>2020-07-01</td>\n      <td>0.0</td>\n      <td>1.0</td>\n      <td>0.0</td>\n      <td>0.0</td>\n      <td>0.0</td>\n      <td>0.0</td>\n      <td>0.0</td>\n      <td>0</td>\n      <td>...</td>\n      <td>1</td>\n      <td>-1</td>\n      <td>0.142857</td>\n      <td>0.0</td>\n      <td>0.349927</td>\n      <td>0.122449</td>\n      <td>0.000000</td>\n      <td>1.000000</td>\n      <td>0.000000</td>\n      <td>0</td>\n    </tr>\n    <tr>\n      <th>130645</th>\n      <td>4478</td>\n      <td>2020-06-01</td>\n      <td>0.0</td>\n      <td>0.0</td>\n      <td>0.0</td>\n      <td>0.0</td>\n      <td>0.0</td>\n      <td>0.0</td>\n      <td>1.0</td>\n      <td>0</td>\n      <td>...</td>\n      <td>1</td>\n      <td>-1</td>\n      <td>0.142857</td>\n      <td>0.0</td>\n      <td>0.349927</td>\n      <td>0.122449</td>\n      <td>0.000000</td>\n      <td>0.000000</td>\n      <td>1.000000</td>\n      <td>1</td>\n    </tr>\n    <tr>\n      <th>130651</th>\n      <td>332692</td>\n      <td>2020-07-01</td>\n      <td>0.0</td>\n      <td>0.0</td>\n      <td>0.0</td>\n      <td>1.0</td>\n      <td>0.0</td>\n      <td>0.0</td>\n      <td>0.0</td>\n      <td>0</td>\n      <td>...</td>\n      <td>1</td>\n      <td>-1</td>\n      <td>0.142857</td>\n      <td>0.0</td>\n      <td>0.349927</td>\n      <td>0.122449</td>\n      <td>0.000000</td>\n      <td>1.000000</td>\n      <td>0.000000</td>\n      <td>0</td>\n    </tr>\n  </tbody>\n</table>\n<p>7895 rows × 80 columns</p>\n</div>"
     },
     "execution_count": 158,
     "metadata": {},
     "output_type": "execute_result"
    }
   ],
   "source": [
    "train"
   ],
   "metadata": {
    "collapsed": false,
    "ExecuteTime": {
     "end_time": "2024-05-16T08:59:44.271966100Z",
     "start_time": "2024-05-16T08:59:44.250493900Z"
    }
   }
  },
  {
   "cell_type": "code",
   "execution_count": 159,
   "outputs": [
    {
     "data": {
      "text/plain": "        clientbankpartner_pin partnerrolestart_date  day_0  day_1  day_2  \\\n1                      270277            2020-04-01   48.0   47.0   52.0   \n2                      238679            2020-02-01    1.0    0.0    2.0   \n5                      121046            2020-03-01    2.0    0.0    3.0   \n6                       13084            2020-05-01    1.0    1.0    0.0   \n8                      276484            2020-04-01    0.0    0.0    2.0   \n...                       ...                   ...    ...    ...    ...   \n124535                  73807            2020-11-01    0.0    0.0    0.0   \n125436                 120853            2018-12-01    0.0    0.0    1.0   \n125813                 121120            2020-11-01    0.0    0.0    0.0   \n128169                  60667            2020-10-01    0.0    0.0    0.0   \n128458                   5065            2020-05-01    1.0    0.0    0.0   \n\n        day_3  day_4  day_5  day_6  1  ...  max_diff  min_diff  avg_weekdays  \\\n1       119.0   50.0   63.0   94.0  0  ...        60       -23     67.571429   \n2         1.0    1.0    1.0    0.0  0  ...         1        -1      0.857143   \n5         3.0    0.0    0.0    2.0  0  ...         2        -2      1.428571   \n6         1.0    0.0    1.0    0.0  0  ...         2        -2      0.571429   \n8         2.0    1.0    4.0    2.0  0  ...         3        -2      1.571429   \n...       ...    ...    ...    ... ..  ...       ...       ...           ...   \n124535    0.0    0.0    0.0    1.0  0  ...         1         0      0.142857   \n125436    0.0    0.0    0.0    1.0  0  ...         1        -1      0.285714   \n125813    0.0    0.0    0.0    1.0  0  ...         1         0      0.142857   \n128169    1.0    0.0    0.0    0.0  0  ...         1        -1      0.142857   \n128458    1.0    0.0    0.0    0.0  0  ...         1        -1      0.285714   \n\n        median_weekdays  std_weekdays  var_weekdays  weekday2weekends  \\\n1                  52.0     25.971727    674.530612          2.012739   \n2                   1.0      0.638877      0.408163          5.000000   \n5                   2.0      1.293626      1.673469          4.000000   \n6                   1.0      0.494872      0.244898          3.000000   \n8                   2.0      1.293626      1.673469          0.833333   \n...                 ...           ...           ...               ...   \n124535              0.0      0.349927      0.122449          0.000000   \n125436              0.0      0.451754      0.204082          1.000000   \n125813              0.0      0.349927      0.122449          0.000000   \n128169              0.0      0.349927      0.122449          0.000000   \n128458              0.0      0.451754      0.204082          0.000000   \n\n        weekday2all  weekends2all  active_in_weekends  \n1          0.668076      0.331924                   1  \n2          0.833333      0.166667                   1  \n5          0.800000      0.200000                   1  \n6          0.750000      0.250000                   1  \n8          0.454545      0.545455                   1  \n...             ...           ...                 ...  \n124535     0.000000      1.000000                   1  \n125436     0.500000      0.500000                   1  \n125813     0.000000      1.000000                   1  \n128169     1.000000      0.000000                   0  \n128458     1.000000      0.000000                   0  \n\n[4508 rows x 80 columns]",
      "text/html": "<div>\n<style scoped>\n    .dataframe tbody tr th:only-of-type {\n        vertical-align: middle;\n    }\n\n    .dataframe tbody tr th {\n        vertical-align: top;\n    }\n\n    .dataframe thead th {\n        text-align: right;\n    }\n</style>\n<table border=\"1\" class=\"dataframe\">\n  <thead>\n    <tr style=\"text-align: right;\">\n      <th></th>\n      <th>clientbankpartner_pin</th>\n      <th>partnerrolestart_date</th>\n      <th>day_0</th>\n      <th>day_1</th>\n      <th>day_2</th>\n      <th>day_3</th>\n      <th>day_4</th>\n      <th>day_5</th>\n      <th>day_6</th>\n      <th>1</th>\n      <th>...</th>\n      <th>max_diff</th>\n      <th>min_diff</th>\n      <th>avg_weekdays</th>\n      <th>median_weekdays</th>\n      <th>std_weekdays</th>\n      <th>var_weekdays</th>\n      <th>weekday2weekends</th>\n      <th>weekday2all</th>\n      <th>weekends2all</th>\n      <th>active_in_weekends</th>\n    </tr>\n  </thead>\n  <tbody>\n    <tr>\n      <th>1</th>\n      <td>270277</td>\n      <td>2020-04-01</td>\n      <td>48.0</td>\n      <td>47.0</td>\n      <td>52.0</td>\n      <td>119.0</td>\n      <td>50.0</td>\n      <td>63.0</td>\n      <td>94.0</td>\n      <td>0</td>\n      <td>...</td>\n      <td>60</td>\n      <td>-23</td>\n      <td>67.571429</td>\n      <td>52.0</td>\n      <td>25.971727</td>\n      <td>674.530612</td>\n      <td>2.012739</td>\n      <td>0.668076</td>\n      <td>0.331924</td>\n      <td>1</td>\n    </tr>\n    <tr>\n      <th>2</th>\n      <td>238679</td>\n      <td>2020-02-01</td>\n      <td>1.0</td>\n      <td>0.0</td>\n      <td>2.0</td>\n      <td>1.0</td>\n      <td>1.0</td>\n      <td>1.0</td>\n      <td>0.0</td>\n      <td>0</td>\n      <td>...</td>\n      <td>1</td>\n      <td>-1</td>\n      <td>0.857143</td>\n      <td>1.0</td>\n      <td>0.638877</td>\n      <td>0.408163</td>\n      <td>5.000000</td>\n      <td>0.833333</td>\n      <td>0.166667</td>\n      <td>1</td>\n    </tr>\n    <tr>\n      <th>5</th>\n      <td>121046</td>\n      <td>2020-03-01</td>\n      <td>2.0</td>\n      <td>0.0</td>\n      <td>3.0</td>\n      <td>3.0</td>\n      <td>0.0</td>\n      <td>0.0</td>\n      <td>2.0</td>\n      <td>0</td>\n      <td>...</td>\n      <td>2</td>\n      <td>-2</td>\n      <td>1.428571</td>\n      <td>2.0</td>\n      <td>1.293626</td>\n      <td>1.673469</td>\n      <td>4.000000</td>\n      <td>0.800000</td>\n      <td>0.200000</td>\n      <td>1</td>\n    </tr>\n    <tr>\n      <th>6</th>\n      <td>13084</td>\n      <td>2020-05-01</td>\n      <td>1.0</td>\n      <td>1.0</td>\n      <td>0.0</td>\n      <td>1.0</td>\n      <td>0.0</td>\n      <td>1.0</td>\n      <td>0.0</td>\n      <td>0</td>\n      <td>...</td>\n      <td>2</td>\n      <td>-2</td>\n      <td>0.571429</td>\n      <td>1.0</td>\n      <td>0.494872</td>\n      <td>0.244898</td>\n      <td>3.000000</td>\n      <td>0.750000</td>\n      <td>0.250000</td>\n      <td>1</td>\n    </tr>\n    <tr>\n      <th>8</th>\n      <td>276484</td>\n      <td>2020-04-01</td>\n      <td>0.0</td>\n      <td>0.0</td>\n      <td>2.0</td>\n      <td>2.0</td>\n      <td>1.0</td>\n      <td>4.0</td>\n      <td>2.0</td>\n      <td>0</td>\n      <td>...</td>\n      <td>3</td>\n      <td>-2</td>\n      <td>1.571429</td>\n      <td>2.0</td>\n      <td>1.293626</td>\n      <td>1.673469</td>\n      <td>0.833333</td>\n      <td>0.454545</td>\n      <td>0.545455</td>\n      <td>1</td>\n    </tr>\n    <tr>\n      <th>...</th>\n      <td>...</td>\n      <td>...</td>\n      <td>...</td>\n      <td>...</td>\n      <td>...</td>\n      <td>...</td>\n      <td>...</td>\n      <td>...</td>\n      <td>...</td>\n      <td>...</td>\n      <td>...</td>\n      <td>...</td>\n      <td>...</td>\n      <td>...</td>\n      <td>...</td>\n      <td>...</td>\n      <td>...</td>\n      <td>...</td>\n      <td>...</td>\n      <td>...</td>\n      <td>...</td>\n    </tr>\n    <tr>\n      <th>124535</th>\n      <td>73807</td>\n      <td>2020-11-01</td>\n      <td>0.0</td>\n      <td>0.0</td>\n      <td>0.0</td>\n      <td>0.0</td>\n      <td>0.0</td>\n      <td>0.0</td>\n      <td>1.0</td>\n      <td>0</td>\n      <td>...</td>\n      <td>1</td>\n      <td>0</td>\n      <td>0.142857</td>\n      <td>0.0</td>\n      <td>0.349927</td>\n      <td>0.122449</td>\n      <td>0.000000</td>\n      <td>0.000000</td>\n      <td>1.000000</td>\n      <td>1</td>\n    </tr>\n    <tr>\n      <th>125436</th>\n      <td>120853</td>\n      <td>2018-12-01</td>\n      <td>0.0</td>\n      <td>0.0</td>\n      <td>1.0</td>\n      <td>0.0</td>\n      <td>0.0</td>\n      <td>0.0</td>\n      <td>1.0</td>\n      <td>0</td>\n      <td>...</td>\n      <td>1</td>\n      <td>-1</td>\n      <td>0.285714</td>\n      <td>0.0</td>\n      <td>0.451754</td>\n      <td>0.204082</td>\n      <td>1.000000</td>\n      <td>0.500000</td>\n      <td>0.500000</td>\n      <td>1</td>\n    </tr>\n    <tr>\n      <th>125813</th>\n      <td>121120</td>\n      <td>2020-11-01</td>\n      <td>0.0</td>\n      <td>0.0</td>\n      <td>0.0</td>\n      <td>0.0</td>\n      <td>0.0</td>\n      <td>0.0</td>\n      <td>1.0</td>\n      <td>0</td>\n      <td>...</td>\n      <td>1</td>\n      <td>0</td>\n      <td>0.142857</td>\n      <td>0.0</td>\n      <td>0.349927</td>\n      <td>0.122449</td>\n      <td>0.000000</td>\n      <td>0.000000</td>\n      <td>1.000000</td>\n      <td>1</td>\n    </tr>\n    <tr>\n      <th>128169</th>\n      <td>60667</td>\n      <td>2020-10-01</td>\n      <td>0.0</td>\n      <td>0.0</td>\n      <td>0.0</td>\n      <td>1.0</td>\n      <td>0.0</td>\n      <td>0.0</td>\n      <td>0.0</td>\n      <td>0</td>\n      <td>...</td>\n      <td>1</td>\n      <td>-1</td>\n      <td>0.142857</td>\n      <td>0.0</td>\n      <td>0.349927</td>\n      <td>0.122449</td>\n      <td>0.000000</td>\n      <td>1.000000</td>\n      <td>0.000000</td>\n      <td>0</td>\n    </tr>\n    <tr>\n      <th>128458</th>\n      <td>5065</td>\n      <td>2020-05-01</td>\n      <td>1.0</td>\n      <td>0.0</td>\n      <td>0.0</td>\n      <td>1.0</td>\n      <td>0.0</td>\n      <td>0.0</td>\n      <td>0.0</td>\n      <td>0</td>\n      <td>...</td>\n      <td>1</td>\n      <td>-1</td>\n      <td>0.285714</td>\n      <td>0.0</td>\n      <td>0.451754</td>\n      <td>0.204082</td>\n      <td>0.000000</td>\n      <td>1.000000</td>\n      <td>0.000000</td>\n      <td>0</td>\n    </tr>\n  </tbody>\n</table>\n<p>4508 rows × 80 columns</p>\n</div>"
     },
     "execution_count": 159,
     "metadata": {},
     "output_type": "execute_result"
    }
   ],
   "source": [
    "test"
   ],
   "metadata": {
    "collapsed": false,
    "ExecuteTime": {
     "end_time": "2024-05-16T08:59:44.356415100Z",
     "start_time": "2024-05-16T08:59:44.270968Z"
    }
   }
  },
  {
   "cell_type": "code",
   "execution_count": 160,
   "outputs": [
    {
     "data": {
      "text/plain": "{'2_oh'}"
     },
     "execution_count": 160,
     "metadata": {},
     "output_type": "execute_result"
    }
   ],
   "source": [
    "set(test.columns) - set(train.columns)"
   ],
   "metadata": {
    "collapsed": false,
    "ExecuteTime": {
     "end_time": "2024-05-16T08:59:44.356415100Z",
     "start_time": "2024-05-16T08:59:44.292584600Z"
    }
   }
  },
  {
   "cell_type": "code",
   "execution_count": 161,
   "outputs": [],
   "source": [
    "train[\"2_oh\"] = 0"
   ],
   "metadata": {
    "collapsed": false,
    "ExecuteTime": {
     "end_time": "2024-05-16T08:59:44.356415100Z",
     "start_time": "2024-05-16T08:59:44.299451700Z"
    }
   }
  },
  {
   "cell_type": "code",
   "execution_count": 162,
   "outputs": [],
   "source": [
    "train = train[list(test.columns) + ['target']]"
   ],
   "metadata": {
    "collapsed": false,
    "ExecuteTime": {
     "end_time": "2024-05-16T08:59:44.376476Z",
     "start_time": "2024-05-16T08:59:44.302971300Z"
    }
   }
  },
  {
   "cell_type": "code",
   "execution_count": 163,
   "outputs": [
    {
     "data": {
      "text/plain": "target\n1    4966\n0    2929\nName: count, dtype: int64"
     },
     "execution_count": 163,
     "metadata": {},
     "output_type": "execute_result"
    }
   ],
   "source": [
    "train[\"target\"].value_counts()"
   ],
   "metadata": {
    "collapsed": false,
    "ExecuteTime": {
     "end_time": "2024-05-16T08:59:44.376476Z",
     "start_time": "2024-05-16T08:59:44.310374800Z"
    }
   }
  },
  {
   "cell_type": "markdown",
   "source": [
    "## Ensemble + CV"
   ],
   "metadata": {
    "collapsed": false
   }
  },
  {
   "cell_type": "markdown",
   "source": [
    "### RFE"
   ],
   "metadata": {
    "collapsed": false
   }
  },
  {
   "cell_type": "code",
   "execution_count": 164,
   "outputs": [
    {
     "data": {
      "text/plain": "RandomForestClassifier(max_depth=6, random_state=42)",
      "text/html": "<style>#sk-container-id-6 {\n  /* Definition of color scheme common for light and dark mode */\n  --sklearn-color-text: black;\n  --sklearn-color-line: gray;\n  /* Definition of color scheme for unfitted estimators */\n  --sklearn-color-unfitted-level-0: #fff5e6;\n  --sklearn-color-unfitted-level-1: #f6e4d2;\n  --sklearn-color-unfitted-level-2: #ffe0b3;\n  --sklearn-color-unfitted-level-3: chocolate;\n  /* Definition of color scheme for fitted estimators */\n  --sklearn-color-fitted-level-0: #f0f8ff;\n  --sklearn-color-fitted-level-1: #d4ebff;\n  --sklearn-color-fitted-level-2: #b3dbfd;\n  --sklearn-color-fitted-level-3: cornflowerblue;\n\n  /* Specific color for light theme */\n  --sklearn-color-text-on-default-background: var(--sg-text-color, var(--theme-code-foreground, var(--jp-content-font-color1, black)));\n  --sklearn-color-background: var(--sg-background-color, var(--theme-background, var(--jp-layout-color0, white)));\n  --sklearn-color-border-box: var(--sg-text-color, var(--theme-code-foreground, var(--jp-content-font-color1, black)));\n  --sklearn-color-icon: #696969;\n\n  @media (prefers-color-scheme: dark) {\n    /* Redefinition of color scheme for dark theme */\n    --sklearn-color-text-on-default-background: var(--sg-text-color, var(--theme-code-foreground, var(--jp-content-font-color1, white)));\n    --sklearn-color-background: var(--sg-background-color, var(--theme-background, var(--jp-layout-color0, #111)));\n    --sklearn-color-border-box: var(--sg-text-color, var(--theme-code-foreground, var(--jp-content-font-color1, white)));\n    --sklearn-color-icon: #878787;\n  }\n}\n\n#sk-container-id-6 {\n  color: var(--sklearn-color-text);\n}\n\n#sk-container-id-6 pre {\n  padding: 0;\n}\n\n#sk-container-id-6 input.sk-hidden--visually {\n  border: 0;\n  clip: rect(1px 1px 1px 1px);\n  clip: rect(1px, 1px, 1px, 1px);\n  height: 1px;\n  margin: -1px;\n  overflow: hidden;\n  padding: 0;\n  position: absolute;\n  width: 1px;\n}\n\n#sk-container-id-6 div.sk-dashed-wrapped {\n  border: 1px dashed var(--sklearn-color-line);\n  margin: 0 0.4em 0.5em 0.4em;\n  box-sizing: border-box;\n  padding-bottom: 0.4em;\n  background-color: var(--sklearn-color-background);\n}\n\n#sk-container-id-6 div.sk-container {\n  /* jupyter's `normalize.less` sets `[hidden] { display: none; }`\n     but bootstrap.min.css set `[hidden] { display: none !important; }`\n     so we also need the `!important` here to be able to override the\n     default hidden behavior on the sphinx rendered scikit-learn.org.\n     See: https://github.com/scikit-learn/scikit-learn/issues/21755 */\n  display: inline-block !important;\n  position: relative;\n}\n\n#sk-container-id-6 div.sk-text-repr-fallback {\n  display: none;\n}\n\ndiv.sk-parallel-item,\ndiv.sk-serial,\ndiv.sk-item {\n  /* draw centered vertical line to link estimators */\n  background-image: linear-gradient(var(--sklearn-color-text-on-default-background), var(--sklearn-color-text-on-default-background));\n  background-size: 2px 100%;\n  background-repeat: no-repeat;\n  background-position: center center;\n}\n\n/* Parallel-specific style estimator block */\n\n#sk-container-id-6 div.sk-parallel-item::after {\n  content: \"\";\n  width: 100%;\n  border-bottom: 2px solid var(--sklearn-color-text-on-default-background);\n  flex-grow: 1;\n}\n\n#sk-container-id-6 div.sk-parallel {\n  display: flex;\n  align-items: stretch;\n  justify-content: center;\n  background-color: var(--sklearn-color-background);\n  position: relative;\n}\n\n#sk-container-id-6 div.sk-parallel-item {\n  display: flex;\n  flex-direction: column;\n}\n\n#sk-container-id-6 div.sk-parallel-item:first-child::after {\n  align-self: flex-end;\n  width: 50%;\n}\n\n#sk-container-id-6 div.sk-parallel-item:last-child::after {\n  align-self: flex-start;\n  width: 50%;\n}\n\n#sk-container-id-6 div.sk-parallel-item:only-child::after {\n  width: 0;\n}\n\n/* Serial-specific style estimator block */\n\n#sk-container-id-6 div.sk-serial {\n  display: flex;\n  flex-direction: column;\n  align-items: center;\n  background-color: var(--sklearn-color-background);\n  padding-right: 1em;\n  padding-left: 1em;\n}\n\n\n/* Toggleable style: style used for estimator/Pipeline/ColumnTransformer box that is\nclickable and can be expanded/collapsed.\n- Pipeline and ColumnTransformer use this feature and define the default style\n- Estimators will overwrite some part of the style using the `sk-estimator` class\n*/\n\n/* Pipeline and ColumnTransformer style (default) */\n\n#sk-container-id-6 div.sk-toggleable {\n  /* Default theme specific background. It is overwritten whether we have a\n  specific estimator or a Pipeline/ColumnTransformer */\n  background-color: var(--sklearn-color-background);\n}\n\n/* Toggleable label */\n#sk-container-id-6 label.sk-toggleable__label {\n  cursor: pointer;\n  display: block;\n  width: 100%;\n  margin-bottom: 0;\n  padding: 0.5em;\n  box-sizing: border-box;\n  text-align: center;\n}\n\n#sk-container-id-6 label.sk-toggleable__label-arrow:before {\n  /* Arrow on the left of the label */\n  content: \"▸\";\n  float: left;\n  margin-right: 0.25em;\n  color: var(--sklearn-color-icon);\n}\n\n#sk-container-id-6 label.sk-toggleable__label-arrow:hover:before {\n  color: var(--sklearn-color-text);\n}\n\n/* Toggleable content - dropdown */\n\n#sk-container-id-6 div.sk-toggleable__content {\n  max-height: 0;\n  max-width: 0;\n  overflow: hidden;\n  text-align: left;\n  /* unfitted */\n  background-color: var(--sklearn-color-unfitted-level-0);\n}\n\n#sk-container-id-6 div.sk-toggleable__content.fitted {\n  /* fitted */\n  background-color: var(--sklearn-color-fitted-level-0);\n}\n\n#sk-container-id-6 div.sk-toggleable__content pre {\n  margin: 0.2em;\n  border-radius: 0.25em;\n  color: var(--sklearn-color-text);\n  /* unfitted */\n  background-color: var(--sklearn-color-unfitted-level-0);\n}\n\n#sk-container-id-6 div.sk-toggleable__content.fitted pre {\n  /* unfitted */\n  background-color: var(--sklearn-color-fitted-level-0);\n}\n\n#sk-container-id-6 input.sk-toggleable__control:checked~div.sk-toggleable__content {\n  /* Expand drop-down */\n  max-height: 200px;\n  max-width: 100%;\n  overflow: auto;\n}\n\n#sk-container-id-6 input.sk-toggleable__control:checked~label.sk-toggleable__label-arrow:before {\n  content: \"▾\";\n}\n\n/* Pipeline/ColumnTransformer-specific style */\n\n#sk-container-id-6 div.sk-label input.sk-toggleable__control:checked~label.sk-toggleable__label {\n  color: var(--sklearn-color-text);\n  background-color: var(--sklearn-color-unfitted-level-2);\n}\n\n#sk-container-id-6 div.sk-label.fitted input.sk-toggleable__control:checked~label.sk-toggleable__label {\n  background-color: var(--sklearn-color-fitted-level-2);\n}\n\n/* Estimator-specific style */\n\n/* Colorize estimator box */\n#sk-container-id-6 div.sk-estimator input.sk-toggleable__control:checked~label.sk-toggleable__label {\n  /* unfitted */\n  background-color: var(--sklearn-color-unfitted-level-2);\n}\n\n#sk-container-id-6 div.sk-estimator.fitted input.sk-toggleable__control:checked~label.sk-toggleable__label {\n  /* fitted */\n  background-color: var(--sklearn-color-fitted-level-2);\n}\n\n#sk-container-id-6 div.sk-label label.sk-toggleable__label,\n#sk-container-id-6 div.sk-label label {\n  /* The background is the default theme color */\n  color: var(--sklearn-color-text-on-default-background);\n}\n\n/* On hover, darken the color of the background */\n#sk-container-id-6 div.sk-label:hover label.sk-toggleable__label {\n  color: var(--sklearn-color-text);\n  background-color: var(--sklearn-color-unfitted-level-2);\n}\n\n/* Label box, darken color on hover, fitted */\n#sk-container-id-6 div.sk-label.fitted:hover label.sk-toggleable__label.fitted {\n  color: var(--sklearn-color-text);\n  background-color: var(--sklearn-color-fitted-level-2);\n}\n\n/* Estimator label */\n\n#sk-container-id-6 div.sk-label label {\n  font-family: monospace;\n  font-weight: bold;\n  display: inline-block;\n  line-height: 1.2em;\n}\n\n#sk-container-id-6 div.sk-label-container {\n  text-align: center;\n}\n\n/* Estimator-specific */\n#sk-container-id-6 div.sk-estimator {\n  font-family: monospace;\n  border: 1px dotted var(--sklearn-color-border-box);\n  border-radius: 0.25em;\n  box-sizing: border-box;\n  margin-bottom: 0.5em;\n  /* unfitted */\n  background-color: var(--sklearn-color-unfitted-level-0);\n}\n\n#sk-container-id-6 div.sk-estimator.fitted {\n  /* fitted */\n  background-color: var(--sklearn-color-fitted-level-0);\n}\n\n/* on hover */\n#sk-container-id-6 div.sk-estimator:hover {\n  /* unfitted */\n  background-color: var(--sklearn-color-unfitted-level-2);\n}\n\n#sk-container-id-6 div.sk-estimator.fitted:hover {\n  /* fitted */\n  background-color: var(--sklearn-color-fitted-level-2);\n}\n\n/* Specification for estimator info (e.g. \"i\" and \"?\") */\n\n/* Common style for \"i\" and \"?\" */\n\n.sk-estimator-doc-link,\na:link.sk-estimator-doc-link,\na:visited.sk-estimator-doc-link {\n  float: right;\n  font-size: smaller;\n  line-height: 1em;\n  font-family: monospace;\n  background-color: var(--sklearn-color-background);\n  border-radius: 1em;\n  height: 1em;\n  width: 1em;\n  text-decoration: none !important;\n  margin-left: 1ex;\n  /* unfitted */\n  border: var(--sklearn-color-unfitted-level-1) 1pt solid;\n  color: var(--sklearn-color-unfitted-level-1);\n}\n\n.sk-estimator-doc-link.fitted,\na:link.sk-estimator-doc-link.fitted,\na:visited.sk-estimator-doc-link.fitted {\n  /* fitted */\n  border: var(--sklearn-color-fitted-level-1) 1pt solid;\n  color: var(--sklearn-color-fitted-level-1);\n}\n\n/* On hover */\ndiv.sk-estimator:hover .sk-estimator-doc-link:hover,\n.sk-estimator-doc-link:hover,\ndiv.sk-label-container:hover .sk-estimator-doc-link:hover,\n.sk-estimator-doc-link:hover {\n  /* unfitted */\n  background-color: var(--sklearn-color-unfitted-level-3);\n  color: var(--sklearn-color-background);\n  text-decoration: none;\n}\n\ndiv.sk-estimator.fitted:hover .sk-estimator-doc-link.fitted:hover,\n.sk-estimator-doc-link.fitted:hover,\ndiv.sk-label-container:hover .sk-estimator-doc-link.fitted:hover,\n.sk-estimator-doc-link.fitted:hover {\n  /* fitted */\n  background-color: var(--sklearn-color-fitted-level-3);\n  color: var(--sklearn-color-background);\n  text-decoration: none;\n}\n\n/* Span, style for the box shown on hovering the info icon */\n.sk-estimator-doc-link span {\n  display: none;\n  z-index: 9999;\n  position: relative;\n  font-weight: normal;\n  right: .2ex;\n  padding: .5ex;\n  margin: .5ex;\n  width: min-content;\n  min-width: 20ex;\n  max-width: 50ex;\n  color: var(--sklearn-color-text);\n  box-shadow: 2pt 2pt 4pt #999;\n  /* unfitted */\n  background: var(--sklearn-color-unfitted-level-0);\n  border: .5pt solid var(--sklearn-color-unfitted-level-3);\n}\n\n.sk-estimator-doc-link.fitted span {\n  /* fitted */\n  background: var(--sklearn-color-fitted-level-0);\n  border: var(--sklearn-color-fitted-level-3);\n}\n\n.sk-estimator-doc-link:hover span {\n  display: block;\n}\n\n/* \"?\"-specific style due to the `<a>` HTML tag */\n\n#sk-container-id-6 a.estimator_doc_link {\n  float: right;\n  font-size: 1rem;\n  line-height: 1em;\n  font-family: monospace;\n  background-color: var(--sklearn-color-background);\n  border-radius: 1rem;\n  height: 1rem;\n  width: 1rem;\n  text-decoration: none;\n  /* unfitted */\n  color: var(--sklearn-color-unfitted-level-1);\n  border: var(--sklearn-color-unfitted-level-1) 1pt solid;\n}\n\n#sk-container-id-6 a.estimator_doc_link.fitted {\n  /* fitted */\n  border: var(--sklearn-color-fitted-level-1) 1pt solid;\n  color: var(--sklearn-color-fitted-level-1);\n}\n\n/* On hover */\n#sk-container-id-6 a.estimator_doc_link:hover {\n  /* unfitted */\n  background-color: var(--sklearn-color-unfitted-level-3);\n  color: var(--sklearn-color-background);\n  text-decoration: none;\n}\n\n#sk-container-id-6 a.estimator_doc_link.fitted:hover {\n  /* fitted */\n  background-color: var(--sklearn-color-fitted-level-3);\n}\n</style><div id=\"sk-container-id-6\" class=\"sk-top-container\"><div class=\"sk-text-repr-fallback\"><pre>RandomForestClassifier(max_depth=6, random_state=42)</pre><b>In a Jupyter environment, please rerun this cell to show the HTML representation or trust the notebook. <br />On GitHub, the HTML representation is unable to render, please try loading this page with nbviewer.org.</b></div><div class=\"sk-container\" hidden><div class=\"sk-item\"><div class=\"sk-estimator fitted sk-toggleable\"><input class=\"sk-toggleable__control sk-hidden--visually\" id=\"sk-estimator-id-6\" type=\"checkbox\" checked><label for=\"sk-estimator-id-6\" class=\"sk-toggleable__label fitted sk-toggleable__label-arrow fitted\">&nbsp;&nbsp;RandomForestClassifier<a class=\"sk-estimator-doc-link fitted\" rel=\"noreferrer\" target=\"_blank\" href=\"https://scikit-learn.org/1.4/modules/generated/sklearn.ensemble.RandomForestClassifier.html\">?<span>Documentation for RandomForestClassifier</span></a><span class=\"sk-estimator-doc-link fitted\">i<span>Fitted</span></span></label><div class=\"sk-toggleable__content fitted\"><pre>RandomForestClassifier(max_depth=6, random_state=42)</pre></div> </div></div></div></div>"
     },
     "execution_count": 164,
     "metadata": {},
     "output_type": "execute_result"
    }
   ],
   "source": [
    "X_train, X_test, y_train, y_test = train_test_split(train.drop(columns=[\"clientbankpartner_pin\", \"partnerrolestart_date\", \"target\"]), train[\"target\"], train_size=0.8, random_state=42)\n",
    "\n",
    "classifier = RandomForestClassifier(max_depth=6, n_estimators=100, random_state=42)\n",
    "\n",
    "classifier.fit(X_train, y_train)"
   ],
   "metadata": {
    "collapsed": false,
    "ExecuteTime": {
     "end_time": "2024-05-16T08:59:44.774135400Z",
     "start_time": "2024-05-16T08:59:44.316809500Z"
    }
   }
  },
  {
   "cell_type": "code",
   "execution_count": 165,
   "outputs": [
    {
     "data": {
      "text/plain": "0.8673588758641213"
     },
     "execution_count": 165,
     "metadata": {},
     "output_type": "execute_result"
    }
   ],
   "source": [
    "roc_auc_score(y_test, classifier.predict_proba(X_test)[:, 1])"
   ],
   "metadata": {
    "collapsed": false,
    "ExecuteTime": {
     "end_time": "2024-05-16T08:59:44.791208400Z",
     "start_time": "2024-05-16T08:59:44.774135400Z"
    }
   }
  },
  {
   "cell_type": "code",
   "execution_count": 166,
   "outputs": [
    {
     "name": "stdout",
     "output_type": "stream",
     "text": [
      "[ 1  5  9  1 14  1  7 28 35 34 33 31 32 36 27 26 18 15  8  1  1  1  1  1\n",
      "  1  4  1 38  1  1  1  1  1  1  1  1  1  2  1  1  1  1  1  1 12 39 30 40\n",
      " 37 29 17 23 25 20 24 22 16 21 13  6 10 11  3  1  1  1  1  1  1  1  1  1\n",
      "  1  1  1  1  1 19]\n"
     ]
    },
    {
     "data": {
      "text/plain": "Index(['day_0', 'day_3', 'day_5', '13', '14', '15', '16', '17', '18',\n       'partnerrolestart_date_month', 'partnerrolestart_date_dayofweek',\n       'clients_count', 'days_after_partnership', 'active_months',\n       'last_active_month_ago', 'avg_clients_monthly',\n       'median_clients_monthly', 'std_clients_monthly', 'var_clients_monthly',\n       'max_zero_month', 'is_any_1_month', 'is_any_2_month', 'is_any_3_month',\n       'last_month_to_avg', 'last_month_to_all', '14-13', '15-14', '16-15',\n       '17-16', '18-17', 'max_diff', 'min_diff', 'avg_weekdays',\n       'median_weekdays', 'std_weekdays', 'var_weekdays', 'weekday2weekends',\n       'weekday2all', 'weekends2all'],\n      dtype='object')"
     },
     "execution_count": 166,
     "metadata": {},
     "output_type": "execute_result"
    }
   ],
   "source": [
    "rfe = RFE(classifier, n_features_to_select= None)  # Отбор признаков\n",
    "rfe = rfe.fit(X_train, y_train)\n",
    "print(rfe.ranking_)\n",
    "X_train.columns[rfe.support_]"
   ],
   "metadata": {
    "collapsed": false,
    "ExecuteTime": {
     "end_time": "2024-05-16T09:00:02.442587200Z",
     "start_time": "2024-05-16T08:59:44.795202400Z"
    }
   }
  },
  {
   "cell_type": "code",
   "execution_count": 167,
   "outputs": [],
   "source": [
    "def hill_climbing(x, y, x_test):\n",
    "    # Evaluating oof predictions\n",
    "    scores = {}\n",
    "    for col in x.columns:\n",
    "        scores[col] = roc_auc_score(y, x[col])\n",
    "\n",
    "    # Sorting the model scores\n",
    "    scores = {k: v for k, v in sorted(scores.items(), key = lambda item: item[1], reverse = True)}\n",
    "\n",
    "    # Sort oof_df and test_preds\n",
    "    x = x[list(scores.keys())]\n",
    "    x_test = x_test[list(scores.keys())]\n",
    "\n",
    "    STOP = False\n",
    "    current_best_ensemble = x.iloc[:,0]\n",
    "    current_best_test_preds = x_test.iloc[:,0]\n",
    "    MODELS = x.iloc[:,1:]\n",
    "    weight_range = np.arange(-0.5, 0.51, 0.01) \n",
    "    history = [roc_auc_score(y, current_best_ensemble)]\n",
    "    j = 0\n",
    "\n",
    "    while not STOP:\n",
    "        j += 1\n",
    "        potential_new_best_cv_score = roc_auc_score(y, current_best_ensemble)\n",
    "        k_best, wgt_best = None, None\n",
    "        for k in MODELS:\n",
    "            for wgt in weight_range:\n",
    "                potential_ensemble = (1 - wgt) * current_best_ensemble + wgt * MODELS[k]\n",
    "                cv_score = roc_auc_score(y, potential_ensemble)\n",
    "                if cv_score > potential_new_best_cv_score:\n",
    "                    potential_new_best_cv_score = cv_score\n",
    "                    k_best, wgt_best = k, wgt\n",
    "\n",
    "        if k_best is not None:\n",
    "            current_best_ensemble = (1 - wgt_best) * current_best_ensemble + wgt_best * MODELS[k_best]\n",
    "            current_best_test_preds = (1 - wgt_best) * current_best_test_preds + wgt_best * x_test[k_best]\n",
    "            MODELS.drop(k_best, axis = 1, inplace = True)\n",
    "            if MODELS.shape[1] == 0:\n",
    "                STOP = True\n",
    "            history.append(potential_new_best_cv_score)\n",
    "        else:\n",
    "            STOP = True\n",
    "        \n",
    "    hill_ens_pred_1 = current_best_ensemble\n",
    "    hill_ens_pred_2 = current_best_test_preds\n",
    "    \n",
    "    return [hill_ens_pred_1, hill_ens_pred_2]"
   ],
   "metadata": {
    "collapsed": false,
    "ExecuteTime": {
     "end_time": "2024-05-16T09:00:02.457217900Z",
     "start_time": "2024-05-16T09:00:02.447087300Z"
    }
   }
  },
  {
   "cell_type": "code",
   "execution_count": 168,
   "outputs": [],
   "source": [
    "import sys, os\n",
    "original_stdout = sys.stdout"
   ],
   "metadata": {
    "collapsed": false,
    "ExecuteTime": {
     "end_time": "2024-05-16T09:00:02.457217900Z",
     "start_time": "2024-05-16T09:00:02.452158600Z"
    }
   }
  },
  {
   "cell_type": "code",
   "execution_count": 169,
   "outputs": [
    {
     "name": "stdout",
     "output_type": "stream",
     "text": [
      "----------------------------------------------------------\n",
      "Fold 0 ==> XG without one hot oof ROC-AUC score is ==> 0.8558773555761507\n",
      "Fold 0 ==> XG with one hot oof ROC-AUC score is ==> 0.8597389558232931\n",
      "Fold 0 ==> LightGBM oof ROC-AUC score is ==> 0.8536994130367623\n",
      "Fold 0 ==> LightGBM without cat features oof ROC-AUC score is ==> 0.8449876428792092\n",
      "Fold 0 ==> Logreg with RFE oof ROC-AUC score is ==> 0.8613453815261044\n",
      "Fold 0 ==> RF with RFE oof ROC-AUC score is ==> 0.8557228915662651\n",
      "Fold 0 ==> KNN with RFE oof ROC-AUC score is ==> 0.8239650911337658\n",
      "Fold 0 ==> Average Ensemble oof ROC-AUC score is ==> 0.8605112758727216\n",
      "Fold 0 ==> Hill Climbing Ensemble oof ROC-AUC score is ==> 0.8671068890948409\n",
      "----------------------------------------------------------\n",
      "Fold 1 ==> XG without one hot oof ROC-AUC score is ==> 0.8429619581971762\n",
      "Fold 1 ==> XG with one hot oof ROC-AUC score is ==> 0.8481873111782476\n",
      "Fold 1 ==> LightGBM oof ROC-AUC score is ==> 0.8480331709723165\n",
      "Fold 1 ==> LightGBM without cat features oof ROC-AUC score is ==> 0.8399331031506259\n",
      "Fold 1 ==> Logreg with RFE oof ROC-AUC score is ==> 0.8442336148961096\n",
      "Fold 1 ==> RF with RFE oof ROC-AUC score is ==> 0.8451199210802146\n",
      "Fold 1 ==> KNN with RFE oof ROC-AUC score is ==> 0.8030627658918553\n",
      "Fold 1 ==> Average Ensemble oof ROC-AUC score is ==> 0.8489888402490906\n",
      "Fold 1 ==> Hill Climbing Ensemble oof ROC-AUC score is ==> 0.8525494790061041\n",
      "----------------------------------------------------------\n",
      "Fold 2 ==> XG without one hot oof ROC-AUC score is ==> 0.8841867562735064\n",
      "Fold 2 ==> XG with one hot oof ROC-AUC score is ==> 0.8832156729761391\n",
      "Fold 2 ==> LightGBM oof ROC-AUC score is ==> 0.8848726801899007\n",
      "Fold 2 ==> LightGBM without cat features oof ROC-AUC score is ==> 0.8773891731919354\n",
      "Fold 2 ==> Logreg with RFE oof ROC-AUC score is ==> 0.8885180960601764\n",
      "Fold 2 ==> RF with RFE oof ROC-AUC score is ==> 0.8858745915284543\n",
      "Fold 2 ==> KNN with RFE oof ROC-AUC score is ==> 0.8423145693322646\n",
      "Fold 2 ==> Average Ensemble oof ROC-AUC score is ==> 0.8863909612183242\n",
      "Fold 2 ==> Hill Climbing Ensemble oof ROC-AUC score is ==> 0.8904063135828348\n",
      "----------------------------------------------------------\n",
      "Fold 3 ==> XG without one hot oof ROC-AUC score is ==> 0.833667303779518\n",
      "Fold 3 ==> XG with one hot oof ROC-AUC score is ==> 0.8369042481040756\n",
      "Fold 3 ==> LightGBM oof ROC-AUC score is ==> 0.8341605524384981\n",
      "Fold 3 ==> LightGBM without cat features oof ROC-AUC score is ==> 0.8350083235711203\n",
      "Fold 3 ==> Logreg with RFE oof ROC-AUC score is ==> 0.8374052037733523\n",
      "Fold 3 ==> RF with RFE oof ROC-AUC score is ==> 0.8286192120352671\n",
      "Fold 3 ==> KNN with RFE oof ROC-AUC score is ==> 0.8126579937110796\n",
      "Fold 3 ==> Average Ensemble oof ROC-AUC score is ==> 0.8377982612984771\n",
      "Fold 3 ==> Hill Climbing Ensemble oof ROC-AUC score is ==> 0.8416209384055737\n",
      "----------------------------------------------------------\n",
      "Fold 4 ==> XG without one hot oof ROC-AUC score is ==> 0.8414359701584562\n",
      "Fold 4 ==> XG with one hot oof ROC-AUC score is ==> 0.8472008138602872\n",
      "Fold 4 ==> LightGBM oof ROC-AUC score is ==> 0.8405804920155374\n",
      "Fold 4 ==> LightGBM without cat features oof ROC-AUC score is ==> 0.8376980701646218\n",
      "Fold 4 ==> Logreg with RFE oof ROC-AUC score is ==> 0.837035267279117\n",
      "Fold 4 ==> RF with RFE oof ROC-AUC score is ==> 0.8375285159380974\n",
      "Fold 4 ==> KNN with RFE oof ROC-AUC score is ==> 0.803563721561132\n",
      "Fold 4 ==> Average Ensemble oof ROC-AUC score is ==> 0.8429619581971761\n",
      "Fold 4 ==> Hill Climbing Ensemble oof ROC-AUC score is ==> 0.8512855293174671\n",
      "----------------------------------------------------------\n",
      "Fold 5 ==> XG without one hot oof ROC-AUC score is ==> 0.8898752808118366\n",
      "Fold 5 ==> XG with one hot oof ROC-AUC score is ==> 0.8907893717561393\n",
      "Fold 5 ==> LightGBM oof ROC-AUC score is ==> 0.8918041676349834\n",
      "Fold 5 ==> LightGBM without cat features oof ROC-AUC score is ==> 0.8888062591990085\n",
      "Fold 5 ==> Logreg with RFE oof ROC-AUC score is ==> 0.8832287551320783\n",
      "Fold 5 ==> RF with RFE oof ROC-AUC score is ==> 0.8869703307769772\n",
      "Fold 5 ==> KNN with RFE oof ROC-AUC score is ==> 0.8384847780618174\n",
      "Fold 5 ==> Average Ensemble oof ROC-AUC score is ==> 0.8914865597645055\n",
      "Fold 5 ==> Hill Climbing Ensemble oof ROC-AUC score is ==> 0.8968936400960571\n",
      "----------------------------------------------------------\n",
      "Fold 6 ==> XG without one hot oof ROC-AUC score is ==> 0.8705476799132389\n",
      "Fold 6 ==> XG with one hot oof ROC-AUC score is ==> 0.8703230304438765\n",
      "Fold 6 ==> LightGBM oof ROC-AUC score is ==> 0.8750251762336355\n",
      "Fold 6 ==> LightGBM without cat features oof ROC-AUC score is ==> 0.8695251375009684\n",
      "Fold 6 ==> Logreg with RFE oof ROC-AUC score is ==> 0.8639553799674645\n",
      "Fold 6 ==> RF with RFE oof ROC-AUC score is ==> 0.870392749244713\n",
      "Fold 6 ==> KNN with RFE oof ROC-AUC score is ==> 0.8316290959795491\n",
      "Fold 6 ==> Average Ensemble oof ROC-AUC score is ==> 0.8728174142071423\n",
      "Fold 6 ==> Hill Climbing Ensemble oof ROC-AUC score is ==> 0.877031528391045\n",
      "----------------------------------------------------------\n",
      "Fold 7 ==> XG without one hot oof ROC-AUC score is ==> 0.854008831048106\n",
      "Fold 7 ==> XG with one hot oof ROC-AUC score is ==> 0.8592145015105741\n",
      "Fold 7 ==> LightGBM oof ROC-AUC score is ==> 0.8570454721512123\n",
      "Fold 7 ==> LightGBM without cat features oof ROC-AUC score is ==> 0.848431326981176\n",
      "Fold 7 ==> Logreg with RFE oof ROC-AUC score is ==> 0.8597257727167094\n",
      "Fold 7 ==> RF with RFE oof ROC-AUC score is ==> 0.8534200945077078\n",
      "Fold 7 ==> KNN with RFE oof ROC-AUC score is ==> 0.8150979936478426\n",
      "Fold 7 ==> Average Ensemble oof ROC-AUC score is ==> 0.8583313966999769\n",
      "Fold 7 ==> Hill Climbing Ensemble oof ROC-AUC score is ==> 0.863831435432644\n",
      "----------------------------------------------------------\n",
      "Fold 8 ==> XG without one hot oof ROC-AUC score is ==> 0.8657835618560694\n",
      "Fold 8 ==> XG with one hot oof ROC-AUC score is ==> 0.8664032845301727\n",
      "Fold 8 ==> LightGBM oof ROC-AUC score is ==> 0.8639553799674646\n",
      "Fold 8 ==> LightGBM without cat features oof ROC-AUC score is ==> 0.862026493144318\n",
      "Fold 8 ==> Logreg with RFE oof ROC-AUC score is ==> 0.8643194670385002\n",
      "Fold 8 ==> RF with RFE oof ROC-AUC score is ==> 0.8582306917654351\n",
      "Fold 8 ==> KNN with RFE oof ROC-AUC score is ==> 0.8173832210085986\n",
      "Fold 8 ==> Average Ensemble oof ROC-AUC score is ==> 0.8653652490510495\n",
      "Fold 8 ==> Hill Climbing Ensemble oof ROC-AUC score is ==> 0.8683554109535984\n",
      "----------------------------------------------------------\n",
      "Fold 9 ==> XG without one hot oof ROC-AUC score is ==> 0.8843984816794485\n",
      "Fold 9 ==> XG with one hot oof ROC-AUC score is ==> 0.8793477418855064\n",
      "Fold 9 ==> LightGBM oof ROC-AUC score is ==> 0.8804477496320396\n",
      "Fold 9 ==> LightGBM without cat features oof ROC-AUC score is ==> 0.8801688744286932\n",
      "Fold 9 ==> Logreg with RFE oof ROC-AUC score is ==> 0.8761019443798901\n",
      "Fold 9 ==> RF with RFE oof ROC-AUC score is ==> 0.8781547757378574\n",
      "Fold 9 ==> KNN with RFE oof ROC-AUC score is ==> 0.8385002711286699\n",
      "Fold 9 ==> Average Ensemble oof ROC-AUC score is ==> 0.8819195909830351\n",
      "Fold 9 ==> Hill Climbing Ensemble oof ROC-AUC score is ==> 0.8864125803702843\n",
      "----------------------------------------------------------\n",
      "Fold 10 ==> XG without one hot oof ROC-AUC score is ==> 0.8454721512123324\n",
      "Fold 10 ==> XG with one hot oof ROC-AUC score is ==> 0.8456270818808583\n",
      "Fold 10 ==> LightGBM oof ROC-AUC score is ==> 0.8460144085521729\n",
      "Fold 10 ==> LightGBM without cat features oof ROC-AUC score is ==> 0.8425749477108995\n",
      "Fold 10 ==> Logreg with RFE oof ROC-AUC score is ==> 0.8446277790688668\n",
      "Fold 10 ==> RF with RFE oof ROC-AUC score is ==> 0.8375242079169571\n",
      "Fold 10 ==> KNN with RFE oof ROC-AUC score is ==> 0.8064451158106747\n",
      "Fold 10 ==> Average Ensemble oof ROC-AUC score is ==> 0.845991168951894\n",
      "Fold 10 ==> Hill Climbing Ensemble oof ROC-AUC score is ==> 0.8501897900689444\n",
      "----------------------------------------------------------\n",
      "Fold 11 ==> XG without one hot oof ROC-AUC score is ==> 0.8435432643891858\n",
      "Fold 11 ==> XG with one hot oof ROC-AUC score is ==> 0.8466418777597025\n",
      "Fold 11 ==> LightGBM oof ROC-AUC score is ==> 0.8461151134867148\n",
      "Fold 11 ==> LightGBM without cat features oof ROC-AUC score is ==> 0.8398559144782709\n",
      "Fold 11 ==> Logreg with RFE oof ROC-AUC score is ==> 0.8347354558834921\n",
      "Fold 11 ==> RF with RFE oof ROC-AUC score is ==> 0.8417538151677124\n",
      "Fold 11 ==> KNN with RFE oof ROC-AUC score is ==> 0.8182895654194748\n",
      "Fold 11 ==> Average Ensemble oof ROC-AUC score is ==> 0.8462390580215354\n",
      "Fold 11 ==> Hill Climbing Ensemble oof ROC-AUC score is ==> 0.8478658300410566\n",
      "----------------------------------------------------------\n",
      "Fold 12 ==> XG without one hot oof ROC-AUC score is ==> 0.8659152529243164\n",
      "Fold 12 ==> XG with one hot oof ROC-AUC score is ==> 0.86287861182121\n",
      "Fold 12 ==> LightGBM oof ROC-AUC score is ==> 0.8646060887752731\n",
      "Fold 12 ==> LightGBM without cat features oof ROC-AUC score is ==> 0.8653342629173445\n",
      "Fold 12 ==> Logreg with RFE oof ROC-AUC score is ==> 0.8488806259199009\n",
      "Fold 12 ==> RF with RFE oof ROC-AUC score is ==> 0.8619257882097762\n",
      "Fold 12 ==> KNN with RFE oof ROC-AUC score is ==> 0.8303199318305058\n",
      "Fold 12 ==> Average Ensemble oof ROC-AUC score is ==> 0.8632039662251142\n",
      "Fold 12 ==> Hill Climbing Ensemble oof ROC-AUC score is ==> 0.8684096366875823\n",
      "----------------------------------------------------------\n",
      "Fold 13 ==> XG without one hot oof ROC-AUC score is ==> 0.8545665814547991\n",
      "Fold 13 ==> XG with one hot oof ROC-AUC score is ==> 0.8529553025021301\n",
      "Fold 13 ==> LightGBM oof ROC-AUC score is ==> 0.850871485010458\n",
      "Fold 13 ==> LightGBM without cat features oof ROC-AUC score is ==> 0.8495778139282671\n",
      "Fold 13 ==> Logreg with RFE oof ROC-AUC score is ==> 0.8501665504686653\n",
      "Fold 13 ==> RF with RFE oof ROC-AUC score is ==> 0.8420404369044853\n",
      "Fold 13 ==> KNN with RFE oof ROC-AUC score is ==> 0.8039972112479665\n",
      "Fold 13 ==> Average Ensemble oof ROC-AUC score is ==> 0.8525679758308158\n",
      "Fold 13 ==> Hill Climbing Ensemble oof ROC-AUC score is ==> 0.8596483073824464\n",
      "----------------------------------------------------------\n",
      "Fold 14 ==> XG without one hot oof ROC-AUC score is ==> 0.8794871794871795\n",
      "Fold 14 ==> XG with one hot oof ROC-AUC score is ==> 0.8771167402587342\n",
      "Fold 14 ==> LightGBM oof ROC-AUC score is ==> 0.8777519559996901\n",
      "Fold 14 ==> LightGBM without cat features oof ROC-AUC score is ==> 0.877108993725308\n",
      "Fold 14 ==> Logreg with RFE oof ROC-AUC score is ==> 0.871585715392362\n",
      "Fold 14 ==> RF with RFE oof ROC-AUC score is ==> 0.877349136261523\n",
      "Fold 14 ==> KNN with RFE oof ROC-AUC score is ==> 0.8495545743279882\n",
      "Fold 14 ==> Average Ensemble oof ROC-AUC score is ==> 0.8773801223952282\n",
      "Fold 14 ==> Hill Climbing Ensemble oof ROC-AUC score is ==> 0.8803083120303664\n",
      "----------------------------------------------------------\n",
      "Fold 15 ==> XG without one hot oof ROC-AUC score is ==> 0.8577386468952733\n",
      "Fold 15 ==> XG with one hot oof ROC-AUC score is ==> 0.8591519925857275\n",
      "Fold 15 ==> LightGBM oof ROC-AUC score is ==> 0.8518458449181341\n",
      "Fold 15 ==> LightGBM without cat features oof ROC-AUC score is ==> 0.8470729070126659\n",
      "Fold 15 ==> Logreg with RFE oof ROC-AUC score is ==> 0.8616620327463701\n",
      "Fold 15 ==> RF with RFE oof ROC-AUC score is ==> 0.8547961075069509\n",
      "Fold 15 ==> KNN with RFE oof ROC-AUC score is ==> 0.8033904850169911\n",
      "Fold 15 ==> Average Ensemble oof ROC-AUC score is ==> 0.8586731541550818\n",
      "Fold 15 ==> Hill Climbing Ensemble oof ROC-AUC score is ==> 0.8704587581093605\n",
      "----------------------------------------------------------\n",
      "Fold 16 ==> XG without one hot oof ROC-AUC score is ==> 0.8191781244219742\n",
      "Fold 16 ==> XG with one hot oof ROC-AUC score is ==> 0.8193476786484986\n",
      "Fold 16 ==> LightGBM oof ROC-AUC score is ==> 0.8198717553486652\n",
      "Fold 16 ==> LightGBM without cat features oof ROC-AUC score is ==> 0.8162802885504655\n",
      "Fold 16 ==> Logreg with RFE oof ROC-AUC score is ==> 0.8108930883531661\n",
      "Fold 16 ==> RF with RFE oof ROC-AUC score is ==> 0.8152706702016155\n",
      "Fold 16 ==> KNN with RFE oof ROC-AUC score is ==> 0.7835717368518403\n",
      "Fold 16 ==> Average Ensemble oof ROC-AUC score is ==> 0.8201183796781554\n",
      "Fold 16 ==> Hill Climbing Ensemble oof ROC-AUC score is ==> 0.8227387631789876\n",
      "----------------------------------------------------------\n",
      "Fold 17 ==> XG without one hot oof ROC-AUC score is ==> 0.8521795425118688\n",
      "Fold 17 ==> XG with one hot oof ROC-AUC score is ==> 0.8506073124113693\n",
      "Fold 17 ==> LightGBM oof ROC-AUC score is ==> 0.8523490967383933\n",
      "Fold 17 ==> LightGBM without cat features oof ROC-AUC score is ==> 0.8453588383994081\n",
      "Fold 17 ==> Logreg with RFE oof ROC-AUC score is ==> 0.851732535914668\n",
      "Fold 17 ==> RF with RFE oof ROC-AUC score is ==> 0.8505148282878107\n",
      "Fold 17 ==> KNN with RFE oof ROC-AUC score is ==> 0.8177600345274061\n",
      "Fold 17 ==> Average Ensemble oof ROC-AUC score is ==> 0.8534280781799125\n",
      "Fold 17 ==> Hill Climbing Ensemble oof ROC-AUC score is ==> 0.8557401812688822\n",
      "----------------------------------------------------------\n",
      "Fold 18 ==> XG without one hot oof ROC-AUC score is ==> 0.870545348048585\n",
      "Fold 18 ==> XG with one hot oof ROC-AUC score is ==> 0.8710694247487516\n",
      "Fold 18 ==> LightGBM oof ROC-AUC score is ==> 0.8681176398051669\n",
      "Fold 18 ==> LightGBM without cat features oof ROC-AUC score is ==> 0.8678633084653801\n",
      "Fold 18 ==> Logreg with RFE oof ROC-AUC score is ==> 0.8602564893026696\n",
      "Fold 18 ==> RF with RFE oof ROC-AUC score is ==> 0.8628229237314262\n",
      "Fold 18 ==> KNN with RFE oof ROC-AUC score is ==> 0.8281028423453973\n",
      "Fold 18 ==> Average Ensemble oof ROC-AUC score is ==> 0.8686494235156299\n",
      "Fold 18 ==> Hill Climbing Ensemble oof ROC-AUC score is ==> 0.8729345212405204\n",
      "----------------------------------------------------------\n",
      "Fold 19 ==> XG without one hot oof ROC-AUC score is ==> 0.882683889265676\n",
      "Fold 19 ==> XG with one hot oof ROC-AUC score is ==> 0.8803717861767063\n",
      "Fold 19 ==> LightGBM oof ROC-AUC score is ==> 0.8782677723657438\n",
      "Fold 19 ==> LightGBM without cat features oof ROC-AUC score is ==> 0.8773583451507491\n",
      "Fold 19 ==> Logreg with RFE oof ROC-AUC score is ==> 0.8730732474258586\n",
      "Fold 19 ==> RF with RFE oof ROC-AUC score is ==> 0.8751541402059314\n",
      "Fold 19 ==> KNN with RFE oof ROC-AUC score is ==> 0.8539213268388928\n",
      "Fold 19 ==> Average Ensemble oof ROC-AUC score is ==> 0.880202231950182\n",
      "Fold 19 ==> Hill Climbing Ensemble oof ROC-AUC score is ==> 0.8848110241075282\n",
      "----------------------------------------------------------\n",
      "Fold 20 ==> XG without one hot oof ROC-AUC score is ==> 0.8519327600898599\n",
      "Fold 20 ==> XG with one hot oof ROC-AUC score is ==> 0.8488496397861959\n",
      "Fold 20 ==> LightGBM oof ROC-AUC score is ==> 0.8514137423502982\n",
      "Fold 20 ==> LightGBM without cat features oof ROC-AUC score is ==> 0.8475404756371524\n",
      "Fold 20 ==> Logreg with RFE oof ROC-AUC score is ==> 0.8460763808195833\n",
      "Fold 20 ==> RF with RFE oof ROC-AUC score is ==> 0.8433108683863971\n",
      "Fold 20 ==> KNN with RFE oof ROC-AUC score is ==> 0.8185219614222635\n",
      "Fold 20 ==> Average Ensemble oof ROC-AUC score is ==> 0.8513750096831668\n",
      "Fold 20 ==> Hill Climbing Ensemble oof ROC-AUC score is ==> 0.8545665814547989\n",
      "----------------------------------------------------------\n",
      "Fold 21 ==> XG without one hot oof ROC-AUC score is ==> 0.8542877062514524\n",
      "Fold 21 ==> XG with one hot oof ROC-AUC score is ==> 0.8545510883879464\n",
      "Fold 21 ==> LightGBM oof ROC-AUC score is ==> 0.855201797195755\n",
      "Fold 21 ==> LightGBM without cat features oof ROC-AUC score is ==> 0.8513362770160353\n",
      "Fold 21 ==> Logreg with RFE oof ROC-AUC score is ==> 0.8600821132543187\n",
      "Fold 21 ==> RF with RFE oof ROC-AUC score is ==> 0.8599659152529242\n",
      "Fold 21 ==> KNN with RFE oof ROC-AUC score is ==> 0.8039507320474089\n",
      "Fold 21 ==> Average Ensemble oof ROC-AUC score is ==> 0.8582074521651561\n",
      "Fold 21 ==> Hill Climbing Ensemble oof ROC-AUC score is ==> 0.8663722983964677\n",
      "----------------------------------------------------------\n",
      "Fold 22 ==> XG without one hot oof ROC-AUC score is ==> 0.8490897823224108\n",
      "Fold 22 ==> XG with one hot oof ROC-AUC score is ==> 0.8431404446510187\n",
      "Fold 22 ==> LightGBM oof ROC-AUC score is ==> 0.8458129986830893\n",
      "Fold 22 ==> LightGBM without cat features oof ROC-AUC score is ==> 0.8445967929351615\n",
      "Fold 22 ==> Logreg with RFE oof ROC-AUC score is ==> 0.8457122937485476\n",
      "Fold 22 ==> RF with RFE oof ROC-AUC score is ==> 0.8446587652025719\n",
      "Fold 22 ==> KNN with RFE oof ROC-AUC score is ==> 0.795166163141994\n",
      "Fold 22 ==> Average Ensemble oof ROC-AUC score is ==> 0.8474320241691844\n",
      "Fold 22 ==> Hill Climbing Ensemble oof ROC-AUC score is ==> 0.8547447517236036\n",
      "----------------------------------------------------------\n",
      "Fold 23 ==> XG without one hot oof ROC-AUC score is ==> 0.8916337438996049\n",
      "Fold 23 ==> XG with one hot oof ROC-AUC score is ==> 0.8929041753815168\n",
      "Fold 23 ==> LightGBM oof ROC-AUC score is ==> 0.8903013401502827\n",
      "Fold 23 ==> LightGBM without cat features oof ROC-AUC score is ==> 0.8877372375861801\n",
      "Fold 23 ==> Logreg with RFE oof ROC-AUC score is ==> 0.8935626307227515\n",
      "Fold 23 ==> RF with RFE oof ROC-AUC score is ==> 0.886590750639089\n",
      "Fold 23 ==> KNN with RFE oof ROC-AUC score is ==> 0.8355333488264003\n",
      "Fold 23 ==> Average Ensemble oof ROC-AUC score is ==> 0.8925943140444651\n",
      "Fold 23 ==> Hill Climbing Ensemble oof ROC-AUC score is ==> 0.8982647765125106\n",
      "----------------------------------------------------------\n",
      "Fold 24 ==> XG without one hot oof ROC-AUC score is ==> 0.8575489968239213\n",
      "Fold 24 ==> XG with one hot oof ROC-AUC score is ==> 0.8604462003253543\n",
      "Fold 24 ==> LightGBM oof ROC-AUC score is ==> 0.855256022929739\n",
      "Fold 24 ==> LightGBM without cat features oof ROC-AUC score is ==> 0.8499186613990238\n",
      "Fold 24 ==> Logreg with RFE oof ROC-AUC score is ==> 0.855124331861492\n",
      "Fold 24 ==> RF with RFE oof ROC-AUC score is ==> 0.8516306452862344\n",
      "Fold 24 ==> KNN with RFE oof ROC-AUC score is ==> 0.8263072275156867\n",
      "Fold 24 ==> Average Ensemble oof ROC-AUC score is ==> 0.8573011077542799\n",
      "Fold 24 ==> Hill Climbing Ensemble oof ROC-AUC score is ==> 0.8629250910217677\n",
      "----------------------------------------------------------\n",
      "Fold 25 ==> XG without one hot oof ROC-AUC score is ==> 0.8695328840343947\n",
      "Fold 25 ==> XG with one hot oof ROC-AUC score is ==> 0.8697342939034781\n",
      "Fold 25 ==> LightGBM oof ROC-AUC score is ==> 0.8674025873421642\n",
      "Fold 25 ==> LightGBM without cat features oof ROC-AUC score is ==> 0.8658222945232008\n",
      "Fold 25 ==> Logreg with RFE oof ROC-AUC score is ==> 0.8640948175691379\n",
      "Fold 25 ==> RF with RFE oof ROC-AUC score is ==> 0.8648617243783406\n",
      "Fold 25 ==> KNN with RFE oof ROC-AUC score is ==> 0.8333410798667596\n",
      "Fold 25 ==> Average Ensemble oof ROC-AUC score is ==> 0.868401890154156\n",
      "Fold 25 ==> Hill Climbing Ensemble oof ROC-AUC score is ==> 0.8716089549926408\n",
      "----------------------------------------------------------\n",
      "Fold 26 ==> XG without one hot oof ROC-AUC score is ==> 0.8681540010845147\n",
      "Fold 26 ==> XG with one hot oof ROC-AUC score is ==> 0.8648229917112091\n",
      "Fold 26 ==> LightGBM oof ROC-AUC score is ==> 0.8673173754744752\n",
      "Fold 26 ==> LightGBM without cat features oof ROC-AUC score is ==> 0.8684638624215664\n",
      "Fold 26 ==> Logreg with RFE oof ROC-AUC score is ==> 0.8541095359826476\n",
      "Fold 26 ==> RF with RFE oof ROC-AUC score is ==> 0.861654659539856\n",
      "Fold 26 ==> KNN with RFE oof ROC-AUC score is ==> 0.8295530250213029\n",
      "Fold 26 ==> Average Ensemble oof ROC-AUC score is ==> 0.8656131381206911\n",
      "Fold 26 ==> Hill Climbing Ensemble oof ROC-AUC score is ==> 0.8709892323185375\n",
      "----------------------------------------------------------\n",
      "Fold 27 ==> XG without one hot oof ROC-AUC score is ==> 0.8903942985513983\n",
      "Fold 27 ==> XG with one hot oof ROC-AUC score is ==> 0.89421333953056\n",
      "Fold 27 ==> LightGBM oof ROC-AUC score is ==> 0.8915175458982105\n",
      "Fold 27 ==> LightGBM without cat features oof ROC-AUC score is ==> 0.8842900302114803\n",
      "Fold 27 ==> Logreg with RFE oof ROC-AUC score is ==> 0.8877682237198853\n",
      "Fold 27 ==> RF with RFE oof ROC-AUC score is ==> 0.887303431714308\n",
      "Fold 27 ==> KNN with RFE oof ROC-AUC score is ==> 0.8577968858935625\n",
      "Fold 27 ==> Average Ensemble oof ROC-AUC score is ==> 0.8939809435277715\n",
      "Fold 27 ==> Hill Climbing Ensemble oof ROC-AUC score is ==> 0.8962119451545434\n",
      "----------------------------------------------------------\n",
      "Fold 28 ==> XG without one hot oof ROC-AUC score is ==> 0.8505383840731273\n",
      "Fold 28 ==> XG with one hot oof ROC-AUC score is ==> 0.8488341467193431\n",
      "Fold 28 ==> LightGBM oof ROC-AUC score is ==> 0.8492059803238051\n",
      "Fold 28 ==> LightGBM without cat features oof ROC-AUC score is ==> 0.8455728561468743\n",
      "Fold 28 ==> Logreg with RFE oof ROC-AUC score is ==> 0.8478580835076303\n",
      "Fold 28 ==> RF with RFE oof ROC-AUC score is ==> 0.846572158958866\n",
      "Fold 28 ==> KNN with RFE oof ROC-AUC score is ==> 0.813595166163142\n",
      "Fold 28 ==> Average Ensemble oof ROC-AUC score is ==> 0.8509876830118522\n",
      "Fold 28 ==> Hill Climbing Ensemble oof ROC-AUC score is ==> 0.8535595321093811\n",
      "----------------------------------------------------------\n",
      "Fold 29 ==> XG without one hot oof ROC-AUC score is ==> 0.8640715779688589\n",
      "Fold 29 ==> XG with one hot oof ROC-AUC score is ==> 0.864815245177783\n",
      "Fold 29 ==> LightGBM oof ROC-AUC score is ==> 0.8654349678518863\n",
      "Fold 29 ==> LightGBM without cat features oof ROC-AUC score is ==> 0.863490587961887\n",
      "Fold 29 ==> Logreg with RFE oof ROC-AUC score is ==> 0.8547757378573089\n",
      "Fold 29 ==> RF with RFE oof ROC-AUC score is ==> 0.8589123867069486\n",
      "Fold 29 ==> KNN with RFE oof ROC-AUC score is ==> 0.8356572933612209\n",
      "Fold 29 ==> Average Ensemble oof ROC-AUC score is ==> 0.8629715702223255\n",
      "Fold 29 ==> Hill Climbing Ensemble oof ROC-AUC score is ==> 0.8690293593616856\n"
     ]
    }
   ],
   "source": [
    "cat_features = ['partnerrolestart_date_year', 'partnerrolestart_date_month',\n",
    "                'partnerrolestart_date_day', '0_oh', '1_oh', '2_oh', '3_oh', '4_oh', '5_oh', 'active_in_weekends']\n",
    "\n",
    "one_hot_cols = ['0_oh', '1_oh', '3_oh', '4_oh', '5_oh']\n",
    "\n",
    "test_drop_cols = ['clientbankpartner_pin', 'partnerrolestart_date']\n",
    "if 'target' in test.columns:\n",
    "    test_drop_cols.append('target')\n",
    "\n",
    "ens_cv_scores, ens_preds = list(), list()\n",
    "hill_ens_cv_scores, hill_ens_preds = list(), list()\n",
    "ridge_ens_cv_scores, ridge_ens_preds = list(), list()\n",
    "hill_ens_cv_recall = list()\n",
    "\n",
    "X, y = train.drop(columns=[\"clientbankpartner_pin\", \"partnerrolestart_date\", \"target\"]), train[\"target\"]\n",
    "\n",
    "skf = RepeatedStratifiedKFold(n_splits=15, n_repeats=2, random_state=seed)\n",
    "for i, (train_index, test_index) in enumerate(skf.split(X, y)):\n",
    "    oof_preds = pd.DataFrame()\n",
    "    oof_test_preds = pd.DataFrame()\n",
    "    print('----------------------------------------------------------')\n",
    "    x_train_fold, x_test_fold = X.iloc[train_index], X.iloc[test_index]\n",
    "    y_train_fold, y_test_fold = y.iloc[train_index], y.iloc[test_index]\n",
    "\n",
    "    # XGBoost without one hot\n",
    "    xg_model_withount_oh = XGBClassifier(random_state=seed, **xg_params_without_oh)\n",
    "    xg_model_withount_oh.fit(x_train_fold.drop(columns=cat_features), y_train_fold,\n",
    "                             eval_set=[(x_test_fold.drop(columns=cat_features), y_test_fold)],\n",
    "                             eval_metric='auc',\n",
    "                             verbose=0)\n",
    "    xg_model_withount_oh_pred = xg_model_withount_oh.predict_proba(x_test_fold.drop(columns=cat_features))[:, 1]\n",
    "    xg_model_withount_oh_score = roc_auc_score(y_test_fold, xg_model_withount_oh_pred)\n",
    "    print('Fold', i, '==> XG without one hot oof ROC-AUC score is ==>', xg_model_withount_oh_score)\n",
    "    xg_model_withount_oh_test_pred = xg_model_withount_oh.predict_proba(\n",
    "        test.drop(columns=cat_features + test_drop_cols))[:, 1]\n",
    "\n",
    "    # XGBoost with one hot\n",
    "    xg = XGBClassifier(random_state=seed, **xg_params)\n",
    "    xg.fit(x_train_fold, y_train_fold,\n",
    "           eval_set=[(x_test_fold, y_test_fold)],\n",
    "           eval_metric='auc',\n",
    "           verbose=0)\n",
    "    xg_pred = xg.predict_proba(x_test_fold)[:, 1]\n",
    "    xg_score = roc_auc_score(y_test_fold, xg_pred)\n",
    "    print('Fold', i, '==> XG with one hot oof ROC-AUC score is ==>', xg_score)\n",
    "    xg_test_pred = xg.predict_proba(test.drop(columns=test_drop_cols))[:, 1]\n",
    "\n",
    "    # LightGBM with categorical features\n",
    "    sys.stdout = open(os.devnull, 'w')\n",
    "    li = LGBMClassifier(random_state=seed, **li_cat_features_params)\n",
    "    li.fit(x_train_fold, y_train_fold,\n",
    "           eval_set=[(x_test_fold, y_test_fold)],\n",
    "           categorical_feature=cat_features,\n",
    "           eval_metric='auc')\n",
    "    li_pred = li.predict_proba(x_test_fold)[:, 1]\n",
    "    li_score = roc_auc_score(y_test_fold, li_pred)\n",
    "    sys.stdout = original_stdout\n",
    "    print('Fold', i, '==> LightGBM oof ROC-AUC score is ==>', li_score)\n",
    "    li_test_pred = li.predict_proba(test.drop(columns=test_drop_cols))[:, 1]\n",
    "\n",
    "    # LightGBM without categorical features\n",
    "    sys.stdout = open(os.devnull, 'w')\n",
    "    li_withount_cat = LGBMClassifier(random_state=seed, **li_params)\n",
    "    li_withount_cat.fit(x_train_fold.drop(columns=cat_features), y_train_fold,\n",
    "                        eval_set=[(x_test_fold.drop(columns=cat_features), y_test_fold)],\n",
    "                        eval_metric='auc')\n",
    "    li_withount_cat_pred = li_withount_cat.predict_proba(x_test_fold.drop(columns=cat_features))[:, 1]\n",
    "    li_withount_cat_score = roc_auc_score(y_test_fold, li_withount_cat_pred)\n",
    "    sys.stdout = original_stdout\n",
    "    print('Fold', i, '==> LightGBM without cat features oof ROC-AUC score is ==>', li_withount_cat_score)\n",
    "    li_withount_cat_test_pred = li_withount_cat.predict_proba(test.drop(columns=cat_features + test_drop_cols))[:, 1]\n",
    "\n",
    "    # Logreg with rfe\n",
    "    logreg = LogisticRegression(random_state=seed)\n",
    "    logreg.fit(x_train_fold[x_train_fold.columns[rfe.support_]], y_train_fold)\n",
    "    logreg_pred = logreg.predict_proba(x_test_fold[x_train_fold.columns[rfe.support_]])[:, 1]\n",
    "    logreg_score = roc_auc_score(y_test_fold, logreg_pred)\n",
    "    print('Fold', i, '==> Logreg with RFE oof ROC-AUC score is ==>', logreg_score)\n",
    "    logreg_test_pred = logreg.predict_proba(test[x_train_fold.columns[rfe.support_]])[:, 1]\n",
    "\n",
    "    # RF with rfe\n",
    "    rf = RandomForestClassifier(n_estimators=100, max_depth=4, random_state=seed)\n",
    "    rf.fit(x_train_fold[x_train_fold.columns[rfe.support_]], y_train_fold)\n",
    "    rf_pred = rf.predict_proba(x_test_fold[x_train_fold.columns[rfe.support_]])[:, 1]\n",
    "    rf_score = roc_auc_score(y_test_fold, rf_pred)\n",
    "    print('Fold', i, '==> RF with RFE oof ROC-AUC score is ==>', rf_score)\n",
    "    rf_test_pred = rf.predict_proba(test[x_train_fold.columns[rfe.support_]])[:, 1]\n",
    "\n",
    "    # KNN with RFE\n",
    "    nn = KNeighborsClassifier(n_neighbors=15, weights=\"uniform\", algorithm=\"kd_tree\", p=1)\n",
    "    nn.fit(x_train_fold[x_train_fold.columns[rfe.support_]], y_train_fold)\n",
    "    nn_pred = nn.predict_proba(x_test_fold[x_train_fold.columns[rfe.support_]])[:, 1]\n",
    "    nn_score = roc_auc_score(y_test_fold, nn_pred)\n",
    "    print('Fold', i, '==> KNN with RFE oof ROC-AUC score is ==>', nn_score)\n",
    "    nn_test_pred = nn.predict_proba(test[x_train_fold.columns[rfe.support_]])[:, 1]\n",
    "\n",
    "    # Ensemble \n",
    "    ens_pred_1 = (xg_model_withount_oh_pred + xg_pred + li_pred + li_withount_cat_pred + logreg_pred + rf_pred) / 6\n",
    "    ens_pred_2 = (xg_model_withount_oh_test_pred + xg_test_pred + li_test_pred + li_withount_cat_test_pred + logreg_test_pred + rf_test_pred) / 6\n",
    "\n",
    "    ens_score_fold = roc_auc_score(y_test_fold, ens_pred_1)\n",
    "    ens_cv_scores.append(ens_score_fold)\n",
    "    ens_preds.append(ens_pred_2)\n",
    "    print('Fold', i, '==> Average Ensemble oof ROC-AUC score is ==>', ens_score_fold)\n",
    "\n",
    "    # Hill Climbing Ensemble\n",
    "    x = pd.DataFrame({'XGB_without_oh': xg_model_withount_oh_pred,\n",
    "                      'XGB': xg_pred,\n",
    "                      'LightGBM': li_pred,\n",
    "                      'LightGBM_without_cat': li_withount_cat_pred,\n",
    "                      'Logreg': logreg_pred,\n",
    "                      'rf': rf_pred,\n",
    "                      'Knn': nn_pred})\n",
    "    y_fold = y_test_fold\n",
    "\n",
    "    x_test = pd.DataFrame({'XGB_without_oh': xg_model_withount_oh_test_pred,\n",
    "                           'XGB': xg_test_pred,\n",
    "                           'LightGBM': li_test_pred,\n",
    "                           'LightGBM_without_cat': li_withount_cat_test_pred,\n",
    "                           'Logreg': logreg_test_pred,\n",
    "                           'rf': rf_test_pred,\n",
    "                           'Knn': nn_test_pred})\n",
    "\n",
    "    hill_results = hill_climbing(x, y_fold, x_test)\n",
    "\n",
    "    hill_ens_cv_recall.append((recall_score(y_fold, hill_results[0].apply(lambda x: 1 if x > 0.5 else 0))))\n",
    "    hill_ens_score_fold = roc_auc_score(y_fold, hill_results[0])\n",
    "    hill_ens_cv_scores.append(hill_ens_score_fold)\n",
    "    hill_ens_preds.append(hill_results[1])\n",
    "\n",
    "    print('Fold', i, '==> Hill Climbing Ensemble oof ROC-AUC score is ==>', hill_ens_score_fold)"
   ],
   "metadata": {
    "collapsed": false,
    "ExecuteTime": {
     "end_time": "2024-05-16T09:01:56.112216800Z",
     "start_time": "2024-05-16T09:00:02.468894600Z"
    }
   }
  },
  {
   "cell_type": "code",
   "execution_count": 170,
   "outputs": [
    {
     "name": "stdout",
     "output_type": "stream",
     "text": [
      "The average ensemble oof ROC-AUC score over the 30-folds is 0.8620630066432698\n",
      "The hill climbing ensemble oof ROC-AUC score over the 30-folds is 0.866895713060402\n",
      "The hill climbing ensemble oof recall score over the 30-folds is 0.9251983765879227\n"
     ]
    }
   ],
   "source": [
    "print('The average ensemble oof ROC-AUC score over the 30-folds is', np.mean(ens_cv_scores))\n",
    "print('The hill climbing ensemble oof ROC-AUC score over the 30-folds is', np.mean(hill_ens_cv_scores))\n",
    "print('The hill climbing ensemble oof recall score over the 30-folds is', np.mean(hill_ens_cv_recall))"
   ],
   "metadata": {
    "collapsed": false,
    "ExecuteTime": {
     "end_time": "2024-05-16T09:01:56.123588Z",
     "start_time": "2024-05-16T09:01:56.114549600Z"
    }
   }
  },
  {
   "cell_type": "code",
   "execution_count": 171,
   "outputs": [],
   "source": [
    "ens_preds_test = pd.DataFrame(hill_ens_preds).apply(np.mean, axis = 0).to_numpy()\n",
    "\n",
    "test['target'] = ens_preds_test"
   ],
   "metadata": {
    "collapsed": false,
    "ExecuteTime": {
     "end_time": "2024-05-16T09:01:56.305388600Z",
     "start_time": "2024-05-16T09:01:56.119069500Z"
    }
   }
  },
  {
   "cell_type": "code",
   "execution_count": 172,
   "outputs": [],
   "source": [
    "def f(x):  # Получение скора по clientbankpartner_pin\n",
    "    return test[test[\"clientbankpartner_pin\"] == x][\"target\"].values[0]\n",
    "\n",
    "\n",
    "sub_example[\"score\"] = sub_example[\"clientbankpartner_pin\"].apply(f)"
   ],
   "metadata": {
    "collapsed": false,
    "ExecuteTime": {
     "end_time": "2024-05-16T09:01:58.660586Z",
     "start_time": "2024-05-16T09:01:56.307390700Z"
    }
   }
  },
  {
   "cell_type": "code",
   "execution_count": 173,
   "outputs": [],
   "source": [
    "sub_example[\"score\"] = sub_example[\"score\"].apply(lambda x: max(0, x))"
   ],
   "metadata": {
    "collapsed": false,
    "ExecuteTime": {
     "end_time": "2024-05-16T09:01:58.672093Z",
     "start_time": "2024-05-16T09:01:58.661599500Z"
    }
   }
  },
  {
   "cell_type": "code",
   "execution_count": 174,
   "outputs": [],
   "source": [
    "sub_example.to_csv(\"submission.csv\", index=False)"
   ],
   "metadata": {
    "collapsed": false,
    "ExecuteTime": {
     "end_time": "2024-05-16T09:01:58.682653300Z",
     "start_time": "2024-05-16T09:01:58.667570100Z"
    }
   }
  },
  {
   "cell_type": "code",
   "execution_count": 137,
   "outputs": [
    {
     "data": {
      "text/plain": "      clientbankpartner_pin     score\n0                      6781  0.136036\n1                    236905  0.254557\n2                    125779  0.455794\n3                      1952  0.505101\n4                      4872  0.736105\n...                     ...       ...\n4503                 121120  0.666724\n4504                  60667  0.832322\n4505                   5065  0.839164\n4506                 133125  0.617758\n4507                 121963  0.776083\n\n[4508 rows x 2 columns]",
      "text/html": "<div>\n<style scoped>\n    .dataframe tbody tr th:only-of-type {\n        vertical-align: middle;\n    }\n\n    .dataframe tbody tr th {\n        vertical-align: top;\n    }\n\n    .dataframe thead th {\n        text-align: right;\n    }\n</style>\n<table border=\"1\" class=\"dataframe\">\n  <thead>\n    <tr style=\"text-align: right;\">\n      <th></th>\n      <th>clientbankpartner_pin</th>\n      <th>score</th>\n    </tr>\n  </thead>\n  <tbody>\n    <tr>\n      <th>0</th>\n      <td>6781</td>\n      <td>0.136036</td>\n    </tr>\n    <tr>\n      <th>1</th>\n      <td>236905</td>\n      <td>0.254557</td>\n    </tr>\n    <tr>\n      <th>2</th>\n      <td>125779</td>\n      <td>0.455794</td>\n    </tr>\n    <tr>\n      <th>3</th>\n      <td>1952</td>\n      <td>0.505101</td>\n    </tr>\n    <tr>\n      <th>4</th>\n      <td>4872</td>\n      <td>0.736105</td>\n    </tr>\n    <tr>\n      <th>...</th>\n      <td>...</td>\n      <td>...</td>\n    </tr>\n    <tr>\n      <th>4503</th>\n      <td>121120</td>\n      <td>0.666724</td>\n    </tr>\n    <tr>\n      <th>4504</th>\n      <td>60667</td>\n      <td>0.832322</td>\n    </tr>\n    <tr>\n      <th>4505</th>\n      <td>5065</td>\n      <td>0.839164</td>\n    </tr>\n    <tr>\n      <th>4506</th>\n      <td>133125</td>\n      <td>0.617758</td>\n    </tr>\n    <tr>\n      <th>4507</th>\n      <td>121963</td>\n      <td>0.776083</td>\n    </tr>\n  </tbody>\n</table>\n<p>4508 rows × 2 columns</p>\n</div>"
     },
     "execution_count": 137,
     "metadata": {},
     "output_type": "execute_result"
    }
   ],
   "source": [
    "sub_example"
   ],
   "metadata": {
    "collapsed": false,
    "ExecuteTime": {
     "end_time": "2024-05-16T08:50:10.533385Z",
     "start_time": "2024-05-16T08:50:10.516009200Z"
    }
   }
  },
  {
   "cell_type": "code",
   "execution_count": 68,
   "outputs": [],
   "source": [
    "# train.to_csv(\"train.csv\", index=False)"
   ],
   "metadata": {
    "collapsed": false,
    "ExecuteTime": {
     "end_time": "2024-05-15T22:35:58.816927500Z",
     "start_time": "2024-05-15T22:35:58.623451200Z"
    }
   }
  }
 ],
 "metadata": {
  "colab": {
   "collapsed_sections": [
    "wlwsAYiSk0oS",
    "niZyGzmv7WkC",
    "1cRlrw7nAbiM"
   ],
   "provenance": []
  },
  "kernelspec": {
   "name": "python3",
   "language": "python",
   "display_name": "Python 3 (ipykernel)"
  },
  "language_info": {
   "name": "python"
  }
 },
 "nbformat": 4,
 "nbformat_minor": 0
}
